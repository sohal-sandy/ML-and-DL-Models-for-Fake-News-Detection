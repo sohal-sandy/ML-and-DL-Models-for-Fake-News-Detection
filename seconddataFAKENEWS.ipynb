{
  "nbformat": 4,
  "nbformat_minor": 0,
  "metadata": {
    "colab": {
      "name": "seconddataFAKENEWS.ipynb",
      "provenance": [],
      "collapsed_sections": [],
      "machine_shape": "hm"
    },
    "kernelspec": {
      "name": "python3",
      "display_name": "Python 3"
    },
    "language_info": {
      "name": "python"
    },
    "accelerator": "GPU"
  },
  "cells": [
    {
      "cell_type": "markdown",
      "source": [
        "The Dataset is taken from the following Kaggle source:\n",
        "\n",
        "[2]\t“Fake news,” Kaggle. Available: https://www.kaggle.com/competitions/fakenews/data?select=submit.csv. "
      ],
      "metadata": {
        "id": "B2GltV7V2nqJ"
      }
    },
    {
      "cell_type": "code",
      "execution_count": 1,
      "metadata": {
        "colab": {
          "base_uri": "https://localhost:8080/"
        },
        "id": "eo4QIXLAFYIX",
        "outputId": "586de665-062a-4cda-d089-6cae4fb2611a"
      },
      "outputs": [
        {
          "output_type": "stream",
          "name": "stdout",
          "text": [
            "Fri Apr 29 17:57:09 2022       \n",
            "+-----------------------------------------------------------------------------+\n",
            "| NVIDIA-SMI 460.32.03    Driver Version: 460.32.03    CUDA Version: 11.2     |\n",
            "|-------------------------------+----------------------+----------------------+\n",
            "| GPU  Name        Persistence-M| Bus-Id        Disp.A | Volatile Uncorr. ECC |\n",
            "| Fan  Temp  Perf  Pwr:Usage/Cap|         Memory-Usage | GPU-Util  Compute M. |\n",
            "|                               |                      |               MIG M. |\n",
            "|===============================+======================+======================|\n",
            "|   0  Tesla P100-PCIE...  Off  | 00000000:00:04.0 Off |                    0 |\n",
            "| N/A   35C    P0    26W / 250W |      0MiB / 16280MiB |      0%      Default |\n",
            "|                               |                      |                  N/A |\n",
            "+-------------------------------+----------------------+----------------------+\n",
            "                                                                               \n",
            "+-----------------------------------------------------------------------------+\n",
            "| Processes:                                                                  |\n",
            "|  GPU   GI   CI        PID   Type   Process name                  GPU Memory |\n",
            "|        ID   ID                                                   Usage      |\n",
            "|=============================================================================|\n",
            "|  No running processes found                                                 |\n",
            "+-----------------------------------------------------------------------------+\n"
          ]
        }
      ],
      "source": [
        "gpu_info = !nvidia-smi\n",
        "gpu_info = '\\n'.join(gpu_info)\n",
        "if gpu_info.find('failed') >= 0:\n",
        "  print('Not connected to a GPU')\n",
        "else:\n",
        "  print(gpu_info)"
      ]
    },
    {
      "cell_type": "code",
      "source": [
        "import tensorflow as tf\n",
        "from tensorflow import keras\n",
        "from sklearn.model_selection import train_test_split\n",
        "\n",
        "from tensorflow.keras.models import Sequential\n",
        "from tensorflow.keras.layers import Activation, Dense, BatchNormalization, Dropout\n",
        "from tensorflow.keras import optimizers\n",
        "import matplotlib.pyplot as plt\n",
        "\n",
        "import numpy as np\n",
        "import pandas as pd\n",
        "import seaborn as sns\n",
        "\n",
        "\n",
        "from tensorflow.keras.metrics import categorical_crossentropy\n",
        "\n",
        "from sklearn.metrics import mean_squared_error, r2_score\n",
        "from sklearn.model_selection import train_test_split, cross_val_score\n",
        "\n",
        "import matplotlib\n",
        "from matplotlib import pyplot as plt\n",
        "import seaborn as sns\n",
        "from sklearn.preprocessing import StandardScaler\n",
        "\n",
        "from sklearn.metrics import mean_absolute_error\n",
        "\n",
        "#import natural language specific libraries\n",
        "import re\n",
        "import nltk\n",
        "nltk.download('stopwords')\n",
        "from nltk.corpus import stopwords\n",
        "from nltk.stem.porter import PorterStemmer\n",
        "from wordcloud import WordCloud,STOPWORDS\n",
        "from nltk.stem import WordNetLemmatizer\n",
        "from nltk.tokenize import word_tokenize,sent_tokenize\n",
        "from nltk.tokenize.toktok import ToktokTokenizer\n",
        "from nltk.stem import LancasterStemmer,WordNetLemmatizer\n",
        "from nltk import pos_tag\n",
        "from nltk.corpus import wordnet\n",
        "\n",
        "from sklearn.feature_extraction.text import CountVectorizer\n",
        "from sklearn.feature_extraction.text import TfidfVectorizer\n",
        "from sklearn.preprocessing import LabelBinarizer\n",
        "\n",
        "from string import punctuation\n",
        "import re,string,unicodedata\n",
        "\n",
        "\n",
        "import nltk\n",
        "nltk.download('punkt')\n",
        "\n",
        "#for reproducibility\n",
        "import random\n",
        "random.seed(10)\n",
        "print(random.random())\n",
        "\n",
        "\n",
        "\n",
        "import pandas as pd\n",
        "import numpy as np\n",
        "\n",
        "import seaborn as sns\n",
        "import matplotlib.pyplot as plt\n",
        "from sklearn.model_selection import train_test_split"
      ],
      "metadata": {
        "colab": {
          "base_uri": "https://localhost:8080/"
        },
        "id": "rL6Y6fAgFgUv",
        "outputId": "ff4b2839-292a-4604-a7ad-bd0c7b55d4be"
      },
      "execution_count": 2,
      "outputs": [
        {
          "output_type": "stream",
          "name": "stdout",
          "text": [
            "[nltk_data] Downloading package stopwords to /root/nltk_data...\n",
            "[nltk_data]   Unzipping corpora/stopwords.zip.\n",
            "[nltk_data] Downloading package punkt to /root/nltk_data...\n",
            "[nltk_data]   Unzipping tokenizers/punkt.zip.\n",
            "0.5714025946899135\n"
          ]
        }
      ]
    },
    {
      "cell_type": "code",
      "source": [
        "from google.colab import drive\n",
        "\n",
        "drive.mount('/content/drive/')"
      ],
      "metadata": {
        "colab": {
          "base_uri": "https://localhost:8080/"
        },
        "id": "q2bw2SqqFmy9",
        "outputId": "d4ed6f92-a961-4ba9-b379-f5bca869ae42"
      },
      "execution_count": 3,
      "outputs": [
        {
          "output_type": "stream",
          "name": "stdout",
          "text": [
            "Mounted at /content/drive/\n"
          ]
        }
      ]
    },
    {
      "cell_type": "code",
      "source": [
        "!unzip '/content/drive/MyDrive/DS PROJECT/fake-news (2).zip'"
      ],
      "metadata": {
        "colab": {
          "base_uri": "https://localhost:8080/"
        },
        "id": "bLtJ7PEZFrTd",
        "outputId": "9e2a2a49-bc83-41ba-be03-47f0c7c315e8"
      },
      "execution_count": 4,
      "outputs": [
        {
          "output_type": "stream",
          "name": "stdout",
          "text": [
            "Archive:  /content/drive/MyDrive/DS PROJECT/fake-news (2).zip\n",
            "  inflating: submit.csv              \n",
            "  inflating: test.csv                \n",
            "  inflating: train.csv               \n"
          ]
        }
      ]
    },
    {
      "cell_type": "code",
      "source": [
        "#load dataset \n",
        "train= '/content/train.csv'\n",
        "test= '/content/test.csv'\n",
        "test_target='/content/submit.csv'\n",
        "train=pd.read_csv(train)\n",
        "test=pd.read_csv(test)\n",
        "test_target=pd.read_csv(test_target)"
      ],
      "metadata": {
        "id": "tCPapssMHyVG"
      },
      "execution_count": 5,
      "outputs": []
    },
    {
      "cell_type": "code",
      "source": [
        "test=pd.merge(test,test_target)\n",
        "test.head()"
      ],
      "metadata": {
        "colab": {
          "base_uri": "https://localhost:8080/",
          "height": 337
        },
        "id": "uOro6GinH1Jg",
        "outputId": "4a956713-bb22-4567-cb43-dec6e5e4cf3f"
      },
      "execution_count": 6,
      "outputs": [
        {
          "output_type": "execute_result",
          "data": {
            "text/plain": [
              "      id                                              title  \\\n",
              "0  20800  Specter of Trump Loosens Tongues, if Not Purse...   \n",
              "1  20801  Russian warships ready to strike terrorists ne...   \n",
              "2  20802  #NoDAPL: Native American Leaders Vow to Stay A...   \n",
              "3  20803  Tim Tebow Will Attempt Another Comeback, This ...   \n",
              "4  20804                    Keiser Report: Meme Wars (E995)   \n",
              "\n",
              "                    author                                               text  \\\n",
              "0         David Streitfeld  PALO ALTO, Calif.  —   After years of scorning...   \n",
              "1                      NaN  Russian warships ready to strike terrorists ne...   \n",
              "2            Common Dreams  Videos #NoDAPL: Native American Leaders Vow to...   \n",
              "3            Daniel Victor  If at first you don’t succeed, try a different...   \n",
              "4  Truth Broadcast Network  42 mins ago 1 Views 0 Comments 0 Likes 'For th...   \n",
              "\n",
              "   label  \n",
              "0      0  \n",
              "1      1  \n",
              "2      0  \n",
              "3      1  \n",
              "4      1  "
            ],
            "text/html": [
              "\n",
              "  <div id=\"df-15ffc7e2-d69b-4639-a858-7473fb8495af\">\n",
              "    <div class=\"colab-df-container\">\n",
              "      <div>\n",
              "<style scoped>\n",
              "    .dataframe tbody tr th:only-of-type {\n",
              "        vertical-align: middle;\n",
              "    }\n",
              "\n",
              "    .dataframe tbody tr th {\n",
              "        vertical-align: top;\n",
              "    }\n",
              "\n",
              "    .dataframe thead th {\n",
              "        text-align: right;\n",
              "    }\n",
              "</style>\n",
              "<table border=\"1\" class=\"dataframe\">\n",
              "  <thead>\n",
              "    <tr style=\"text-align: right;\">\n",
              "      <th></th>\n",
              "      <th>id</th>\n",
              "      <th>title</th>\n",
              "      <th>author</th>\n",
              "      <th>text</th>\n",
              "      <th>label</th>\n",
              "    </tr>\n",
              "  </thead>\n",
              "  <tbody>\n",
              "    <tr>\n",
              "      <th>0</th>\n",
              "      <td>20800</td>\n",
              "      <td>Specter of Trump Loosens Tongues, if Not Purse...</td>\n",
              "      <td>David Streitfeld</td>\n",
              "      <td>PALO ALTO, Calif.  —   After years of scorning...</td>\n",
              "      <td>0</td>\n",
              "    </tr>\n",
              "    <tr>\n",
              "      <th>1</th>\n",
              "      <td>20801</td>\n",
              "      <td>Russian warships ready to strike terrorists ne...</td>\n",
              "      <td>NaN</td>\n",
              "      <td>Russian warships ready to strike terrorists ne...</td>\n",
              "      <td>1</td>\n",
              "    </tr>\n",
              "    <tr>\n",
              "      <th>2</th>\n",
              "      <td>20802</td>\n",
              "      <td>#NoDAPL: Native American Leaders Vow to Stay A...</td>\n",
              "      <td>Common Dreams</td>\n",
              "      <td>Videos #NoDAPL: Native American Leaders Vow to...</td>\n",
              "      <td>0</td>\n",
              "    </tr>\n",
              "    <tr>\n",
              "      <th>3</th>\n",
              "      <td>20803</td>\n",
              "      <td>Tim Tebow Will Attempt Another Comeback, This ...</td>\n",
              "      <td>Daniel Victor</td>\n",
              "      <td>If at first you don’t succeed, try a different...</td>\n",
              "      <td>1</td>\n",
              "    </tr>\n",
              "    <tr>\n",
              "      <th>4</th>\n",
              "      <td>20804</td>\n",
              "      <td>Keiser Report: Meme Wars (E995)</td>\n",
              "      <td>Truth Broadcast Network</td>\n",
              "      <td>42 mins ago 1 Views 0 Comments 0 Likes 'For th...</td>\n",
              "      <td>1</td>\n",
              "    </tr>\n",
              "  </tbody>\n",
              "</table>\n",
              "</div>\n",
              "      <button class=\"colab-df-convert\" onclick=\"convertToInteractive('df-15ffc7e2-d69b-4639-a858-7473fb8495af')\"\n",
              "              title=\"Convert this dataframe to an interactive table.\"\n",
              "              style=\"display:none;\">\n",
              "        \n",
              "  <svg xmlns=\"http://www.w3.org/2000/svg\" height=\"24px\"viewBox=\"0 0 24 24\"\n",
              "       width=\"24px\">\n",
              "    <path d=\"M0 0h24v24H0V0z\" fill=\"none\"/>\n",
              "    <path d=\"M18.56 5.44l.94 2.06.94-2.06 2.06-.94-2.06-.94-.94-2.06-.94 2.06-2.06.94zm-11 1L8.5 8.5l.94-2.06 2.06-.94-2.06-.94L8.5 2.5l-.94 2.06-2.06.94zm10 10l.94 2.06.94-2.06 2.06-.94-2.06-.94-.94-2.06-.94 2.06-2.06.94z\"/><path d=\"M17.41 7.96l-1.37-1.37c-.4-.4-.92-.59-1.43-.59-.52 0-1.04.2-1.43.59L10.3 9.45l-7.72 7.72c-.78.78-.78 2.05 0 2.83L4 21.41c.39.39.9.59 1.41.59.51 0 1.02-.2 1.41-.59l7.78-7.78 2.81-2.81c.8-.78.8-2.07 0-2.86zM5.41 20L4 18.59l7.72-7.72 1.47 1.35L5.41 20z\"/>\n",
              "  </svg>\n",
              "      </button>\n",
              "      \n",
              "  <style>\n",
              "    .colab-df-container {\n",
              "      display:flex;\n",
              "      flex-wrap:wrap;\n",
              "      gap: 12px;\n",
              "    }\n",
              "\n",
              "    .colab-df-convert {\n",
              "      background-color: #E8F0FE;\n",
              "      border: none;\n",
              "      border-radius: 50%;\n",
              "      cursor: pointer;\n",
              "      display: none;\n",
              "      fill: #1967D2;\n",
              "      height: 32px;\n",
              "      padding: 0 0 0 0;\n",
              "      width: 32px;\n",
              "    }\n",
              "\n",
              "    .colab-df-convert:hover {\n",
              "      background-color: #E2EBFA;\n",
              "      box-shadow: 0px 1px 2px rgba(60, 64, 67, 0.3), 0px 1px 3px 1px rgba(60, 64, 67, 0.15);\n",
              "      fill: #174EA6;\n",
              "    }\n",
              "\n",
              "    [theme=dark] .colab-df-convert {\n",
              "      background-color: #3B4455;\n",
              "      fill: #D2E3FC;\n",
              "    }\n",
              "\n",
              "    [theme=dark] .colab-df-convert:hover {\n",
              "      background-color: #434B5C;\n",
              "      box-shadow: 0px 1px 3px 1px rgba(0, 0, 0, 0.15);\n",
              "      filter: drop-shadow(0px 1px 2px rgba(0, 0, 0, 0.3));\n",
              "      fill: #FFFFFF;\n",
              "    }\n",
              "  </style>\n",
              "\n",
              "      <script>\n",
              "        const buttonEl =\n",
              "          document.querySelector('#df-15ffc7e2-d69b-4639-a858-7473fb8495af button.colab-df-convert');\n",
              "        buttonEl.style.display =\n",
              "          google.colab.kernel.accessAllowed ? 'block' : 'none';\n",
              "\n",
              "        async function convertToInteractive(key) {\n",
              "          const element = document.querySelector('#df-15ffc7e2-d69b-4639-a858-7473fb8495af');\n",
              "          const dataTable =\n",
              "            await google.colab.kernel.invokeFunction('convertToInteractive',\n",
              "                                                     [key], {});\n",
              "          if (!dataTable) return;\n",
              "\n",
              "          const docLinkHtml = 'Like what you see? Visit the ' +\n",
              "            '<a target=\"_blank\" href=https://colab.research.google.com/notebooks/data_table.ipynb>data table notebook</a>'\n",
              "            + ' to learn more about interactive tables.';\n",
              "          element.innerHTML = '';\n",
              "          dataTable['output_type'] = 'display_data';\n",
              "          await google.colab.output.renderOutput(dataTable, element);\n",
              "          const docLink = document.createElement('div');\n",
              "          docLink.innerHTML = docLinkHtml;\n",
              "          element.appendChild(docLink);\n",
              "        }\n",
              "      </script>\n",
              "    </div>\n",
              "  </div>\n",
              "  "
            ]
          },
          "metadata": {},
          "execution_count": 6
        }
      ]
    },
    {
      "cell_type": "code",
      "source": [
        "df=pd.concat([train,test])"
      ],
      "metadata": {
        "id": "cG54UEO_H4fu"
      },
      "execution_count": 7,
      "outputs": []
    },
    {
      "cell_type": "code",
      "source": [
        "df.head()"
      ],
      "metadata": {
        "colab": {
          "base_uri": "https://localhost:8080/",
          "height": 319
        },
        "id": "mopU5Ns1J7Ry",
        "outputId": "212cebea-cf82-40ec-c650-ac45b3c4a450"
      },
      "execution_count": 8,
      "outputs": [
        {
          "output_type": "execute_result",
          "data": {
            "text/plain": [
              "   id                                              title              author  \\\n",
              "0   0  House Dem Aide: We Didn’t Even See Comey’s Let...       Darrell Lucus   \n",
              "1   1  FLYNN: Hillary Clinton, Big Woman on Campus - ...     Daniel J. Flynn   \n",
              "2   2                  Why the Truth Might Get You Fired  Consortiumnews.com   \n",
              "3   3  15 Civilians Killed In Single US Airstrike Hav...     Jessica Purkiss   \n",
              "4   4  Iranian woman jailed for fictional unpublished...      Howard Portnoy   \n",
              "\n",
              "                                                text  label  \n",
              "0  House Dem Aide: We Didn’t Even See Comey’s Let...      1  \n",
              "1  Ever get the feeling your life circles the rou...      0  \n",
              "2  Why the Truth Might Get You Fired October 29, ...      1  \n",
              "3  Videos 15 Civilians Killed In Single US Airstr...      1  \n",
              "4  Print \\nAn Iranian woman has been sentenced to...      1  "
            ],
            "text/html": [
              "\n",
              "  <div id=\"df-5e5b60ba-fc68-4e10-acd1-825b8cada403\">\n",
              "    <div class=\"colab-df-container\">\n",
              "      <div>\n",
              "<style scoped>\n",
              "    .dataframe tbody tr th:only-of-type {\n",
              "        vertical-align: middle;\n",
              "    }\n",
              "\n",
              "    .dataframe tbody tr th {\n",
              "        vertical-align: top;\n",
              "    }\n",
              "\n",
              "    .dataframe thead th {\n",
              "        text-align: right;\n",
              "    }\n",
              "</style>\n",
              "<table border=\"1\" class=\"dataframe\">\n",
              "  <thead>\n",
              "    <tr style=\"text-align: right;\">\n",
              "      <th></th>\n",
              "      <th>id</th>\n",
              "      <th>title</th>\n",
              "      <th>author</th>\n",
              "      <th>text</th>\n",
              "      <th>label</th>\n",
              "    </tr>\n",
              "  </thead>\n",
              "  <tbody>\n",
              "    <tr>\n",
              "      <th>0</th>\n",
              "      <td>0</td>\n",
              "      <td>House Dem Aide: We Didn’t Even See Comey’s Let...</td>\n",
              "      <td>Darrell Lucus</td>\n",
              "      <td>House Dem Aide: We Didn’t Even See Comey’s Let...</td>\n",
              "      <td>1</td>\n",
              "    </tr>\n",
              "    <tr>\n",
              "      <th>1</th>\n",
              "      <td>1</td>\n",
              "      <td>FLYNN: Hillary Clinton, Big Woman on Campus - ...</td>\n",
              "      <td>Daniel J. Flynn</td>\n",
              "      <td>Ever get the feeling your life circles the rou...</td>\n",
              "      <td>0</td>\n",
              "    </tr>\n",
              "    <tr>\n",
              "      <th>2</th>\n",
              "      <td>2</td>\n",
              "      <td>Why the Truth Might Get You Fired</td>\n",
              "      <td>Consortiumnews.com</td>\n",
              "      <td>Why the Truth Might Get You Fired October 29, ...</td>\n",
              "      <td>1</td>\n",
              "    </tr>\n",
              "    <tr>\n",
              "      <th>3</th>\n",
              "      <td>3</td>\n",
              "      <td>15 Civilians Killed In Single US Airstrike Hav...</td>\n",
              "      <td>Jessica Purkiss</td>\n",
              "      <td>Videos 15 Civilians Killed In Single US Airstr...</td>\n",
              "      <td>1</td>\n",
              "    </tr>\n",
              "    <tr>\n",
              "      <th>4</th>\n",
              "      <td>4</td>\n",
              "      <td>Iranian woman jailed for fictional unpublished...</td>\n",
              "      <td>Howard Portnoy</td>\n",
              "      <td>Print \\nAn Iranian woman has been sentenced to...</td>\n",
              "      <td>1</td>\n",
              "    </tr>\n",
              "  </tbody>\n",
              "</table>\n",
              "</div>\n",
              "      <button class=\"colab-df-convert\" onclick=\"convertToInteractive('df-5e5b60ba-fc68-4e10-acd1-825b8cada403')\"\n",
              "              title=\"Convert this dataframe to an interactive table.\"\n",
              "              style=\"display:none;\">\n",
              "        \n",
              "  <svg xmlns=\"http://www.w3.org/2000/svg\" height=\"24px\"viewBox=\"0 0 24 24\"\n",
              "       width=\"24px\">\n",
              "    <path d=\"M0 0h24v24H0V0z\" fill=\"none\"/>\n",
              "    <path d=\"M18.56 5.44l.94 2.06.94-2.06 2.06-.94-2.06-.94-.94-2.06-.94 2.06-2.06.94zm-11 1L8.5 8.5l.94-2.06 2.06-.94-2.06-.94L8.5 2.5l-.94 2.06-2.06.94zm10 10l.94 2.06.94-2.06 2.06-.94-2.06-.94-.94-2.06-.94 2.06-2.06.94z\"/><path d=\"M17.41 7.96l-1.37-1.37c-.4-.4-.92-.59-1.43-.59-.52 0-1.04.2-1.43.59L10.3 9.45l-7.72 7.72c-.78.78-.78 2.05 0 2.83L4 21.41c.39.39.9.59 1.41.59.51 0 1.02-.2 1.41-.59l7.78-7.78 2.81-2.81c.8-.78.8-2.07 0-2.86zM5.41 20L4 18.59l7.72-7.72 1.47 1.35L5.41 20z\"/>\n",
              "  </svg>\n",
              "      </button>\n",
              "      \n",
              "  <style>\n",
              "    .colab-df-container {\n",
              "      display:flex;\n",
              "      flex-wrap:wrap;\n",
              "      gap: 12px;\n",
              "    }\n",
              "\n",
              "    .colab-df-convert {\n",
              "      background-color: #E8F0FE;\n",
              "      border: none;\n",
              "      border-radius: 50%;\n",
              "      cursor: pointer;\n",
              "      display: none;\n",
              "      fill: #1967D2;\n",
              "      height: 32px;\n",
              "      padding: 0 0 0 0;\n",
              "      width: 32px;\n",
              "    }\n",
              "\n",
              "    .colab-df-convert:hover {\n",
              "      background-color: #E2EBFA;\n",
              "      box-shadow: 0px 1px 2px rgba(60, 64, 67, 0.3), 0px 1px 3px 1px rgba(60, 64, 67, 0.15);\n",
              "      fill: #174EA6;\n",
              "    }\n",
              "\n",
              "    [theme=dark] .colab-df-convert {\n",
              "      background-color: #3B4455;\n",
              "      fill: #D2E3FC;\n",
              "    }\n",
              "\n",
              "    [theme=dark] .colab-df-convert:hover {\n",
              "      background-color: #434B5C;\n",
              "      box-shadow: 0px 1px 3px 1px rgba(0, 0, 0, 0.15);\n",
              "      filter: drop-shadow(0px 1px 2px rgba(0, 0, 0, 0.3));\n",
              "      fill: #FFFFFF;\n",
              "    }\n",
              "  </style>\n",
              "\n",
              "      <script>\n",
              "        const buttonEl =\n",
              "          document.querySelector('#df-5e5b60ba-fc68-4e10-acd1-825b8cada403 button.colab-df-convert');\n",
              "        buttonEl.style.display =\n",
              "          google.colab.kernel.accessAllowed ? 'block' : 'none';\n",
              "\n",
              "        async function convertToInteractive(key) {\n",
              "          const element = document.querySelector('#df-5e5b60ba-fc68-4e10-acd1-825b8cada403');\n",
              "          const dataTable =\n",
              "            await google.colab.kernel.invokeFunction('convertToInteractive',\n",
              "                                                     [key], {});\n",
              "          if (!dataTable) return;\n",
              "\n",
              "          const docLinkHtml = 'Like what you see? Visit the ' +\n",
              "            '<a target=\"_blank\" href=https://colab.research.google.com/notebooks/data_table.ipynb>data table notebook</a>'\n",
              "            + ' to learn more about interactive tables.';\n",
              "          element.innerHTML = '';\n",
              "          dataTable['output_type'] = 'display_data';\n",
              "          await google.colab.output.renderOutput(dataTable, element);\n",
              "          const docLink = document.createElement('div');\n",
              "          docLink.innerHTML = docLinkHtml;\n",
              "          element.appendChild(docLink);\n",
              "        }\n",
              "      </script>\n",
              "    </div>\n",
              "  </div>\n",
              "  "
            ]
          },
          "metadata": {},
          "execution_count": 8
        }
      ]
    },
    {
      "cell_type": "code",
      "source": [
        "df.shape\n",
        "df.info()\n",
        "df.isnull().any()\n",
        "data=df.dropna()"
      ],
      "metadata": {
        "colab": {
          "base_uri": "https://localhost:8080/"
        },
        "id": "6Z4ZHPMCJ9oE",
        "outputId": "93acf79d-5ec4-489e-c6a2-df005bfc5409"
      },
      "execution_count": 9,
      "outputs": [
        {
          "output_type": "stream",
          "name": "stdout",
          "text": [
            "<class 'pandas.core.frame.DataFrame'>\n",
            "Int64Index: 26000 entries, 0 to 5199\n",
            "Data columns (total 5 columns):\n",
            " #   Column  Non-Null Count  Dtype \n",
            "---  ------  --------------  ----- \n",
            " 0   id      26000 non-null  int64 \n",
            " 1   title   25320 non-null  object\n",
            " 2   author  23540 non-null  object\n",
            " 3   text    25954 non-null  object\n",
            " 4   label   26000 non-null  int64 \n",
            "dtypes: int64(2), object(3)\n",
            "memory usage: 1.2+ MB\n"
          ]
        }
      ]
    },
    {
      "cell_type": "code",
      "source": [
        "plt.figure(figsize=(16,8))\n",
        "sns.countplot(df.label)"
      ],
      "metadata": {
        "colab": {
          "base_uri": "https://localhost:8080/",
          "height": 519
        },
        "id": "G8CLv1rkKJ-s",
        "outputId": "215e3b98-a584-4711-c3ce-5af306ff4d7f"
      },
      "execution_count": 10,
      "outputs": [
        {
          "output_type": "stream",
          "name": "stderr",
          "text": [
            "/usr/local/lib/python3.7/dist-packages/seaborn/_decorators.py:43: FutureWarning: Pass the following variable as a keyword arg: x. From version 0.12, the only valid positional argument will be `data`, and passing other arguments without an explicit keyword will result in an error or misinterpretation.\n",
            "  FutureWarning\n"
          ]
        },
        {
          "output_type": "execute_result",
          "data": {
            "text/plain": [
              "<matplotlib.axes._subplots.AxesSubplot at 0x7f91d1700a90>"
            ]
          },
          "metadata": {},
          "execution_count": 10
        },
        {
          "output_type": "display_data",
          "data": {
            "text/plain": [
              "<Figure size 1152x576 with 1 Axes>"
            ],
            "image/png": "[encoded data removed]"
          },
          "metadata": {
            "needs_background": "light"
          }
        }
      ]
    },
    {
      "cell_type": "code",
      "source": [
        "from sklearn.utils import shuffle\n",
        "data_shuffled=shuffle(data)\n",
        "\n",
        "data_shuffled"
      ],
      "metadata": {
        "colab": {
          "base_uri": "https://localhost:8080/",
          "height": 641
        },
        "id": "-Q8WQ1s-KXwv",
        "outputId": "adafacbf-00e3-48e7-cef9-acc6a7f3b37c"
      },
      "execution_count": 11,
      "outputs": [
        {
          "output_type": "execute_result",
          "data": {
            "text/plain": [
              "          id                                              title  \\\n",
              "4975   25775  The Calculus in Six Crucial Senate Races - The...   \n",
              "17176  17176  McCain: ‘I Don’t Know’ If Trump-Russia Dossier...   \n",
              "742      742  Hey Ho, It’s Old: England Embraces Punk Rock 4...   \n",
              "1281    1281         The Ancient Spiritual Roots Of Russophobia   \n",
              "13688  13688  Uber Partners With Daimler in a Step Toward a ...   \n",
              "...      ...                                                ...   \n",
              "2465    2465  Centrum – The World's Most Popular Multivitami...   \n",
              "9424    9424                AMTV Hiring a Interview Coordinator   \n",
              "2722   23522  Sad Hillary Clinton Finally Concedes To Trump ...   \n",
              "15698  15698  Republicans Threatening To Create Havoc At Pol...   \n",
              "20738  20738  Jackie Mason: GOP Needed 8 Years to Fix Obamac...   \n",
              "\n",
              "                                       author  \\\n",
              "4975                      Jennifer Steinhauer   \n",
              "17176                                 Pam Key   \n",
              "742                       Christopher D. Shea   \n",
              "1281                                The Saker   \n",
              "13688                              Mike Isaac   \n",
              "...                                       ...   \n",
              "2465   Dikran Arakelian (noreply@blogger.com)   \n",
              "9424                  Truth Broadcast Network   \n",
              "2722                                 Starkman   \n",
              "15698                            Wes Williams   \n",
              "20738                         Daniel Nussbaum   \n",
              "\n",
              "                                                    text  label  \n",
              "4975   A look at the political math in six states whe...      1  \n",
              "17176  Wednesday on CNN addressing media reports that...      0  \n",
              "742    BLACKPOOL, England  —   “Ramones forever!” C. ...      0  \n",
              "1281   280 Views November 06, 2016 No Comments Analys...      1  \n",
              "13688  SAN FRANCISCO  —   Uber is one step closer to ...      0  \n",
              "...                                                  ...    ...  \n",
              "2465   Share on Facebook This can result in fatigue, ...      1  \n",
              "9424     reports on What You Need to Know About the '...      1  \n",
              "2722   Hillary Clinton publicly conceded the U.S. pre...      1  \n",
              "15698  Google Pinterest Digg Linkedin Reddit Stumbleu...      1  \n",
              "20738  In these trying times, Jackie Mason is the Voi...      0  \n",
              "\n",
              "[22860 rows x 5 columns]"
            ],
            "text/html": [
              "\n",
              "  <div id=\"df-cfe57064-871b-4adf-b1db-bfdd12ec1930\">\n",
              "    <div class=\"colab-df-container\">\n",
              "      <div>\n",
              "<style scoped>\n",
              "    .dataframe tbody tr th:only-of-type {\n",
              "        vertical-align: middle;\n",
              "    }\n",
              "\n",
              "    .dataframe tbody tr th {\n",
              "        vertical-align: top;\n",
              "    }\n",
              "\n",
              "    .dataframe thead th {\n",
              "        text-align: right;\n",
              "    }\n",
              "</style>\n",
              "<table border=\"1\" class=\"dataframe\">\n",
              "  <thead>\n",
              "    <tr style=\"text-align: right;\">\n",
              "      <th></th>\n",
              "      <th>id</th>\n",
              "      <th>title</th>\n",
              "      <th>author</th>\n",
              "      <th>text</th>\n",
              "      <th>label</th>\n",
              "    </tr>\n",
              "  </thead>\n",
              "  <tbody>\n",
              "    <tr>\n",
              "      <th>4975</th>\n",
              "      <td>25775</td>\n",
              "      <td>The Calculus in Six Crucial Senate Races - The...</td>\n",
              "      <td>Jennifer Steinhauer</td>\n",
              "      <td>A look at the political math in six states whe...</td>\n",
              "      <td>1</td>\n",
              "    </tr>\n",
              "    <tr>\n",
              "      <th>17176</th>\n",
              "      <td>17176</td>\n",
              "      <td>McCain: ‘I Don’t Know’ If Trump-Russia Dossier...</td>\n",
              "      <td>Pam Key</td>\n",
              "      <td>Wednesday on CNN addressing media reports that...</td>\n",
              "      <td>0</td>\n",
              "    </tr>\n",
              "    <tr>\n",
              "      <th>742</th>\n",
              "      <td>742</td>\n",
              "      <td>Hey Ho, It’s Old: England Embraces Punk Rock 4...</td>\n",
              "      <td>Christopher D. Shea</td>\n",
              "      <td>BLACKPOOL, England  —   “Ramones forever!” C. ...</td>\n",
              "      <td>0</td>\n",
              "    </tr>\n",
              "    <tr>\n",
              "      <th>1281</th>\n",
              "      <td>1281</td>\n",
              "      <td>The Ancient Spiritual Roots Of Russophobia</td>\n",
              "      <td>The Saker</td>\n",
              "      <td>280 Views November 06, 2016 No Comments Analys...</td>\n",
              "      <td>1</td>\n",
              "    </tr>\n",
              "    <tr>\n",
              "      <th>13688</th>\n",
              "      <td>13688</td>\n",
              "      <td>Uber Partners With Daimler in a Step Toward a ...</td>\n",
              "      <td>Mike Isaac</td>\n",
              "      <td>SAN FRANCISCO  —   Uber is one step closer to ...</td>\n",
              "      <td>0</td>\n",
              "    </tr>\n",
              "    <tr>\n",
              "      <th>...</th>\n",
              "      <td>...</td>\n",
              "      <td>...</td>\n",
              "      <td>...</td>\n",
              "      <td>...</td>\n",
              "      <td>...</td>\n",
              "    </tr>\n",
              "    <tr>\n",
              "      <th>2465</th>\n",
              "      <td>2465</td>\n",
              "      <td>Centrum – The World's Most Popular Multivitami...</td>\n",
              "      <td>Dikran Arakelian (noreply@blogger.com)</td>\n",
              "      <td>Share on Facebook This can result in fatigue, ...</td>\n",
              "      <td>1</td>\n",
              "    </tr>\n",
              "    <tr>\n",
              "      <th>9424</th>\n",
              "      <td>9424</td>\n",
              "      <td>AMTV Hiring a Interview Coordinator</td>\n",
              "      <td>Truth Broadcast Network</td>\n",
              "      <td>reports on What You Need to Know About the '...</td>\n",
              "      <td>1</td>\n",
              "    </tr>\n",
              "    <tr>\n",
              "      <th>2722</th>\n",
              "      <td>23522</td>\n",
              "      <td>Sad Hillary Clinton Finally Concedes To Trump ...</td>\n",
              "      <td>Starkman</td>\n",
              "      <td>Hillary Clinton publicly conceded the U.S. pre...</td>\n",
              "      <td>1</td>\n",
              "    </tr>\n",
              "    <tr>\n",
              "      <th>15698</th>\n",
              "      <td>15698</td>\n",
              "      <td>Republicans Threatening To Create Havoc At Pol...</td>\n",
              "      <td>Wes Williams</td>\n",
              "      <td>Google Pinterest Digg Linkedin Reddit Stumbleu...</td>\n",
              "      <td>1</td>\n",
              "    </tr>\n",
              "    <tr>\n",
              "      <th>20738</th>\n",
              "      <td>20738</td>\n",
              "      <td>Jackie Mason: GOP Needed 8 Years to Fix Obamac...</td>\n",
              "      <td>Daniel Nussbaum</td>\n",
              "      <td>In these trying times, Jackie Mason is the Voi...</td>\n",
              "      <td>0</td>\n",
              "    </tr>\n",
              "  </tbody>\n",
              "</table>\n",
              "<p>22860 rows × 5 columns</p>\n",
              "</div>\n",
              "      <button class=\"colab-df-convert\" onclick=\"convertToInteractive('df-cfe57064-871b-4adf-b1db-bfdd12ec1930')\"\n",
              "              title=\"Convert this dataframe to an interactive table.\"\n",
              "              style=\"display:none;\">\n",
              "        \n",
              "  <svg xmlns=\"http://www.w3.org/2000/svg\" height=\"24px\"viewBox=\"0 0 24 24\"\n",
              "       width=\"24px\">\n",
              "    <path d=\"M0 0h24v24H0V0z\" fill=\"none\"/>\n",
              "    <path d=\"M18.56 5.44l.94 2.06.94-2.06 2.06-.94-2.06-.94-.94-2.06-.94 2.06-2.06.94zm-11 1L8.5 8.5l.94-2.06 2.06-.94-2.06-.94L8.5 2.5l-.94 2.06-2.06.94zm10 10l.94 2.06.94-2.06 2.06-.94-2.06-.94-.94-2.06-.94 2.06-2.06.94z\"/><path d=\"M17.41 7.96l-1.37-1.37c-.4-.4-.92-.59-1.43-.59-.52 0-1.04.2-1.43.59L10.3 9.45l-7.72 7.72c-.78.78-.78 2.05 0 2.83L4 21.41c.39.39.9.59 1.41.59.51 0 1.02-.2 1.41-.59l7.78-7.78 2.81-2.81c.8-.78.8-2.07 0-2.86zM5.41 20L4 18.59l7.72-7.72 1.47 1.35L5.41 20z\"/>\n",
              "  </svg>\n",
              "      </button>\n",
              "      \n",
              "  <style>\n",
              "    .colab-df-container {\n",
              "      display:flex;\n",
              "      flex-wrap:wrap;\n",
              "      gap: 12px;\n",
              "    }\n",
              "\n",
              "    .colab-df-convert {\n",
              "      background-color: #E8F0FE;\n",
              "      border: none;\n",
              "      border-radius: 50%;\n",
              "      cursor: pointer;\n",
              "      display: none;\n",
              "      fill: #1967D2;\n",
              "      height: 32px;\n",
              "      padding: 0 0 0 0;\n",
              "      width: 32px;\n",
              "    }\n",
              "\n",
              "    .colab-df-convert:hover {\n",
              "      background-color: #E2EBFA;\n",
              "      box-shadow: 0px 1px 2px rgba(60, 64, 67, 0.3), 0px 1px 3px 1px rgba(60, 64, 67, 0.15);\n",
              "      fill: #174EA6;\n",
              "    }\n",
              "\n",
              "    [theme=dark] .colab-df-convert {\n",
              "      background-color: #3B4455;\n",
              "      fill: #D2E3FC;\n",
              "    }\n",
              "\n",
              "    [theme=dark] .colab-df-convert:hover {\n",
              "      background-color: #434B5C;\n",
              "      box-shadow: 0px 1px 3px 1px rgba(0, 0, 0, 0.15);\n",
              "      filter: drop-shadow(0px 1px 2px rgba(0, 0, 0, 0.3));\n",
              "      fill: #FFFFFF;\n",
              "    }\n",
              "  </style>\n",
              "\n",
              "      <script>\n",
              "        const buttonEl =\n",
              "          document.querySelector('#df-cfe57064-871b-4adf-b1db-bfdd12ec1930 button.colab-df-convert');\n",
              "        buttonEl.style.display =\n",
              "          google.colab.kernel.accessAllowed ? 'block' : 'none';\n",
              "\n",
              "        async function convertToInteractive(key) {\n",
              "          const element = document.querySelector('#df-cfe57064-871b-4adf-b1db-bfdd12ec1930');\n",
              "          const dataTable =\n",
              "            await google.colab.kernel.invokeFunction('convertToInteractive',\n",
              "                                                     [key], {});\n",
              "          if (!dataTable) return;\n",
              "\n",
              "          const docLinkHtml = 'Like what you see? Visit the ' +\n",
              "            '<a target=\"_blank\" href=https://colab.research.google.com/notebooks/data_table.ipynb>data table notebook</a>'\n",
              "            + ' to learn more about interactive tables.';\n",
              "          element.innerHTML = '';\n",
              "          dataTable['output_type'] = 'display_data';\n",
              "          await google.colab.output.renderOutput(dataTable, element);\n",
              "          const docLink = document.createElement('div');\n",
              "          docLink.innerHTML = docLinkHtml;\n",
              "          element.appendChild(docLink);\n",
              "        }\n",
              "      </script>\n",
              "    </div>\n",
              "  </div>\n",
              "  "
            ]
          },
          "metadata": {},
          "execution_count": 11
        }
      ]
    },
    {
      "cell_type": "code",
      "source": [
        "#preprocess\n",
        "\n",
        "import nltk\n",
        "import re\n",
        "import string\n",
        "import nltk\n",
        "nltk.download('stopwords')\n",
        "\n",
        "from nltk.corpus import stopwords\n",
        "from nltk.stem import WordNetLemmatizer\n",
        "stop_words = set(stopwords.words('english'))\n",
        "\n",
        "\n",
        "from nltk.tokenize import word_tokenize\n",
        "\n",
        "punctuations = list(string.punctuation)\n",
        "lemma = WordNetLemmatizer() \n",
        "\n",
        "import nltk\n",
        "nltk.download('wordnet')"
      ],
      "metadata": {
        "colab": {
          "base_uri": "https://localhost:8080/"
        },
        "id": "EKd9KEMXK0e_",
        "outputId": "9dcaf9c0-7a9d-4c92-9258-bf1089211db9"
      },
      "execution_count": 12,
      "outputs": [
        {
          "output_type": "stream",
          "name": "stdout",
          "text": [
            "[nltk_data] Downloading package stopwords to /root/nltk_data...\n",
            "[nltk_data]   Package stopwords is already up-to-date!\n",
            "[nltk_data] Downloading package wordnet to /root/nltk_data...\n",
            "[nltk_data]   Unzipping corpora/wordnet.zip.\n"
          ]
        },
        {
          "output_type": "execute_result",
          "data": {
            "text/plain": [
              "True"
            ]
          },
          "metadata": {},
          "execution_count": 12
        }
      ]
    },
    {
      "cell_type": "code",
      "source": [
        "#dropdate\n",
        "#subject,text,title%\n",
        "data_shuffled ['total']= data_shuffled['text']+''+data_shuffled['title']"
      ],
      "metadata": {
        "id": "sgShII6HK-WE"
      },
      "execution_count": 13,
      "outputs": []
    },
    {
      "cell_type": "code",
      "source": [
        "#import natural language specific libraries\n",
        "\n",
        "\n",
        "def clean_text(text):\n",
        "    text=re.sub(\"[^a-zA-Z]\",\" \",text) \n",
        "    text=re.sub('<.*?>', ' ', text)  \n",
        "    text = re.sub(r'^https?:\\/\\/.*[\\r\\n]*', '', text)\n",
        "    text=text.lower() \n",
        "    tokens=word_tokenize(text) \n",
        "    tokens=[token for token in tokens if token not in stop_words and token not in punctuations] \n",
        "    tokens=[lemma.lemmatize(token) for token in tokens] \n",
        "    text=\" \".join(tokens)\n",
        "    return text\n",
        "\n"
      ],
      "metadata": {
        "id": "GzooHcC4LBZo"
      },
      "execution_count": 14,
      "outputs": []
    },
    {
      "cell_type": "code",
      "source": [
        "data_shuffled['total'] = data_shuffled['total'].apply(lambda x : clean_text(x))\n"
      ],
      "metadata": {
        "id": "azAAjpmbLDcO"
      },
      "execution_count": 15,
      "outputs": []
    },
    {
      "cell_type": "code",
      "source": [
        "data_shuffled['total']"
      ],
      "metadata": {
        "colab": {
          "base_uri": "https://localhost:8080/"
        },
        "id": "gFJCSpvELGCj",
        "outputId": "7b7ea3c8-a2ad-4fd4-a4b2-88caff4268fc"
      },
      "execution_count": 16,
      "outputs": [
        {
          "output_type": "execute_result",
          "data": {
            "text/plain": [
              "4975     look political math six state tight race could...\n",
              "17176    wednesday cnn addressing medium report turned ...\n",
              "742      blackpool england ramones forever c j ramone y...\n",
              "1281     view november comment analysis saker article w...\n",
              "13688    san francisco uber one step closer dream futur...\n",
              "                               ...                        \n",
              "2465     share facebook result fatigue dizziness shortn...\n",
              "9424     report need know alt right get new amtv coffee...\n",
              "2722     hillary clinton publicly conceded u presidenti...\n",
              "15698    google pinterest digg linkedin reddit stumbleu...\n",
              "20738    trying time jackie mason voice reason week exc...\n",
              "Name: total, Length: 22860, dtype: object"
            ]
          },
          "metadata": {},
          "execution_count": 16
        }
      ]
    },
    {
      "cell_type": "code",
      "source": [
        "#wordcloud\n",
        "from wordcloud import WordCloud, STOPWORDS\n",
        "\n",
        "wordcloud = WordCloud(stopwords=STOPWORDS,\n",
        "                      background_color='white',\n",
        "                      width=1200,\n",
        "                      height=1000).generate(str(data_shuffled['total']))\n",
        "\n",
        "plt.figure( figsize=(16,8) )\n",
        "plt.imshow(wordcloud)\n",
        "plt.title('Frequent words in our text data')\n",
        "plt.axis('off')\n",
        "plt.show()"
      ],
      "metadata": {
        "colab": {
          "base_uri": "https://localhost:8080/",
          "height": 482
        },
        "id": "blOZ6HWWMYn-",
        "outputId": "4a4d45f4-690e-4269-c73f-5259c7b3859a"
      },
      "execution_count": 17,
      "outputs": [
        {
          "output_type": "display_data",
          "data": {
            "text/plain": [
              "<Figure size 1152x576 with 1 Axes>"
            ],
            "image/png": "[encoded data removed]"
          },
          "metadata": {
            "needs_background": "light"
          }
        }
      ]
    },
    {
      "cell_type": "code",
      "source": [
        "X = data_shuffled['total'][:25000]\n",
        "y = data_shuffled['label'][:25000]"
      ],
      "metadata": {
        "id": "fhfpDkIaMbGk"
      },
      "execution_count": 18,
      "outputs": []
    },
    {
      "cell_type": "code",
      "source": [
        "X_train, X_test, y_train, y_test = train_test_split(X, y, test_size = 0.2, random_state = 0, shuffle=True)\n"
      ],
      "metadata": {
        "id": "E2sY4cznMe6i"
      },
      "execution_count": 19,
      "outputs": []
    },
    {
      "cell_type": "code",
      "source": [
        "from sklearn.feature_extraction.text import TfidfVectorizer\n",
        "\n",
        "vectorizer = TfidfVectorizer(max_features = 50000 , lowercase=False , ngram_range=(1,2))\n",
        "\n",
        "vec_train = vectorizer.fit_transform(X_train)\n",
        "vec_train = vec_train.toarray()\n",
        "vec_test = vectorizer.transform(X_test).toarray()"
      ],
      "metadata": {
        "id": "BpxkDLSaMjRG"
      },
      "execution_count": 20,
      "outputs": []
    },
    {
      "cell_type": "code",
      "source": [
        "train_data = pd.DataFrame(vec_train , columns=vectorizer.get_feature_names_out())\n",
        "test_data = pd.DataFrame(vec_test , columns= vectorizer.get_feature_names_out())"
      ],
      "metadata": {
        "id": "DjjtPsnbMlVc"
      },
      "execution_count": 21,
      "outputs": []
    },
    {
      "cell_type": "code",
      "source": [
        "train_data"
      ],
      "metadata": {
        "colab": {
          "base_uri": "https://localhost:8080/",
          "height": 505
        },
        "id": "jY58fFChMpEj",
        "outputId": "c5bbec6d-4080-44c5-98cf-d8fe2b27292c"
      },
      "execution_count": 22,
      "outputs": [
        {
          "output_type": "execute_result",
          "data": {
            "text/plain": [
              "        aa  aa superluminal  aaa  aap  aaron  aaron klein  aaron rodgers  \\\n",
              "0      0.0              0.0  0.0  0.0    0.0          0.0            0.0   \n",
              "1      0.0              0.0  0.0  0.0    0.0          0.0            0.0   \n",
              "2      0.0              0.0  0.0  0.0    0.0          0.0            0.0   \n",
              "3      0.0              0.0  0.0  0.0    0.0          0.0            0.0   \n",
              "4      0.0              0.0  0.0  0.0    0.0          0.0            0.0   \n",
              "...    ...              ...  ...  ...    ...          ...            ...   \n",
              "18283  0.0              0.0  0.0  0.0    0.0          0.0            0.0   \n",
              "18284  0.0              0.0  0.0  0.0    0.0          0.0            0.0   \n",
              "18285  0.0              0.0  0.0  0.0    0.0          0.0            0.0   \n",
              "18286  0.0              0.0  0.0  0.0    0.0          0.0            0.0   \n",
              "18287  0.0              0.0  0.0  0.0    0.0          0.0            0.0   \n",
              "\n",
              "       aaronkleinshow  aaronkleinshow follow  aarp  ...   zu  zubaydah  \\\n",
              "0                 0.0                    0.0   0.0  ...  0.0       0.0   \n",
              "1                 0.0                    0.0   0.0  ...  0.0       0.0   \n",
              "2                 0.0                    0.0   0.0  ...  0.0       0.0   \n",
              "3                 0.0                    0.0   0.0  ...  0.0       0.0   \n",
              "4                 0.0                    0.0   0.0  ...  0.0       0.0   \n",
              "...               ...                    ...   ...  ...  ...       ...   \n",
              "18283             0.0                    0.0   0.0  ...  0.0       0.0   \n",
              "18284             0.0                    0.0   0.0  ...  0.0       0.0   \n",
              "18285             0.0                    0.0   0.0  ...  0.0       0.0   \n",
              "18286             0.0                    0.0   0.0  ...  0.0       0.0   \n",
              "18287             0.0                    0.0   0.0  ...  0.0       0.0   \n",
              "\n",
              "       zucker  zuckerberg  zuesse  zum  zuma  zur  zurich  zwei  \n",
              "0         0.0         0.0     0.0  0.0   0.0  0.0     0.0   0.0  \n",
              "1         0.0         0.0     0.0  0.0   0.0  0.0     0.0   0.0  \n",
              "2         0.0         0.0     0.0  0.0   0.0  0.0     0.0   0.0  \n",
              "3         0.0         0.0     0.0  0.0   0.0  0.0     0.0   0.0  \n",
              "4         0.0         0.0     0.0  0.0   0.0  0.0     0.0   0.0  \n",
              "...       ...         ...     ...  ...   ...  ...     ...   ...  \n",
              "18283     0.0         0.0     0.0  0.0   0.0  0.0     0.0   0.0  \n",
              "18284     0.0         0.0     0.0  0.0   0.0  0.0     0.0   0.0  \n",
              "18285     0.0         0.0     0.0  0.0   0.0  0.0     0.0   0.0  \n",
              "18286     0.0         0.0     0.0  0.0   0.0  0.0     0.0   0.0  \n",
              "18287     0.0         0.0     0.0  0.0   0.0  0.0     0.0   0.0  \n",
              "\n",
              "[18288 rows x 50000 columns]"
            ],
            "text/html": [
              "\n",
              "  <div id=\"df-518f7476-4c18-4b37-b2c7-2abc8807e1a3\">\n",
              "    <div class=\"colab-df-container\">\n",
              "      <div>\n",
              "<style scoped>\n",
              "    .dataframe tbody tr th:only-of-type {\n",
              "        vertical-align: middle;\n",
              "    }\n",
              "\n",
              "    .dataframe tbody tr th {\n",
              "        vertical-align: top;\n",
              "    }\n",
              "\n",
              "    .dataframe thead th {\n",
              "        text-align: right;\n",
              "    }\n",
              "</style>\n",
              "<table border=\"1\" class=\"dataframe\">\n",
              "  <thead>\n",
              "    <tr style=\"text-align: right;\">\n",
              "      <th></th>\n",
              "      <th>aa</th>\n",
              "      <th>aa superluminal</th>\n",
              "      <th>aaa</th>\n",
              "      <th>aap</th>\n",
              "      <th>aaron</th>\n",
              "      <th>aaron klein</th>\n",
              "      <th>aaron rodgers</th>\n",
              "      <th>aaronkleinshow</th>\n",
              "      <th>aaronkleinshow follow</th>\n",
              "      <th>aarp</th>\n",
              "      <th>...</th>\n",
              "      <th>zu</th>\n",
              "      <th>zubaydah</th>\n",
              "      <th>zucker</th>\n",
              "      <th>zuckerberg</th>\n",
              "      <th>zuesse</th>\n",
              "      <th>zum</th>\n",
              "      <th>zuma</th>\n",
              "      <th>zur</th>\n",
              "      <th>zurich</th>\n",
              "      <th>zwei</th>\n",
              "    </tr>\n",
              "  </thead>\n",
              "  <tbody>\n",
              "    <tr>\n",
              "      <th>0</th>\n",
              "      <td>0.0</td>\n",
              "      <td>0.0</td>\n",
              "      <td>0.0</td>\n",
              "      <td>0.0</td>\n",
              "      <td>0.0</td>\n",
              "      <td>0.0</td>\n",
              "      <td>0.0</td>\n",
              "      <td>0.0</td>\n",
              "      <td>0.0</td>\n",
              "      <td>0.0</td>\n",
              "      <td>...</td>\n",
              "      <td>0.0</td>\n",
              "      <td>0.0</td>\n",
              "      <td>0.0</td>\n",
              "      <td>0.0</td>\n",
              "      <td>0.0</td>\n",
              "      <td>0.0</td>\n",
              "      <td>0.0</td>\n",
              "      <td>0.0</td>\n",
              "      <td>0.0</td>\n",
              "      <td>0.0</td>\n",
              "    </tr>\n",
              "    <tr>\n",
              "      <th>1</th>\n",
              "      <td>0.0</td>\n",
              "      <td>0.0</td>\n",
              "      <td>0.0</td>\n",
              "      <td>0.0</td>\n",
              "      <td>0.0</td>\n",
              "      <td>0.0</td>\n",
              "      <td>0.0</td>\n",
              "      <td>0.0</td>\n",
              "      <td>0.0</td>\n",
              "      <td>0.0</td>\n",
              "      <td>...</td>\n",
              "      <td>0.0</td>\n",
              "      <td>0.0</td>\n",
              "      <td>0.0</td>\n",
              "      <td>0.0</td>\n",
              "      <td>0.0</td>\n",
              "      <td>0.0</td>\n",
              "      <td>0.0</td>\n",
              "      <td>0.0</td>\n",
              "      <td>0.0</td>\n",
              "      <td>0.0</td>\n",
              "    </tr>\n",
              "    <tr>\n",
              "      <th>2</th>\n",
              "      <td>0.0</td>\n",
              "      <td>0.0</td>\n",
              "      <td>0.0</td>\n",
              "      <td>0.0</td>\n",
              "      <td>0.0</td>\n",
              "      <td>0.0</td>\n",
              "      <td>0.0</td>\n",
              "      <td>0.0</td>\n",
              "      <td>0.0</td>\n",
              "      <td>0.0</td>\n",
              "      <td>...</td>\n",
              "      <td>0.0</td>\n",
              "      <td>0.0</td>\n",
              "      <td>0.0</td>\n",
              "      <td>0.0</td>\n",
              "      <td>0.0</td>\n",
              "      <td>0.0</td>\n",
              "      <td>0.0</td>\n",
              "      <td>0.0</td>\n",
              "      <td>0.0</td>\n",
              "      <td>0.0</td>\n",
              "    </tr>\n",
              "    <tr>\n",
              "      <th>3</th>\n",
              "      <td>0.0</td>\n",
              "      <td>0.0</td>\n",
              "      <td>0.0</td>\n",
              "      <td>0.0</td>\n",
              "      <td>0.0</td>\n",
              "      <td>0.0</td>\n",
              "      <td>0.0</td>\n",
              "      <td>0.0</td>\n",
              "      <td>0.0</td>\n",
              "      <td>0.0</td>\n",
              "      <td>...</td>\n",
              "      <td>0.0</td>\n",
              "      <td>0.0</td>\n",
              "      <td>0.0</td>\n",
              "      <td>0.0</td>\n",
              "      <td>0.0</td>\n",
              "      <td>0.0</td>\n",
              "      <td>0.0</td>\n",
              "      <td>0.0</td>\n",
              "      <td>0.0</td>\n",
              "      <td>0.0</td>\n",
              "    </tr>\n",
              "    <tr>\n",
              "      <th>4</th>\n",
              "      <td>0.0</td>\n",
              "      <td>0.0</td>\n",
              "      <td>0.0</td>\n",
              "      <td>0.0</td>\n",
              "      <td>0.0</td>\n",
              "      <td>0.0</td>\n",
              "      <td>0.0</td>\n",
              "      <td>0.0</td>\n",
              "      <td>0.0</td>\n",
              "      <td>0.0</td>\n",
              "      <td>...</td>\n",
              "      <td>0.0</td>\n",
              "      <td>0.0</td>\n",
              "      <td>0.0</td>\n",
              "      <td>0.0</td>\n",
              "      <td>0.0</td>\n",
              "      <td>0.0</td>\n",
              "      <td>0.0</td>\n",
              "      <td>0.0</td>\n",
              "      <td>0.0</td>\n",
              "      <td>0.0</td>\n",
              "    </tr>\n",
              "    <tr>\n",
              "      <th>...</th>\n",
              "      <td>...</td>\n",
              "      <td>...</td>\n",
              "      <td>...</td>\n",
              "      <td>...</td>\n",
              "      <td>...</td>\n",
              "      <td>...</td>\n",
              "      <td>...</td>\n",
              "      <td>...</td>\n",
              "      <td>...</td>\n",
              "      <td>...</td>\n",
              "      <td>...</td>\n",
              "      <td>...</td>\n",
              "      <td>...</td>\n",
              "      <td>...</td>\n",
              "      <td>...</td>\n",
              "      <td>...</td>\n",
              "      <td>...</td>\n",
              "      <td>...</td>\n",
              "      <td>...</td>\n",
              "      <td>...</td>\n",
              "      <td>...</td>\n",
              "    </tr>\n",
              "    <tr>\n",
              "      <th>18283</th>\n",
              "      <td>0.0</td>\n",
              "      <td>0.0</td>\n",
              "      <td>0.0</td>\n",
              "      <td>0.0</td>\n",
              "      <td>0.0</td>\n",
              "      <td>0.0</td>\n",
              "      <td>0.0</td>\n",
              "      <td>0.0</td>\n",
              "      <td>0.0</td>\n",
              "      <td>0.0</td>\n",
              "      <td>...</td>\n",
              "      <td>0.0</td>\n",
              "      <td>0.0</td>\n",
              "      <td>0.0</td>\n",
              "      <td>0.0</td>\n",
              "      <td>0.0</td>\n",
              "      <td>0.0</td>\n",
              "      <td>0.0</td>\n",
              "      <td>0.0</td>\n",
              "      <td>0.0</td>\n",
              "      <td>0.0</td>\n",
              "    </tr>\n",
              "    <tr>\n",
              "      <th>18284</th>\n",
              "      <td>0.0</td>\n",
              "      <td>0.0</td>\n",
              "      <td>0.0</td>\n",
              "      <td>0.0</td>\n",
              "      <td>0.0</td>\n",
              "      <td>0.0</td>\n",
              "      <td>0.0</td>\n",
              "      <td>0.0</td>\n",
              "      <td>0.0</td>\n",
              "      <td>0.0</td>\n",
              "      <td>...</td>\n",
              "      <td>0.0</td>\n",
              "      <td>0.0</td>\n",
              "      <td>0.0</td>\n",
              "      <td>0.0</td>\n",
              "      <td>0.0</td>\n",
              "      <td>0.0</td>\n",
              "      <td>0.0</td>\n",
              "      <td>0.0</td>\n",
              "      <td>0.0</td>\n",
              "      <td>0.0</td>\n",
              "    </tr>\n",
              "    <tr>\n",
              "      <th>18285</th>\n",
              "      <td>0.0</td>\n",
              "      <td>0.0</td>\n",
              "      <td>0.0</td>\n",
              "      <td>0.0</td>\n",
              "      <td>0.0</td>\n",
              "      <td>0.0</td>\n",
              "      <td>0.0</td>\n",
              "      <td>0.0</td>\n",
              "      <td>0.0</td>\n",
              "      <td>0.0</td>\n",
              "      <td>...</td>\n",
              "      <td>0.0</td>\n",
              "      <td>0.0</td>\n",
              "      <td>0.0</td>\n",
              "      <td>0.0</td>\n",
              "      <td>0.0</td>\n",
              "      <td>0.0</td>\n",
              "      <td>0.0</td>\n",
              "      <td>0.0</td>\n",
              "      <td>0.0</td>\n",
              "      <td>0.0</td>\n",
              "    </tr>\n",
              "    <tr>\n",
              "      <th>18286</th>\n",
              "      <td>0.0</td>\n",
              "      <td>0.0</td>\n",
              "      <td>0.0</td>\n",
              "      <td>0.0</td>\n",
              "      <td>0.0</td>\n",
              "      <td>0.0</td>\n",
              "      <td>0.0</td>\n",
              "      <td>0.0</td>\n",
              "      <td>0.0</td>\n",
              "      <td>0.0</td>\n",
              "      <td>...</td>\n",
              "      <td>0.0</td>\n",
              "      <td>0.0</td>\n",
              "      <td>0.0</td>\n",
              "      <td>0.0</td>\n",
              "      <td>0.0</td>\n",
              "      <td>0.0</td>\n",
              "      <td>0.0</td>\n",
              "      <td>0.0</td>\n",
              "      <td>0.0</td>\n",
              "      <td>0.0</td>\n",
              "    </tr>\n",
              "    <tr>\n",
              "      <th>18287</th>\n",
              "      <td>0.0</td>\n",
              "      <td>0.0</td>\n",
              "      <td>0.0</td>\n",
              "      <td>0.0</td>\n",
              "      <td>0.0</td>\n",
              "      <td>0.0</td>\n",
              "      <td>0.0</td>\n",
              "      <td>0.0</td>\n",
              "      <td>0.0</td>\n",
              "      <td>0.0</td>\n",
              "      <td>...</td>\n",
              "      <td>0.0</td>\n",
              "      <td>0.0</td>\n",
              "      <td>0.0</td>\n",
              "      <td>0.0</td>\n",
              "      <td>0.0</td>\n",
              "      <td>0.0</td>\n",
              "      <td>0.0</td>\n",
              "      <td>0.0</td>\n",
              "      <td>0.0</td>\n",
              "      <td>0.0</td>\n",
              "    </tr>\n",
              "  </tbody>\n",
              "</table>\n",
              "<p>18288 rows × 50000 columns</p>\n",
              "</div>\n",
              "      <button class=\"colab-df-convert\" onclick=\"convertToInteractive('df-518f7476-4c18-4b37-b2c7-2abc8807e1a3')\"\n",
              "              title=\"Convert this dataframe to an interactive table.\"\n",
              "              style=\"display:none;\">\n",
              "        \n",
              "  <svg xmlns=\"http://www.w3.org/2000/svg\" height=\"24px\"viewBox=\"0 0 24 24\"\n",
              "       width=\"24px\">\n",
              "    <path d=\"M0 0h24v24H0V0z\" fill=\"none\"/>\n",
              "    <path d=\"M18.56 5.44l.94 2.06.94-2.06 2.06-.94-2.06-.94-.94-2.06-.94 2.06-2.06.94zm-11 1L8.5 8.5l.94-2.06 2.06-.94-2.06-.94L8.5 2.5l-.94 2.06-2.06.94zm10 10l.94 2.06.94-2.06 2.06-.94-2.06-.94-.94-2.06-.94 2.06-2.06.94z\"/><path d=\"M17.41 7.96l-1.37-1.37c-.4-.4-.92-.59-1.43-.59-.52 0-1.04.2-1.43.59L10.3 9.45l-7.72 7.72c-.78.78-.78 2.05 0 2.83L4 21.41c.39.39.9.59 1.41.59.51 0 1.02-.2 1.41-.59l7.78-7.78 2.81-2.81c.8-.78.8-2.07 0-2.86zM5.41 20L4 18.59l7.72-7.72 1.47 1.35L5.41 20z\"/>\n",
              "  </svg>\n",
              "      </button>\n",
              "      \n",
              "  <style>\n",
              "    .colab-df-container {\n",
              "      display:flex;\n",
              "      flex-wrap:wrap;\n",
              "      gap: 12px;\n",
              "    }\n",
              "\n",
              "    .colab-df-convert {\n",
              "      background-color: #E8F0FE;\n",
              "      border: none;\n",
              "      border-radius: 50%;\n",
              "      cursor: pointer;\n",
              "      display: none;\n",
              "      fill: #1967D2;\n",
              "      height: 32px;\n",
              "      padding: 0 0 0 0;\n",
              "      width: 32px;\n",
              "    }\n",
              "\n",
              "    .colab-df-convert:hover {\n",
              "      background-color: #E2EBFA;\n",
              "      box-shadow: 0px 1px 2px rgba(60, 64, 67, 0.3), 0px 1px 3px 1px rgba(60, 64, 67, 0.15);\n",
              "      fill: #174EA6;\n",
              "    }\n",
              "\n",
              "    [theme=dark] .colab-df-convert {\n",
              "      background-color: #3B4455;\n",
              "      fill: #D2E3FC;\n",
              "    }\n",
              "\n",
              "    [theme=dark] .colab-df-convert:hover {\n",
              "      background-color: #434B5C;\n",
              "      box-shadow: 0px 1px 3px 1px rgba(0, 0, 0, 0.15);\n",
              "      filter: drop-shadow(0px 1px 2px rgba(0, 0, 0, 0.3));\n",
              "      fill: #FFFFFF;\n",
              "    }\n",
              "  </style>\n",
              "\n",
              "      <script>\n",
              "        const buttonEl =\n",
              "          document.querySelector('#df-518f7476-4c18-4b37-b2c7-2abc8807e1a3 button.colab-df-convert');\n",
              "        buttonEl.style.display =\n",
              "          google.colab.kernel.accessAllowed ? 'block' : 'none';\n",
              "\n",
              "        async function convertToInteractive(key) {\n",
              "          const element = document.querySelector('#df-518f7476-4c18-4b37-b2c7-2abc8807e1a3');\n",
              "          const dataTable =\n",
              "            await google.colab.kernel.invokeFunction('convertToInteractive',\n",
              "                                                     [key], {});\n",
              "          if (!dataTable) return;\n",
              "\n",
              "          const docLinkHtml = 'Like what you see? Visit the ' +\n",
              "            '<a target=\"_blank\" href=https://colab.research.google.com/notebooks/data_table.ipynb>data table notebook</a>'\n",
              "            + ' to learn more about interactive tables.';\n",
              "          element.innerHTML = '';\n",
              "          dataTable['output_type'] = 'display_data';\n",
              "          await google.colab.output.renderOutput(dataTable, element);\n",
              "          const docLink = document.createElement('div');\n",
              "          docLink.innerHTML = docLinkHtml;\n",
              "          element.appendChild(docLink);\n",
              "        }\n",
              "      </script>\n",
              "    </div>\n",
              "  </div>\n",
              "  "
            ]
          },
          "metadata": {},
          "execution_count": 22
        }
      ]
    },
    {
      "cell_type": "code",
      "source": [
        "#Decision Tree\n",
        "\n",
        "from sklearn.tree import DecisionTreeClassifier\n",
        "\n",
        "model= DecisionTreeClassifier()\n",
        "model.fit(train_data,y_train)\n",
        "y_pred=model.predict(test_data)"
      ],
      "metadata": {
        "id": "CVFhrijRMy9s"
      },
      "execution_count": 23,
      "outputs": []
    },
    {
      "cell_type": "code",
      "source": [
        "mse=mean_squared_error(y_test,y_pred)\n",
        "from sklearn.metrics import r2_score\n",
        "r=r2_score(y_test,y_pred)\n",
        "\n",
        "print('the model performance')\n",
        "print('----------------------')\n",
        "print('MSE is {}'.format(mse))\n",
        "print('R-squared score is {}'.format(r))"
      ],
      "metadata": {
        "colab": {
          "base_uri": "https://localhost:8080/"
        },
        "id": "srMIN3DSM1k5",
        "outputId": "922991b5-5611-4861-e78e-c4a3dc81aaae"
      },
      "execution_count": 24,
      "outputs": [
        {
          "output_type": "stream",
          "name": "stdout",
          "text": [
            "the model performance\n",
            "----------------------\n",
            "MSE is 0.1673228346456693\n",
            "R-squared score is 0.3241614624908047\n"
          ]
        }
      ]
    },
    {
      "cell_type": "code",
      "source": [
        "#evaluate performance\n",
        "#confusion matrix\n",
        "from sklearn.metrics import confusion_matrix\n",
        "import seaborn as sns\n",
        "cf=confusion_matrix(y_test, y_pred)\n",
        "sns.heatmap(cf, annot=True)"
      ],
      "metadata": {
        "colab": {
          "base_uri": "https://localhost:8080/",
          "height": 283
        },
        "id": "LOshsNfnGn3N",
        "outputId": "93ab8d66-9338-48cd-d3a4-af13745bfb46"
      },
      "execution_count": 25,
      "outputs": [
        {
          "output_type": "execute_result",
          "data": {
            "text/plain": [
              "<matplotlib.axes._subplots.AxesSubplot at 0x7f91a7961290>"
            ]
          },
          "metadata": {},
          "execution_count": 25
        },
        {
          "output_type": "display_data",
          "data": {
            "text/plain": [
              "<Figure size 432x288 with 2 Axes>"
            ],
            "image/png": "[encoded data removed]"
          },
          "metadata": {
            "needs_background": "light"
          }
        }
      ]
    },
    {
      "cell_type": "code",
      "source": [
        "#accuracy\n",
        "from sklearn.metrics import accuracy_score\n",
        "\n",
        "accuracy= accuracy_score(y_test, y_pred)\n",
        "accuracy"
      ],
      "metadata": {
        "colab": {
          "base_uri": "https://localhost:8080/"
        },
        "id": "LuU1EXHHGtRx",
        "outputId": "e5da0bbb-2d7d-4a8a-c2dd-ad9ca88cf918"
      },
      "execution_count": 26,
      "outputs": [
        {
          "output_type": "execute_result",
          "data": {
            "text/plain": [
              "0.8326771653543307"
            ]
          },
          "metadata": {},
          "execution_count": 26
        }
      ]
    },
    {
      "cell_type": "code",
      "source": [
        "#precision score\n",
        "from sklearn.metrics import precision_score\n",
        "precision=precision_score(y_test, y_pred)\n",
        "precision"
      ],
      "metadata": {
        "colab": {
          "base_uri": "https://localhost:8080/"
        },
        "id": "xtqdrte2GwBo",
        "outputId": "4d2649a4-ea0e-4cb0-b409-25604b66d17d"
      },
      "execution_count": 27,
      "outputs": [
        {
          "output_type": "execute_result",
          "data": {
            "text/plain": [
              "0.8100478468899521"
            ]
          },
          "metadata": {},
          "execution_count": 27
        }
      ]
    },
    {
      "cell_type": "code",
      "source": [
        "#recall score\n",
        "from sklearn.metrics import recall_score\n",
        "recall=recall_score(y_test,y_pred)\n",
        "recall"
      ],
      "metadata": {
        "colab": {
          "base_uri": "https://localhost:8080/"
        },
        "id": "ZVwZGFmfGymE",
        "outputId": "1ee1eb7b-76a3-45d4-8e99-9b0d7cb0d2e3"
      },
      "execution_count": 28,
      "outputs": [
        {
          "output_type": "execute_result",
          "data": {
            "text/plain": [
              "0.8214459000485201"
            ]
          },
          "metadata": {},
          "execution_count": 28
        }
      ]
    },
    {
      "cell_type": "code",
      "source": [
        "#f1 score\n",
        "from sklearn.metrics import f1_score\n",
        "f1= f1_score(y_test,y_pred)\n",
        "f1"
      ],
      "metadata": {
        "colab": {
          "base_uri": "https://localhost:8080/"
        },
        "id": "7aCkAQfaG1uc",
        "outputId": "34429aee-d8f6-41d4-b761-54070ae2bb56"
      },
      "execution_count": 29,
      "outputs": [
        {
          "output_type": "execute_result",
          "data": {
            "text/plain": [
              "0.8157070585401108"
            ]
          },
          "metadata": {},
          "execution_count": 29
        }
      ]
    },
    {
      "cell_type": "code",
      "source": [
        "plt.figure( figsize=(16,8) )\n",
        "from sklearn import tree\n",
        "tree.plot_tree(model)"
      ],
      "metadata": {
        "colab": {
          "base_uri": "https://localhost:8080/",
          "height": 1000
        },
        "id": "sPnQqKZsG3rV",
        "outputId": "2072a3de-b39a-4b3c-8703-6a871c643e1f"
      },
      "execution_count": 31,
      "outputs": [
        {
          "output_type": "execute_result",
          "data": {
            "text/plain": [
              "[Text(0.814380407880235, 0.9967741935483871, 'X[49871] <= 0.001\\ngini = 0.495\\nsamples = 18288\\nvalue = [10063, 8225]'),\n",
              " Text(0.681107774732852, 0.9903225806451613, 'X[5018] <= 0.005\\ngini = 0.44\\nsamples = 11306\\nvalue = [3695, 7611]'),\n",
              " Text(0.6165178078667379, 0.9838709677419355, 'X[33408] <= 0.016\\ngini = 0.263\\nsamples = 8324\\nvalue = [1298, 7026]'),\n",
              " Text(0.5604502645074938, 0.9774193548387097, 'X[19709] <= 0.004\\ngini = 0.236\\nsamples = 8062\\nvalue = [1101, 6961]'),\n",
              " Text(0.4728300255013868, 0.9709677419354839, 'X[37392] <= 0.001\\ngini = 0.226\\nsamples = 7972\\nvalue = [1033, 6939]'),\n",
              " Text(0.34338883961649974, 0.964516129032258, 'X[1293] <= 0.005\\ngini = 0.146\\nsamples = 4539\\nvalue = [361, 4178]'),\n",
              " Text(0.300226814979265, 0.9580645161290322, 'X[2304] <= 0.093\\ngini = 0.086\\nsamples = 3071\\nvalue = [138, 2933]'),\n",
              " Text(0.28765509820368473, 0.9516129032258065, 'X[47693] <= 0.003\\ngini = 0.079\\nsamples = 3056\\nvalue = [126, 2930]'),\n",
              " Text(0.2750833814281045, 0.9451612903225807, 'X[21561] <= 0.013\\ngini = 0.074\\nsamples = 3045\\nvalue = [117, 2928]'),\n",
              " Text(0.2574829779422922, 0.9387096774193548, 'X[7084] <= 0.016\\ngini = 0.064\\nsamples = 2984\\nvalue = [98, 2886]'),\n",
              " Text(0.2549686345871761, 0.932258064516129, 'X[12934] <= 0.018\\ngini = 0.061\\nsamples = 2980\\nvalue = [94, 2886]'),\n",
              " Text(0.24491126116671194, 0.9258064516129032, 'X[10352] <= 0.023\\ngini = 0.055\\nsamples = 2955\\nvalue = [84, 2871]'),\n",
              " Text(0.23988257445647984, 0.9193548387096774, 'X[31010] <= 0.046\\ngini = 0.052\\nsamples = 2948\\nvalue = [79, 2869]'),\n",
              " Text(0.2373682311013638, 0.9129032258064517, 'X[24815] <= 0.019\\ngini = 0.05\\nsamples = 2945\\nvalue = [76, 2869]'),\n",
              " Text(0.23485388774624774, 0.9064516129032258, 'X[21401] <= 0.051\\ngini = 0.048\\nsamples = 2942\\nvalue = [73, 2869]'),\n",
              " Text(0.23233954439113172, 0.9, 'X[45817] <= 0.026\\ngini = 0.047\\nsamples = 2939\\nvalue = [70, 2869]'),\n",
              " Text(0.22511080724517307, 0.8935483870967742, 'X[470] <= 0.038\\ngini = 0.045\\nsamples = 2935\\nvalue = [67, 2868]'),\n",
              " Text(0.21819636301860393, 0.8870967741935484, 'X[29323] <= 0.036\\ngini = 0.043\\nsamples = 2931\\nvalue = [64, 2867]'),\n",
              " Text(0.21191050463081382, 0.8806451612903226, 'X[26612] <= 0.033\\ngini = 0.041\\nsamples = 2927\\nvalue = [61, 2866]'),\n",
              " Text(0.20688181792058172, 0.8741935483870967, 'X[39682] <= 0.014\\ngini = 0.039\\nsamples = 2923\\nvalue = [58, 2865]'),\n",
              " Text(0.20436747456546567, 0.867741935483871, 'X[594] <= 0.015\\ngini = 0.038\\nsamples = 2921\\nvalue = [56, 2865]'),\n",
              " Text(0.20185313121034962, 0.8612903225806452, 'X[12040] <= 0.025\\ngini = 0.036\\nsamples = 2919\\nvalue = [54, 2865]'),\n",
              " Text(0.19933878785523357, 0.8548387096774194, 'X[25461] <= 0.096\\ngini = 0.035\\nsamples = 2917\\nvalue = [52, 2865]'),\n",
              " Text(0.19682444450011755, 0.8483870967741935, 'X[25161] <= 0.019\\ngini = 0.034\\nsamples = 2915\\nvalue = [50, 2865]'),\n",
              " Text(0.1943101011450015, 0.8419354838709677, 'X[41859] <= 0.044\\ngini = 0.032\\nsamples = 2913\\nvalue = [48, 2865]'),\n",
              " Text(0.19179575778988545, 0.8354838709677419, 'X[5054] <= 0.311\\ngini = 0.031\\nsamples = 2911\\nvalue = [46, 2865]'),\n",
              " Text(0.1892814144347694, 0.8290322580645161, 'X[15947] <= 0.019\\ngini = 0.03\\nsamples = 2909\\nvalue = [44, 2865]'),\n",
              " Text(0.18676707107965335, 0.8225806451612904, 'X[377] <= 0.029\\ngini = 0.028\\nsamples = 2907\\nvalue = [42, 2865]'),\n",
              " Text(0.1842527277245373, 0.8161290322580645, 'X[8533] <= 0.04\\ngini = 0.027\\nsamples = 2905\\nvalue = [40, 2865]'),\n",
              " Text(0.18173838436942125, 0.8096774193548387, 'X[29735] <= 0.078\\ngini = 0.026\\nsamples = 2903\\nvalue = [38, 2865]'),\n",
              " Text(0.1792240410143052, 0.8032258064516129, 'X[2105] <= 0.011\\ngini = 0.025\\nsamples = 2901\\nvalue = [36, 2865]'),\n",
              " Text(0.1705024125012464, 0.7967741935483871, 'X[5382] <= 0.002\\ngini = 0.023\\nsamples = 2896\\nvalue = [33, 2863]'),\n",
              " Text(0.16060218554047698, 0.7903225806451613, 'X[42955] <= 0.018\\ngini = 0.021\\nsamples = 2890\\nvalue = [30, 2860]'),\n",
              " Text(0.15337344839451833, 0.7838709677419354, 'X[33997] <= 0.023\\ngini = 0.019\\nsamples = 2887\\nvalue = [28, 2859]'),\n",
              " Text(0.1464590041679492, 0.7774193548387097, 'X[22255] <= 0.08\\ngini = 0.018\\nsamples = 2884\\nvalue = [26, 2858]'),\n",
              " Text(0.14017314578015908, 0.7709677419354839, 'X[27929] <= 0.017\\ngini = 0.017\\nsamples = 2881\\nvalue = [24, 2857]'),\n",
              " Text(0.135144459069927, 0.7645161290322581, 'X[5692] <= 0.038\\ngini = 0.015\\nsamples = 2878\\nvalue = [22, 2856]'),\n",
              " Text(0.13263011571481095, 0.7580645161290323, 'X[44566] <= 0.169\\ngini = 0.014\\nsamples = 2877\\nvalue = [21, 2856]'),\n",
              " Text(0.1301157723596949, 0.7516129032258064, 'X[35715] <= 0.207\\ngini = 0.014\\nsamples = 2876\\nvalue = [20, 2856]'),\n",
              " Text(0.12760142900457885, 0.7451612903225806, 'X[7470] <= 0.04\\ngini = 0.013\\nsamples = 2875\\nvalue = [19, 2856]'),\n",
              " Text(0.1250870856494628, 0.7387096774193549, 'X[38201] <= 0.075\\ngini = 0.012\\nsamples = 2874\\nvalue = [18, 2856]'),\n",
              " Text(0.12257274229434675, 0.7322580645161291, 'X[49918] <= 0.092\\ngini = 0.012\\nsamples = 2873\\nvalue = [17, 2856]'),\n",
              " Text(0.1200583989392307, 0.7258064516129032, 'X[7468] <= 0.031\\ngini = 0.011\\nsamples = 2872\\nvalue = [16, 2856]'),\n",
              " Text(0.11754405558411465, 0.7193548387096774, 'X[39718] <= 0.114\\ngini = 0.01\\nsamples = 2871\\nvalue = [15, 2856]'),\n",
              " Text(0.1150297122289986, 0.7129032258064516, 'X[36770] <= 0.069\\ngini = 0.01\\nsamples = 2870\\nvalue = [14, 2856]'),\n",
              " Text(0.11251536887388257, 0.7064516129032258, 'X[935] <= 0.168\\ngini = 0.009\\nsamples = 2869\\nvalue = [13, 2856]'),\n",
              " Text(0.11000102551876652, 0.7, 'X[49393] <= 0.07\\ngini = 0.008\\nsamples = 2868\\nvalue = [12, 2856]'),\n",
              " Text(0.10748668216365047, 0.6935483870967742, 'X[25843] <= 0.03\\ngini = 0.008\\nsamples = 2867\\nvalue = [11, 2856]'),\n",
              " Text(0.10497233880853442, 0.6870967741935484, 'X[41917] <= 0.205\\ngini = 0.007\\nsamples = 2866\\nvalue = [10, 2856]'),\n",
              " Text(0.10245799545341837, 0.6806451612903226, 'X[46573] <= 0.019\\ngini = 0.006\\nsamples = 2865\\nvalue = [9, 2856]'),\n",
              " Text(0.09994365209830232, 0.6741935483870968, 'X[35990] <= 0.171\\ngini = 0.006\\nsamples = 2864\\nvalue = [8, 2856]'),\n",
              " Text(0.09742930874318628, 0.667741935483871, 'X[42400] <= 0.103\\ngini = 0.005\\nsamples = 2863\\nvalue = [7, 2856]'),\n",
              " Text(0.09491496538807023, 0.6612903225806451, 'X[35371] <= 0.009\\ngini = 0.004\\nsamples = 2862\\nvalue = [6, 2856]'),\n",
              " Text(0.09240062203295418, 0.6548387096774193, 'X[590] <= 0.074\\ngini = 0.003\\nsamples = 2861\\nvalue = [5, 2856]'),\n",
              " Text(0.08988627867783813, 0.6483870967741936, 'X[44398] <= 0.025\\ngini = 0.003\\nsamples = 2860\\nvalue = [4, 2856]'),\n",
              " Text(0.08737193532272208, 0.6419354838709678, 'X[40244] <= 0.107\\ngini = 0.002\\nsamples = 2859\\nvalue = [3, 2856]'),\n",
              " Text(0.08485759196760603, 0.635483870967742, 'X[26091] <= 0.059\\ngini = 0.001\\nsamples = 2858\\nvalue = [2, 2856]'),\n",
              " Text(0.08234324861248998, 0.6290322580645161, 'X[32048] <= 0.144\\ngini = 0.001\\nsamples = 2857\\nvalue = [1, 2856]'),\n",
              " Text(0.07982890525737395, 0.6225806451612903, 'gini = 0.0\\nsamples = 2855\\nvalue = [0, 2855]'),\n",
              " Text(0.08485759196760603, 0.6225806451612903, 'X[7205] <= 0.027\\ngini = 0.5\\nsamples = 2\\nvalue = [1, 1]'),\n",
              " Text(0.08234324861248998, 0.6161290322580645, 'gini = 0.0\\nsamples = 1\\nvalue = [1, 0]'),\n",
              " Text(0.08737193532272208, 0.6161290322580645, 'gini = 0.0\\nsamples = 1\\nvalue = [0, 1]'),\n",
              " Text(0.08737193532272208, 0.6290322580645161, 'gini = 0.0\\nsamples = 1\\nvalue = [1, 0]'),\n",
              " Text(0.08988627867783813, 0.635483870967742, 'gini = 0.0\\nsamples = 1\\nvalue = [1, 0]'),\n",
              " Text(0.09240062203295418, 0.6419354838709678, 'gini = 0.0\\nsamples = 1\\nvalue = [1, 0]'),\n",
              " Text(0.09491496538807023, 0.6483870967741936, 'gini = 0.0\\nsamples = 1\\nvalue = [1, 0]'),\n",
              " Text(0.09742930874318628, 0.6548387096774193, 'gini = 0.0\\nsamples = 1\\nvalue = [1, 0]'),\n",
              " Text(0.09994365209830232, 0.6612903225806451, 'gini = 0.0\\nsamples = 1\\nvalue = [1, 0]'),\n",
              " Text(0.10245799545341837, 0.667741935483871, 'gini = 0.0\\nsamples = 1\\nvalue = [1, 0]'),\n",
              " Text(0.10497233880853442, 0.6741935483870968, 'gini = 0.0\\nsamples = 1\\nvalue = [1, 0]'),\n",
              " Text(0.10748668216365047, 0.6806451612903226, 'gini = 0.0\\nsamples = 1\\nvalue = [1, 0]'),\n",
              " Text(0.11000102551876652, 0.6870967741935484, 'gini = 0.0\\nsamples = 1\\nvalue = [1, 0]'),\n",
              " Text(0.11251536887388257, 0.6935483870967742, 'gini = 0.0\\nsamples = 1\\nvalue = [1, 0]'),\n",
              " Text(0.1150297122289986, 0.7, 'gini = 0.0\\nsamples = 1\\nvalue = [1, 0]'),\n",
              " Text(0.11754405558411465, 0.7064516129032258, 'gini = 0.0\\nsamples = 1\\nvalue = [1, 0]'),\n",
              " Text(0.1200583989392307, 0.7129032258064516, 'gini = 0.0\\nsamples = 1\\nvalue = [1, 0]'),\n",
              " Text(0.12257274229434675, 0.7193548387096774, 'gini = 0.0\\nsamples = 1\\nvalue = [1, 0]'),\n",
              " Text(0.1250870856494628, 0.7258064516129032, 'gini = 0.0\\nsamples = 1\\nvalue = [1, 0]'),\n",
              " Text(0.12760142900457885, 0.7322580645161291, 'gini = 0.0\\nsamples = 1\\nvalue = [1, 0]'),\n",
              " Text(0.1301157723596949, 0.7387096774193549, 'gini = 0.0\\nsamples = 1\\nvalue = [1, 0]'),\n",
              " Text(0.13263011571481095, 0.7451612903225806, 'gini = 0.0\\nsamples = 1\\nvalue = [1, 0]'),\n",
              " Text(0.135144459069927, 0.7516129032258064, 'gini = 0.0\\nsamples = 1\\nvalue = [1, 0]'),\n",
              " Text(0.13765880242504303, 0.7580645161290323, 'gini = 0.0\\nsamples = 1\\nvalue = [1, 0]'),\n",
              " Text(0.14520183249039118, 0.7645161290322581, 'X[36383] <= 0.043\\ngini = 0.444\\nsamples = 3\\nvalue = [2, 1]'),\n",
              " Text(0.14268748913527513, 0.7580645161290323, 'gini = 0.0\\nsamples = 2\\nvalue = [2, 0]'),\n",
              " Text(0.14771617584550722, 0.7580645161290323, 'gini = 0.0\\nsamples = 1\\nvalue = [0, 1]'),\n",
              " Text(0.15274486255573932, 0.7709677419354839, 'X[43128] <= 0.024\\ngini = 0.444\\nsamples = 3\\nvalue = [2, 1]'),\n",
              " Text(0.15023051920062327, 0.7645161290322581, 'gini = 0.0\\nsamples = 2\\nvalue = [2, 0]'),\n",
              " Text(0.15525920591085537, 0.7645161290322581, 'gini = 0.0\\nsamples = 1\\nvalue = [0, 1]'),\n",
              " Text(0.16028789262108747, 0.7774193548387097, 'X[8699] <= 0.068\\ngini = 0.444\\nsamples = 3\\nvalue = [2, 1]'),\n",
              " Text(0.15777354926597142, 0.7709677419354839, 'gini = 0.0\\nsamples = 2\\nvalue = [2, 0]'),\n",
              " Text(0.16280223597620352, 0.7709677419354839, 'gini = 0.0\\nsamples = 1\\nvalue = [0, 1]'),\n",
              " Text(0.1678309226864356, 0.7838709677419354, 'X[36691] <= 0.042\\ngini = 0.444\\nsamples = 3\\nvalue = [2, 1]'),\n",
              " Text(0.16531657933131957, 0.7774193548387097, 'gini = 0.0\\nsamples = 2\\nvalue = [2, 0]'),\n",
              " Text(0.17034526604155165, 0.7774193548387097, 'gini = 0.0\\nsamples = 1\\nvalue = [0, 1]'),\n",
              " Text(0.18040263946201585, 0.7903225806451613, 'X[30344] <= 0.002\\ngini = 0.5\\nsamples = 6\\nvalue = [3, 3]'),\n",
              " Text(0.1778882961068998, 0.7838709677419354, 'X[8438] <= 0.098\\ngini = 0.375\\nsamples = 4\\nvalue = [3, 1]'),\n",
              " Text(0.17537395275178375, 0.7774193548387097, 'gini = 0.0\\nsamples = 3\\nvalue = [3, 0]'),\n",
              " Text(0.18040263946201585, 0.7774193548387097, 'gini = 0.0\\nsamples = 1\\nvalue = [0, 1]'),\n",
              " Text(0.1829169828171319, 0.7838709677419354, 'gini = 0.0\\nsamples = 2\\nvalue = [0, 2]'),\n",
              " Text(0.187945669527364, 0.7967741935483871, 'X[9582] <= 0.043\\ngini = 0.48\\nsamples = 5\\nvalue = [3, 2]'),\n",
              " Text(0.18543132617224795, 0.7903225806451613, 'gini = 0.0\\nsamples = 3\\nvalue = [3, 0]'),\n",
              " Text(0.19046001288248005, 0.7903225806451613, 'gini = 0.0\\nsamples = 2\\nvalue = [0, 2]'),\n",
              " Text(0.1842527277245373, 0.8032258064516129, 'gini = 0.0\\nsamples = 2\\nvalue = [2, 0]'),\n",
              " Text(0.18676707107965335, 0.8096774193548387, 'gini = 0.0\\nsamples = 2\\nvalue = [2, 0]'),\n",
              " Text(0.1892814144347694, 0.8161290322580645, 'gini = 0.0\\nsamples = 2\\nvalue = [2, 0]'),\n",
              " Text(0.19179575778988545, 0.8225806451612904, 'gini = 0.0\\nsamples = 2\\nvalue = [2, 0]'),\n",
              " Text(0.1943101011450015, 0.8290322580645161, 'gini = 0.0\\nsamples = 2\\nvalue = [2, 0]'),\n",
              " Text(0.19682444450011755, 0.8354838709677419, 'gini = 0.0\\nsamples = 2\\nvalue = [2, 0]'),\n",
              " Text(0.19933878785523357, 0.8419354838709677, 'gini = 0.0\\nsamples = 2\\nvalue = [2, 0]'),\n",
              " Text(0.20185313121034962, 0.8483870967741935, 'gini = 0.0\\nsamples = 2\\nvalue = [2, 0]'),\n",
              " Text(0.20436747456546567, 0.8548387096774194, 'gini = 0.0\\nsamples = 2\\nvalue = [2, 0]'),\n",
              " Text(0.20688181792058172, 0.8612903225806452, 'gini = 0.0\\nsamples = 2\\nvalue = [2, 0]'),\n",
              " Text(0.20939616127569777, 0.867741935483871, 'gini = 0.0\\nsamples = 2\\nvalue = [2, 0]'),\n",
              " Text(0.21693919134104592, 0.8741935483870967, 'X[2099] <= 0.005\\ngini = 0.375\\nsamples = 4\\nvalue = [3, 1]'),\n",
              " Text(0.21442484798592987, 0.867741935483871, 'gini = 0.0\\nsamples = 1\\nvalue = [0, 1]'),\n",
              " Text(0.21945353469616197, 0.867741935483871, 'gini = 0.0\\nsamples = 3\\nvalue = [3, 0]'),\n",
              " Text(0.22448222140639407, 0.8806451612903226, 'X[24846] <= 0.031\\ngini = 0.375\\nsamples = 4\\nvalue = [3, 1]'),\n",
              " Text(0.22196787805127802, 0.8741935483870967, 'gini = 0.0\\nsamples = 3\\nvalue = [3, 0]'),\n",
              " Text(0.22699656476151012, 0.8741935483870967, 'gini = 0.0\\nsamples = 1\\nvalue = [0, 1]'),\n",
              " Text(0.2320252514717422, 0.8870967741935484, 'X[4949] <= 0.016\\ngini = 0.375\\nsamples = 4\\nvalue = [3, 1]'),\n",
              " Text(0.22951090811662617, 0.8806451612903226, 'gini = 0.0\\nsamples = 3\\nvalue = [3, 0]'),\n",
              " Text(0.23453959482685824, 0.8806451612903226, 'gini = 0.0\\nsamples = 1\\nvalue = [0, 1]'),\n",
              " Text(0.23956828153709034, 0.8935483870967742, 'X[46530] <= 0.042\\ngini = 0.375\\nsamples = 4\\nvalue = [3, 1]'),\n",
              " Text(0.2370539381819743, 0.8870967741935484, 'gini = 0.0\\nsamples = 3\\nvalue = [3, 0]'),\n",
              " Text(0.2420826248922064, 0.8870967741935484, 'gini = 0.0\\nsamples = 1\\nvalue = [0, 1]'),\n",
              " Text(0.2373682311013638, 0.9, 'gini = 0.0\\nsamples = 3\\nvalue = [3, 0]'),\n",
              " Text(0.23988257445647984, 0.9064516129032258, 'gini = 0.0\\nsamples = 3\\nvalue = [3, 0]'),\n",
              " Text(0.2423969178115959, 0.9129032258064517, 'gini = 0.0\\nsamples = 3\\nvalue = [3, 0]'),\n",
              " Text(0.24993994787694404, 0.9193548387096774, 'X[55] <= 0.031\\ngini = 0.408\\nsamples = 7\\nvalue = [5, 2]'),\n",
              " Text(0.247425604521828, 0.9129032258064517, 'gini = 0.0\\nsamples = 5\\nvalue = [5, 0]'),\n",
              " Text(0.2524542912320601, 0.9129032258064517, 'gini = 0.0\\nsamples = 2\\nvalue = [0, 2]'),\n",
              " Text(0.2650260080076403, 0.9258064516129032, 'X[23288] <= 0.013\\ngini = 0.48\\nsamples = 25\\nvalue = [10, 15]'),\n",
              " Text(0.2625116646525243, 0.9193548387096774, 'X[47383] <= 0.01\\ngini = 0.332\\nsamples = 19\\nvalue = [4, 15]'),\n",
              " Text(0.2574829779422922, 0.9129032258064517, 'X[34632] <= 0.052\\ngini = 0.124\\nsamples = 15\\nvalue = [1, 14]'),\n",
              " Text(0.2549686345871761, 0.9064516129032258, 'gini = 0.0\\nsamples = 13\\nvalue = [0, 13]'),\n",
              " Text(0.2599973212974082, 0.9064516129032258, 'gini = 0.5\\nsamples = 2\\nvalue = [1, 1]'),\n",
              " Text(0.2675403513627564, 0.9129032258064517, 'X[26568] <= 0.012\\ngini = 0.375\\nsamples = 4\\nvalue = [3, 1]'),\n",
              " Text(0.2650260080076403, 0.9064516129032258, 'gini = 0.0\\nsamples = 2\\nvalue = [2, 0]'),\n",
              " Text(0.2700546947178724, 0.9064516129032258, 'gini = 0.5\\nsamples = 2\\nvalue = [1, 1]'),\n",
              " Text(0.2675403513627564, 0.9193548387096774, 'gini = 0.0\\nsamples = 6\\nvalue = [6, 0]'),\n",
              " Text(0.2599973212974082, 0.932258064516129, 'gini = 0.0\\nsamples = 4\\nvalue = [4, 0]'),\n",
              " Text(0.29268378491391683, 0.9387096774193548, 'X[39267] <= 0.023\\ngini = 0.429\\nsamples = 61\\nvalue = [19, 42]'),\n",
              " Text(0.28765509820368473, 0.932258064516129, 'X[39302] <= 0.021\\ngini = 0.366\\nsamples = 54\\nvalue = [13, 41]'),\n",
              " Text(0.2851407548485687, 0.9258064516129032, 'X[19685] <= 0.019\\ngini = 0.295\\nsamples = 50\\nvalue = [9, 41]'),\n",
              " Text(0.28262641149345263, 0.9193548387096774, 'X[12400] <= 0.012\\ngini = 0.223\\nsamples = 47\\nvalue = [6, 41]'),\n",
              " Text(0.2775977247832206, 0.9129032258064517, 'X[26115] <= 0.026\\ngini = 0.13\\nsamples = 43\\nvalue = [3, 40]'),\n",
              " Text(0.2750833814281045, 0.9064516129032258, 'X[15030] <= 0.008\\ngini = 0.048\\nsamples = 41\\nvalue = [1, 40]'),\n",
              " Text(0.2725690380729885, 0.9, 'gini = 0.0\\nsamples = 40\\nvalue = [0, 40]'),\n",
              " Text(0.2775977247832206, 0.9, 'gini = 0.0\\nsamples = 1\\nvalue = [1, 0]'),\n",
              " Text(0.2801120681383366, 0.9064516129032258, 'gini = 0.0\\nsamples = 2\\nvalue = [2, 0]'),\n",
              " Text(0.28765509820368473, 0.9129032258064517, 'X[15678] <= 0.156\\ngini = 0.375\\nsamples = 4\\nvalue = [3, 1]'),\n",
              " Text(0.2851407548485687, 0.9064516129032258, 'gini = 0.0\\nsamples = 3\\nvalue = [3, 0]'),\n",
              " Text(0.2901694415588008, 0.9064516129032258, 'gini = 0.0\\nsamples = 1\\nvalue = [0, 1]'),\n",
              " Text(0.28765509820368473, 0.9193548387096774, 'gini = 0.0\\nsamples = 3\\nvalue = [3, 0]'),\n",
              " Text(0.2901694415588008, 0.9258064516129032, 'gini = 0.0\\nsamples = 4\\nvalue = [4, 0]'),\n",
              " Text(0.29771247162414893, 0.932258064516129, 'X[32395] <= 0.03\\ngini = 0.245\\nsamples = 7\\nvalue = [6, 1]'),\n",
              " Text(0.2951981282690329, 0.9258064516129032, 'gini = 0.0\\nsamples = 6\\nvalue = [6, 0]'),\n",
              " Text(0.300226814979265, 0.9258064516129032, 'gini = 0.0\\nsamples = 1\\nvalue = [0, 1]'),\n",
              " Text(0.300226814979265, 0.9451612903225807, 'X[35664] <= 0.031\\ngini = 0.298\\nsamples = 11\\nvalue = [9, 2]'),\n",
              " Text(0.29771247162414893, 0.9387096774193548, 'gini = 0.0\\nsamples = 9\\nvalue = [9, 0]'),\n",
              " Text(0.30274115833438103, 0.9387096774193548, 'gini = 0.0\\nsamples = 2\\nvalue = [0, 2]'),\n",
              " Text(0.31279853175484523, 0.9516129032258065, 'X[39339] <= 0.017\\ngini = 0.32\\nsamples = 15\\nvalue = [12, 3]'),\n",
              " Text(0.3102841883997292, 0.9451612903225807, 'X[30657] <= 0.175\\ngini = 0.142\\nsamples = 13\\nvalue = [12, 1]'),\n",
              " Text(0.30776984504461313, 0.9387096774193548, 'gini = 0.0\\nsamples = 12\\nvalue = [12, 0]'),\n",
              " Text(0.31279853175484523, 0.9387096774193548, 'gini = 0.0\\nsamples = 1\\nvalue = [0, 1]'),\n",
              " Text(0.31531287510996125, 0.9451612903225807, 'gini = 0.0\\nsamples = 2\\nvalue = [0, 2]'),\n",
              " Text(0.3865508642537344, 0.9580645161290322, 'X[21358] <= 0.019\\ngini = 0.258\\nsamples = 1468\\nvalue = [223, 1245]'),\n",
              " Text(0.3723797525534094, 0.9516129032258065, 'X[44449] <= 0.007\\ngini = 0.24\\nsamples = 1413\\nvalue = [197, 1216]'),\n",
              " Text(0.3628951043161296, 0.9451612903225807, 'X[37105] <= 0.014\\ngini = 0.233\\nsamples = 1404\\nvalue = [189, 1215]'),\n",
              " Text(0.35146883790691813, 0.9387096774193548, 'X[37115] <= 0.007\\ngini = 0.225\\nsamples = 1392\\nvalue = [180, 1212]'),\n",
              " Text(0.33615933515384333, 0.932258064516129, 'X[35531] <= 0.037\\ngini = 0.187\\nsamples = 1148\\nvalue = [120, 1028]'),\n",
              " Text(0.3336449917987273, 0.9258064516129032, 'X[18206] <= 0.014\\ngini = 0.181\\nsamples = 1143\\nvalue = [115, 1028]'),\n",
              " Text(0.3247121977304537, 0.9193548387096774, 'X[36433] <= 0.021\\ngini = 0.173\\nsamples = 1136\\nvalue = [109, 1027]'),\n",
              " Text(0.3143896396592546, 0.9129032258064517, 'X[7280] <= 0.035\\ngini = 0.165\\nsamples = 1126\\nvalue = [102, 1024]'),\n",
              " Text(0.30128755358220455, 0.9064516129032258, 'X[3237] <= 0.001\\ngini = 0.158\\nsamples = 1120\\nvalue = [97, 1023]'),\n",
              " Text(0.28262641149345263, 0.9, 'X[29546] <= 0.04\\ngini = 0.13\\nsamples = 1001\\nvalue = [70, 931]'),\n",
              " Text(0.2801120681383366, 0.8935483870967742, 'X[36306] <= 0.047\\ngini = 0.125\\nsamples = 998\\nvalue = [67, 931]'),\n",
              " Text(0.2775977247832206, 0.8870967741935484, 'X[6459] <= 0.05\\ngini = 0.12\\nsamples = 995\\nvalue = [64, 931]'),\n",
              " Text(0.2750833814281045, 0.8806451612903226, 'X[3526] <= 0.028\\ngini = 0.115\\nsamples = 992\\nvalue = [61, 931]'),\n",
              " Text(0.2725690380729885, 0.8741935483870967, 'X[15743] <= 0.026\\ngini = 0.11\\nsamples = 989\\nvalue = [58, 931]'),\n",
              " Text(0.2632188237211507, 0.867741935483871, 'X[3747] <= 0.009\\ngini = 0.102\\nsamples = 981\\nvalue = [53, 928]'),\n",
              " Text(0.2520614250828232, 0.8612903225806452, 'X[15560] <= 0.012\\ngini = 0.083\\nsamples = 927\\nvalue = [40, 887]'),\n",
              " Text(0.24954708172770715, 0.8548387096774194, 'X[40053] <= 0.035\\ngini = 0.077\\nsamples = 924\\nvalue = [37, 887]'),\n",
              " Text(0.24231834458174853, 0.8483870967741935, 'X[29168] <= 0.032\\ngini = 0.071\\nsamples = 920\\nvalue = [34, 886]'),\n",
              " Text(0.23540390035517939, 0.8419354838709677, 'X[7995] <= 0.022\\ngini = 0.065\\nsamples = 916\\nvalue = [31, 885]'),\n",
              " Text(0.22911804196738927, 0.8354838709677419, 'X[12612] <= 0.008\\ngini = 0.06\\nsamples = 912\\nvalue = [28, 884]'),\n",
              " Text(0.22408935525715717, 0.8290322580645161, 'X[35541] <= 0.037\\ngini = 0.054\\nsamples = 908\\nvalue = [25, 883]'),\n",
              " Text(0.22157501190204112, 0.8225806451612904, 'X[9200] <= 0.013\\ngini = 0.049\\nsamples = 906\\nvalue = [23, 883]'),\n",
              " Text(0.21906066854692507, 0.8161290322580645, 'X[26009] <= 0.025\\ngini = 0.045\\nsamples = 904\\nvalue = [21, 883]'),\n",
              " Text(0.21654632519180902, 0.8096774193548387, 'X[16477] <= 0.024\\ngini = 0.041\\nsamples = 902\\nvalue = [19, 883]'),\n",
              " Text(0.21403198183669297, 0.8032258064516129, 'X[31702] <= 0.018\\ngini = 0.037\\nsamples = 900\\nvalue = [17, 883]'),\n",
              " Text(0.21151763848157693, 0.7967741935483871, 'X[32635] <= 0.021\\ngini = 0.033\\nsamples = 898\\nvalue = [15, 883]'),\n",
              " Text(0.2046031942550078, 0.7903225806451613, 'X[7607] <= 0.053\\ngini = 0.027\\nsamples = 892\\nvalue = [12, 880]'),\n",
              " Text(0.1983173358672177, 0.7838709677419354, 'X[20569] <= 0.037\\ngini = 0.022\\nsamples = 889\\nvalue = [10, 879]'),\n",
              " Text(0.1932886491569856, 0.7774193548387097, 'X[38588] <= 0.02\\ngini = 0.018\\nsamples = 886\\nvalue = [8, 878]'),\n",
              " Text(0.19077430580186955, 0.7709677419354839, 'X[25910] <= 0.019\\ngini = 0.016\\nsamples = 885\\nvalue = [7, 878]'),\n",
              " Text(0.1882599624467535, 0.7645161290322581, 'X[49904] <= 0.025\\ngini = 0.013\\nsamples = 884\\nvalue = [6, 878]'),\n",
              " Text(0.18574561909163745, 0.7580645161290323, 'X[9854] <= 0.202\\ngini = 0.011\\nsamples = 883\\nvalue = [5, 878]'),\n",
              " Text(0.1832312757365214, 0.7516129032258064, 'X[5834] <= 0.018\\ngini = 0.009\\nsamples = 882\\nvalue = [4, 878]'),\n",
              " Text(0.18071693238140535, 0.7451612903225806, 'X[9465] <= 0.058\\ngini = 0.007\\nsamples = 881\\nvalue = [3, 878]'),\n",
              " Text(0.1782025890262893, 0.7387096774193549, 'X[46099] <= 0.054\\ngini = 0.005\\nsamples = 880\\nvalue = [2, 878]'),\n",
              " Text(0.17568824567117325, 0.7322580645161291, 'X[17226] <= 0.029\\ngini = 0.002\\nsamples = 879\\nvalue = [1, 878]'),\n",
              " Text(0.1731739023160572, 0.7258064516129032, 'gini = 0.0\\nsamples = 878\\nvalue = [0, 878]'),\n",
              " Text(0.1782025890262893, 0.7258064516129032, 'gini = 0.0\\nsamples = 1\\nvalue = [1, 0]'),\n",
              " Text(0.18071693238140535, 0.7322580645161291, 'gini = 0.0\\nsamples = 1\\nvalue = [1, 0]'),\n",
              " Text(0.1832312757365214, 0.7387096774193549, 'gini = 0.0\\nsamples = 1\\nvalue = [1, 0]'),\n",
              " Text(0.18574561909163745, 0.7451612903225806, 'gini = 0.0\\nsamples = 1\\nvalue = [1, 0]'),\n",
              " Text(0.1882599624467535, 0.7516129032258064, 'gini = 0.0\\nsamples = 1\\nvalue = [1, 0]'),\n",
              " Text(0.19077430580186955, 0.7580645161290323, 'gini = 0.0\\nsamples = 1\\nvalue = [1, 0]'),\n",
              " Text(0.1932886491569856, 0.7645161290322581, 'gini = 0.0\\nsamples = 1\\nvalue = [1, 0]'),\n",
              " Text(0.19580299251210165, 0.7709677419354839, 'gini = 0.0\\nsamples = 1\\nvalue = [1, 0]'),\n",
              " Text(0.20334602257744977, 0.7774193548387097, 'X[21865] <= 0.023\\ngini = 0.444\\nsamples = 3\\nvalue = [2, 1]'),\n",
              " Text(0.20083167922233375, 0.7709677419354839, 'gini = 0.0\\nsamples = 2\\nvalue = [2, 0]'),\n",
              " Text(0.20586036593256582, 0.7709677419354839, 'gini = 0.0\\nsamples = 1\\nvalue = [0, 1]'),\n",
              " Text(0.21088905264279792, 0.7838709677419354, 'X[24826] <= 0.02\\ngini = 0.444\\nsamples = 3\\nvalue = [2, 1]'),\n",
              " Text(0.20837470928768187, 0.7774193548387097, 'gini = 0.0\\nsamples = 2\\nvalue = [2, 0]'),\n",
              " Text(0.21340339599791397, 0.7774193548387097, 'gini = 0.0\\nsamples = 1\\nvalue = [0, 1]'),\n",
              " Text(0.21843208270814607, 0.7903225806451613, 'X[47822] <= 0.01\\ngini = 0.5\\nsamples = 6\\nvalue = [3, 3]'),\n",
              " Text(0.21591773935303002, 0.7838709677419354, 'gini = 0.0\\nsamples = 3\\nvalue = [3, 0]'),\n",
              " Text(0.22094642606326212, 0.7838709677419354, 'gini = 0.0\\nsamples = 3\\nvalue = [0, 3]'),\n",
              " Text(0.21654632519180902, 0.7967741935483871, 'gini = 0.0\\nsamples = 2\\nvalue = [2, 0]'),\n",
              " Text(0.21906066854692507, 0.8032258064516129, 'gini = 0.0\\nsamples = 2\\nvalue = [2, 0]'),\n",
              " Text(0.22157501190204112, 0.8096774193548387, 'gini = 0.0\\nsamples = 2\\nvalue = [2, 0]'),\n",
              " Text(0.22408935525715717, 0.8161290322580645, 'gini = 0.0\\nsamples = 2\\nvalue = [2, 0]'),\n",
              " Text(0.22660369861227322, 0.8225806451612904, 'gini = 0.0\\nsamples = 2\\nvalue = [2, 0]'),\n",
              " Text(0.23414672867762137, 0.8290322580645161, 'X[14806] <= 0.012\\ngini = 0.375\\nsamples = 4\\nvalue = [3, 1]'),\n",
              " Text(0.23163238532250532, 0.8225806451612904, 'gini = 0.0\\nsamples = 3\\nvalue = [3, 0]'),\n",
              " Text(0.23666107203273742, 0.8225806451612904, 'gini = 0.0\\nsamples = 1\\nvalue = [0, 1]'),\n",
              " Text(0.2416897587429695, 0.8354838709677419, 'X[24760] <= 0.02\\ngini = 0.375\\nsamples = 4\\nvalue = [3, 1]'),\n",
              " Text(0.23917541538785347, 0.8290322580645161, 'gini = 0.0\\nsamples = 3\\nvalue = [3, 0]'),\n",
              " Text(0.24420410209808555, 0.8290322580645161, 'gini = 0.0\\nsamples = 1\\nvalue = [0, 1]'),\n",
              " Text(0.24923278880831765, 0.8419354838709677, 'X[39356] <= 0.012\\ngini = 0.375\\nsamples = 4\\nvalue = [3, 1]'),\n",
              " Text(0.2467184454532016, 0.8354838709677419, 'gini = 0.0\\nsamples = 3\\nvalue = [3, 0]'),\n",
              " Text(0.2517471321634337, 0.8354838709677419, 'gini = 0.0\\nsamples = 1\\nvalue = [0, 1]'),\n",
              " Text(0.2567758188736658, 0.8483870967741935, 'X[22830] <= 0.025\\ngini = 0.375\\nsamples = 4\\nvalue = [3, 1]'),\n",
              " Text(0.2542614755185498, 0.8419354838709677, 'gini = 0.0\\nsamples = 3\\nvalue = [3, 0]'),\n",
              " Text(0.2592901622287818, 0.8419354838709677, 'gini = 0.0\\nsamples = 1\\nvalue = [0, 1]'),\n",
              " Text(0.2545757684379393, 0.8548387096774194, 'gini = 0.0\\nsamples = 3\\nvalue = [3, 0]'),\n",
              " Text(0.2743762223594781, 0.8612903225806452, 'X[11308] <= 0.022\\ngini = 0.366\\nsamples = 54\\nvalue = [13, 41]'),\n",
              " Text(0.2718618790043621, 0.8548387096774194, 'X[30437] <= 0.023\\ngini = 0.295\\nsamples = 50\\nvalue = [9, 41]'),\n",
              " Text(0.269347535649246, 0.8483870967741935, 'X[13563] <= 0.005\\ngini = 0.194\\nsamples = 46\\nvalue = [5, 41]'),\n",
              " Text(0.2643188489390139, 0.8419354838709677, 'X[8373] <= 0.016\\ngini = 0.091\\nsamples = 42\\nvalue = [2, 40]'),\n",
              " Text(0.2618045055838979, 0.8354838709677419, 'X[32077] <= 0.016\\ngini = 0.048\\nsamples = 41\\nvalue = [1, 40]'),\n",
              " Text(0.2592901622287818, 0.8290322580645161, 'gini = 0.0\\nsamples = 40\\nvalue = [0, 40]'),\n",
              " Text(0.2643188489390139, 0.8290322580645161, 'gini = 0.0\\nsamples = 1\\nvalue = [1, 0]'),\n",
              " Text(0.26683319229413, 0.8354838709677419, 'gini = 0.0\\nsamples = 1\\nvalue = [1, 0]'),\n",
              " Text(0.2743762223594781, 0.8419354838709677, 'X[30283] <= 0.009\\ngini = 0.375\\nsamples = 4\\nvalue = [3, 1]'),\n",
              " Text(0.2718618790043621, 0.8354838709677419, 'gini = 0.0\\nsamples = 3\\nvalue = [3, 0]'),\n",
              " Text(0.2768905657145942, 0.8354838709677419, 'gini = 0.0\\nsamples = 1\\nvalue = [0, 1]'),\n",
              " Text(0.2743762223594781, 0.8483870967741935, 'gini = 0.0\\nsamples = 4\\nvalue = [4, 0]'),\n",
              " Text(0.2768905657145942, 0.8548387096774194, 'gini = 0.0\\nsamples = 4\\nvalue = [4, 0]'),\n",
              " Text(0.2819192524248263, 0.867741935483871, 'X[41312] <= 0.028\\ngini = 0.469\\nsamples = 8\\nvalue = [5, 3]'),\n",
              " Text(0.2794049090697102, 0.8612903225806452, 'gini = 0.0\\nsamples = 5\\nvalue = [5, 0]'),\n",
              " Text(0.2844335957799423, 0.8612903225806452, 'gini = 0.0\\nsamples = 3\\nvalue = [0, 3]'),\n",
              " Text(0.2775977247832206, 0.8741935483870967, 'gini = 0.0\\nsamples = 3\\nvalue = [3, 0]'),\n",
              " Text(0.2801120681383366, 0.8806451612903226, 'gini = 0.0\\nsamples = 3\\nvalue = [3, 0]'),\n",
              " Text(0.28262641149345263, 0.8870967741935484, 'gini = 0.0\\nsamples = 3\\nvalue = [3, 0]'),\n",
              " Text(0.2851407548485687, 0.8935483870967742, 'gini = 0.0\\nsamples = 3\\nvalue = [3, 0]'),\n",
              " Text(0.3199486956709565, 0.9, 'X[22784] <= 0.011\\ngini = 0.351\\nsamples = 119\\nvalue = [27, 92]'),\n",
              " Text(0.31271995852499784, 0.8935483870967742, 'X[31897] <= 0.018\\ngini = 0.305\\nsamples = 112\\nvalue = [21, 91]'),\n",
              " Text(0.3058055142984287, 0.8870967741935484, 'X[12413] <= 0.018\\ngini = 0.247\\nsamples = 104\\nvalue = [15, 89]'),\n",
              " Text(0.2995196559106386, 0.8806451612903226, 'X[11125] <= 0.021\\ngini = 0.17\\nsamples = 96\\nvalue = [9, 87]'),\n",
              " Text(0.2944909692004065, 0.8741935483870967, 'X[12495] <= 0.031\\ngini = 0.122\\nsamples = 92\\nvalue = [6, 86]'),\n",
              " Text(0.29197662584529044, 0.867741935483871, 'X[2146] <= 0.021\\ngini = 0.085\\nsamples = 90\\nvalue = [4, 86]'),\n",
              " Text(0.2894622824901744, 0.8612903225806452, 'X[459] <= 0.045\\ngini = 0.044\\nsamples = 88\\nvalue = [2, 86]'),\n",
              " Text(0.28694793913505834, 0.8548387096774194, 'gini = 0.0\\nsamples = 86\\nvalue = [0, 86]'),\n",
              " Text(0.29197662584529044, 0.8548387096774194, 'gini = 0.0\\nsamples = 2\\nvalue = [2, 0]'),\n",
              " Text(0.2944909692004065, 0.8612903225806452, 'gini = 0.0\\nsamples = 2\\nvalue = [2, 0]'),\n",
              " Text(0.29700531255552254, 0.867741935483871, 'gini = 0.0\\nsamples = 2\\nvalue = [2, 0]'),\n",
              " Text(0.3045483426208707, 0.8741935483870967, 'X[2846] <= 0.06\\ngini = 0.375\\nsamples = 4\\nvalue = [3, 1]'),\n",
              " Text(0.30203399926575464, 0.867741935483871, 'gini = 0.0\\nsamples = 3\\nvalue = [3, 0]'),\n",
              " Text(0.30706268597598674, 0.867741935483871, 'gini = 0.0\\nsamples = 1\\nvalue = [0, 1]'),\n",
              " Text(0.31209137268621884, 0.8806451612903226, 'X[8720] <= 0.012\\ngini = 0.375\\nsamples = 8\\nvalue = [6, 2]'),\n",
              " Text(0.3095770293311028, 0.8741935483870967, 'gini = 0.0\\nsamples = 6\\nvalue = [6, 0]'),\n",
              " Text(0.3146057160413349, 0.8741935483870967, 'gini = 0.0\\nsamples = 2\\nvalue = [0, 2]'),\n",
              " Text(0.31963440275156696, 0.8870967741935484, 'X[181] <= 0.014\\ngini = 0.375\\nsamples = 8\\nvalue = [6, 2]'),\n",
              " Text(0.31712005939645094, 0.8806451612903226, 'gini = 0.0\\nsamples = 6\\nvalue = [6, 0]'),\n",
              " Text(0.32214874610668304, 0.8806451612903226, 'gini = 0.0\\nsamples = 2\\nvalue = [0, 2]'),\n",
              " Text(0.32717743281691514, 0.8935483870967742, 'X[29129] <= 0.008\\ngini = 0.245\\nsamples = 7\\nvalue = [6, 1]'),\n",
              " Text(0.32466308946179906, 0.8870967741935484, 'gini = 0.0\\nsamples = 6\\nvalue = [6, 0]'),\n",
              " Text(0.32969177617203116, 0.8870967741935484, 'gini = 0.0\\nsamples = 1\\nvalue = [0, 1]'),\n",
              " Text(0.32749172573630464, 0.9064516129032258, 'X[44226] <= 0.061\\ngini = 0.278\\nsamples = 6\\nvalue = [5, 1]'),\n",
              " Text(0.32497738238118856, 0.9, 'gini = 0.0\\nsamples = 5\\nvalue = [5, 0]'),\n",
              " Text(0.33000606909142066, 0.9, 'gini = 0.0\\nsamples = 1\\nvalue = [0, 1]'),\n",
              " Text(0.33503475580165276, 0.9129032258064517, 'X[24222] <= 0.012\\ngini = 0.42\\nsamples = 10\\nvalue = [7, 3]'),\n",
              " Text(0.33252041244653674, 0.9064516129032258, 'gini = 0.0\\nsamples = 7\\nvalue = [7, 0]'),\n",
              " Text(0.33754909915676884, 0.9064516129032258, 'gini = 0.0\\nsamples = 3\\nvalue = [0, 3]'),\n",
              " Text(0.34257778586700094, 0.9193548387096774, 'X[7824] <= 0.011\\ngini = 0.245\\nsamples = 7\\nvalue = [6, 1]'),\n",
              " Text(0.34006344251188486, 0.9129032258064517, 'gini = 0.0\\nsamples = 6\\nvalue = [6, 0]'),\n",
              " Text(0.34509212922211696, 0.9129032258064517, 'gini = 0.0\\nsamples = 1\\nvalue = [0, 1]'),\n",
              " Text(0.3386736785089594, 0.9258064516129032, 'gini = 0.0\\nsamples = 5\\nvalue = [5, 0]'),\n",
              " Text(0.3667783406599929, 0.932258064516129, 'X[22866] <= 0.001\\ngini = 0.371\\nsamples = 244\\nvalue = [60, 184]'),\n",
              " Text(0.35954960351403426, 0.9258064516129032, 'X[24770] <= 0.013\\ngini = 0.331\\nsamples = 229\\nvalue = [48, 181]'),\n",
              " Text(0.3526351592874651, 0.9193548387096774, 'X[43321] <= 0.02\\ngini = 0.263\\nsamples = 193\\nvalue = [30, 163]'),\n",
              " Text(0.35012081593234906, 0.9129032258064517, 'X[29549] <= 0.015\\ngini = 0.237\\nsamples = 189\\nvalue = [26, 163]'),\n",
              " Text(0.34760647257723304, 0.9064516129032258, 'X[14356] <= 0.02\\ngini = 0.21\\nsamples = 185\\nvalue = [22, 163]'),\n",
              " Text(0.34257778586700094, 0.9, 'X[49410] <= 0.014\\ngini = 0.18\\nsamples = 180\\nvalue = [18, 162]'),\n",
              " Text(0.34006344251188486, 0.8935483870967742, 'X[18849] <= 0.01\\ngini = 0.155\\nsamples = 177\\nvalue = [15, 162]'),\n",
              " Text(0.33754909915676884, 0.8870967741935484, 'X[35607] <= 0.018\\ngini = 0.128\\nsamples = 174\\nvalue = [12, 162]'),\n",
              " Text(0.33503475580165276, 0.8806451612903226, 'X[43999] <= 0.013\\ngini = 0.11\\nsamples = 172\\nvalue = [10, 162]'),\n",
              " Text(0.33252041244653674, 0.8741935483870967, 'X[38995] <= 0.026\\ngini = 0.09\\nsamples = 170\\nvalue = [8, 162]'),\n",
              " Text(0.33000606909142066, 0.867741935483871, 'X[49264] <= 0.029\\ngini = 0.069\\nsamples = 168\\nvalue = [6, 162]'),\n",
              " Text(0.32497738238118856, 0.8612903225806452, 'X[44804] <= 0.045\\ngini = 0.047\\nsamples = 165\\nvalue = [4, 161]'),\n",
              " Text(0.32246303902607254, 0.8548387096774194, 'X[44207] <= 0.029\\ngini = 0.036\\nsamples = 164\\nvalue = [3, 161]'),\n",
              " Text(0.3199486956709565, 0.8483870967741935, 'X[158] <= 0.017\\ngini = 0.024\\nsamples = 163\\nvalue = [2, 161]'),\n",
              " Text(0.31743435231584044, 0.8419354838709677, 'X[15945] <= 0.007\\ngini = 0.012\\nsamples = 162\\nvalue = [1, 161]'),\n",
              " Text(0.3149200089607244, 0.8354838709677419, 'gini = 0.0\\nsamples = 161\\nvalue = [0, 161]'),\n",
              " Text(0.3199486956709565, 0.8354838709677419, 'gini = 0.0\\nsamples = 1\\nvalue = [1, 0]'),\n",
              " Text(0.32246303902607254, 0.8419354838709677, 'gini = 0.0\\nsamples = 1\\nvalue = [1, 0]'),\n",
              " Text(0.32497738238118856, 0.8483870967741935, 'gini = 0.0\\nsamples = 1\\nvalue = [1, 0]'),\n",
              " Text(0.32749172573630464, 0.8548387096774194, 'gini = 0.0\\nsamples = 1\\nvalue = [1, 0]'),\n",
              " Text(0.33503475580165276, 0.8612903225806452, 'X[16796] <= 0.022\\ngini = 0.444\\nsamples = 3\\nvalue = [2, 1]'),\n",
              " Text(0.33252041244653674, 0.8548387096774194, 'gini = 0.0\\nsamples = 2\\nvalue = [2, 0]'),\n",
              " Text(0.33754909915676884, 0.8548387096774194, 'gini = 0.0\\nsamples = 1\\nvalue = [0, 1]'),\n",
              " Text(0.33503475580165276, 0.867741935483871, 'gini = 0.0\\nsamples = 2\\nvalue = [2, 0]'),\n",
              " Text(0.33754909915676884, 0.8741935483870967, 'gini = 0.0\\nsamples = 2\\nvalue = [2, 0]'),\n",
              " Text(0.34006344251188486, 0.8806451612903226, 'gini = 0.0\\nsamples = 2\\nvalue = [2, 0]'),\n",
              " Text(0.34257778586700094, 0.8870967741935484, 'gini = 0.0\\nsamples = 3\\nvalue = [3, 0]'),\n",
              " Text(0.34509212922211696, 0.8935483870967742, 'gini = 0.0\\nsamples = 3\\nvalue = [3, 0]'),\n",
              " Text(0.3526351592874651, 0.9, 'X[16839] <= 0.022\\ngini = 0.32\\nsamples = 5\\nvalue = [4, 1]'),\n",
              " Text(0.35012081593234906, 0.8935483870967742, 'gini = 0.0\\nsamples = 4\\nvalue = [4, 0]'),\n",
              " Text(0.35514950264258116, 0.8935483870967742, 'gini = 0.0\\nsamples = 1\\nvalue = [0, 1]'),\n",
              " Text(0.3526351592874651, 0.9064516129032258, 'gini = 0.0\\nsamples = 4\\nvalue = [4, 0]'),\n",
              " Text(0.35514950264258116, 0.9129032258064517, 'gini = 0.0\\nsamples = 4\\nvalue = [4, 0]'),\n",
              " Text(0.36646404774060337, 0.9193548387096774, 'X[24770] <= 0.023\\ngini = 0.5\\nsamples = 36\\nvalue = [18, 18]'),\n",
              " Text(0.36017818935281326, 0.9129032258064517, 'X[10307] <= 0.232\\ngini = 0.165\\nsamples = 11\\nvalue = [10, 1]'),\n",
              " Text(0.3576638459976972, 0.9064516129032258, 'gini = 0.0\\nsamples = 10\\nvalue = [10, 0]'),\n",
              " Text(0.3626925327079293, 0.9064516129032258, 'gini = 0.0\\nsamples = 1\\nvalue = [0, 1]'),\n",
              " Text(0.3727499061283935, 0.9129032258064517, 'X[20177] <= 0.013\\ngini = 0.435\\nsamples = 25\\nvalue = [8, 17]'),\n",
              " Text(0.3677212194181614, 0.9064516129032258, 'X[3826] <= 0.016\\ngini = 0.208\\nsamples = 17\\nvalue = [2, 15]'),\n",
              " Text(0.36520687606304536, 0.9, 'gini = 0.0\\nsamples = 14\\nvalue = [0, 14]'),\n",
              " Text(0.37023556277327746, 0.9, 'X[11906] <= 0.015\\ngini = 0.444\\nsamples = 3\\nvalue = [2, 1]'),\n",
              " Text(0.3677212194181614, 0.8935483870967742, 'gini = 0.0\\nsamples = 1\\nvalue = [0, 1]'),\n",
              " Text(0.3727499061283935, 0.8935483870967742, 'gini = 0.0\\nsamples = 2\\nvalue = [2, 0]'),\n",
              " Text(0.3777785928386256, 0.9064516129032258, 'X[40485] <= 0.016\\ngini = 0.375\\nsamples = 8\\nvalue = [6, 2]'),\n",
              " Text(0.37526424948350956, 0.9, 'gini = 0.0\\nsamples = 6\\nvalue = [6, 0]'),\n",
              " Text(0.38029293619374166, 0.9, 'gini = 0.0\\nsamples = 2\\nvalue = [0, 2]'),\n",
              " Text(0.3740070778059515, 0.9258064516129032, 'X[40977] <= 0.022\\ngini = 0.32\\nsamples = 15\\nvalue = [12, 3]'),\n",
              " Text(0.37149273445083547, 0.9193548387096774, 'gini = 0.0\\nsamples = 12\\nvalue = [12, 0]'),\n",
              " Text(0.37652142116106757, 0.9193548387096774, 'gini = 0.0\\nsamples = 3\\nvalue = [0, 3]'),\n",
              " Text(0.374321370725341, 0.9387096774193548, 'X[9038] <= 0.021\\ngini = 0.375\\nsamples = 12\\nvalue = [9, 3]'),\n",
              " Text(0.371807027370225, 0.932258064516129, 'gini = 0.0\\nsamples = 9\\nvalue = [9, 0]'),\n",
              " Text(0.3768357140804571, 0.932258064516129, 'gini = 0.0\\nsamples = 3\\nvalue = [0, 3]'),\n",
              " Text(0.3818644007906892, 0.9451612903225807, 'X[4454] <= 0.02\\ngini = 0.198\\nsamples = 9\\nvalue = [8, 1]'),\n",
              " Text(0.3793500574355731, 0.9387096774193548, 'gini = 0.0\\nsamples = 8\\nvalue = [8, 0]'),\n",
              " Text(0.3843787441458052, 0.9387096774193548, 'gini = 0.0\\nsamples = 1\\nvalue = [0, 1]'),\n",
              " Text(0.4007219759540595, 0.9516129032258065, 'X[22801] <= 0.004\\ngini = 0.499\\nsamples = 55\\nvalue = [26, 29]'),\n",
              " Text(0.3944361175662694, 0.9451612903225807, 'X[43479] <= 0.006\\ngini = 0.424\\nsamples = 36\\nvalue = [11, 25]'),\n",
              " Text(0.3894074308560373, 0.9387096774193548, 'X[19479] <= 0.019\\ngini = 0.285\\nsamples = 29\\nvalue = [5, 24]'),\n",
              " Text(0.3868930875009213, 0.932258064516129, 'X[33120] <= 0.024\\ngini = 0.142\\nsamples = 26\\nvalue = [2, 24]'),\n",
              " Text(0.3843787441458052, 0.9258064516129032, 'gini = 0.0\\nsamples = 24\\nvalue = [0, 24]'),\n",
              " Text(0.3894074308560373, 0.9258064516129032, 'gini = 0.0\\nsamples = 2\\nvalue = [2, 0]'),\n",
              " Text(0.3919217742111534, 0.932258064516129, 'gini = 0.0\\nsamples = 3\\nvalue = [3, 0]'),\n",
              " Text(0.3994648042765015, 0.9387096774193548, 'X[16575] <= 0.008\\ngini = 0.245\\nsamples = 7\\nvalue = [6, 1]'),\n",
              " Text(0.3969504609213855, 0.932258064516129, 'gini = 0.0\\nsamples = 5\\nvalue = [5, 0]'),\n",
              " Text(0.4019791476316176, 0.932258064516129, 'gini = 0.5\\nsamples = 2\\nvalue = [1, 1]'),\n",
              " Text(0.4070078343418496, 0.9451612903225807, 'X[9400] <= 0.026\\ngini = 0.332\\nsamples = 19\\nvalue = [15, 4]'),\n",
              " Text(0.4044934909867336, 0.9387096774193548, 'gini = 0.0\\nsamples = 15\\nvalue = [15, 0]'),\n",
              " Text(0.4095221776969657, 0.9387096774193548, 'gini = 0.0\\nsamples = 4\\nvalue = [0, 4]'),\n",
              " Text(0.6022712113862738, 0.964516129032258, 'X[21358] <= 0.025\\ngini = 0.315\\nsamples = 3433\\nvalue = [672, 2761]'),\n",
              " Text(0.5853868678427816, 0.9580645161290322, 'X[43870] <= 0.039\\ngini = 0.294\\nsamples = 3235\\nvalue = [579, 2656]'),\n",
              " Text(0.5667042408864933, 0.9516129032258065, 'X[47693] <= 0.024\\ngini = 0.287\\nsamples = 3209\\nvalue = [557, 2652]'),\n",
              " Text(0.5444250471046129, 0.9451612903225807, 'X[13799] <= 0.027\\ngini = 0.279\\nsamples = 3176\\nvalue = [532, 2644]'),\n",
              " Text(0.5237529214144547, 0.9387096774193548, 'X[10054] <= 0.051\\ngini = 0.267\\nsamples = 3108\\nvalue = [493, 2615]'),\n",
              " Text(0.5012662451975086, 0.932258064516129, 'X[42432] <= 0.027\\ngini = 0.259\\nsamples = 3082\\nvalue = [472, 2610]'),\n",
              " Text(0.4745218820882079, 0.9258064516129032, 'X[29572] <= 0.021\\ngini = 0.245\\nsamples = 2974\\nvalue = [426, 2548]'),\n",
              " Text(0.455605377002452, 0.9193548387096774, 'X[2983] <= 0.113\\ngini = 0.275\\nsamples = 2466\\nvalue = [405, 2061]'),\n",
              " Text(0.4328584269616365, 0.9129032258064517, 'X[818] <= 0.03\\ngini = 0.267\\nsamples = 2436\\nvalue = [387, 2049]'),\n",
              " Text(0.4074792737209339, 0.9064516129032258, 'X[15482] <= 0.023\\ngini = 0.26\\nsamples = 2406\\nvalue = [370, 2036]'),\n",
              " Text(0.4049649303658179, 0.9, 'X[37392] <= 0.008\\ngini = 0.257\\nsamples = 2400\\nvalue = [364, 2036]'),\n",
              " Text(0.38060722911313116, 0.8935483870967742, 'X[36137] <= 0.002\\ngini = 0.386\\nsamples = 287\\nvalue = [75, 212]'),\n",
              " Text(0.3683498052569404, 0.8870967741935484, 'X[2053] <= 0.016\\ngini = 0.337\\nsamples = 247\\nvalue = [53, 194]'),\n",
              " Text(0.35892101767525525, 0.8806451612903226, 'X[6519] <= 0.015\\ngini = 0.301\\nsamples = 233\\nvalue = [43, 190]'),\n",
              " Text(0.3526351592874651, 0.8741935483870967, 'X[14843] <= 0.018\\ngini = 0.266\\nsamples = 222\\nvalue = [35, 187]'),\n",
              " Text(0.34760647257723304, 0.867741935483871, 'X[28363] <= 0.013\\ngini = 0.234\\nsamples = 214\\nvalue = [29, 185]'),\n",
              " Text(0.34509212922211696, 0.8612903225806452, 'X[15972] <= 0.041\\ngini = 0.21\\nsamples = 210\\nvalue = [25, 185]'),\n",
              " Text(0.34257778586700094, 0.8548387096774194, 'X[16540] <= 0.058\\ngini = 0.19\\nsamples = 207\\nvalue = [22, 185]'),\n",
              " Text(0.34006344251188486, 0.8483870967741935, 'X[24513] <= 0.009\\ngini = 0.169\\nsamples = 204\\nvalue = [19, 185]'),\n",
              " Text(0.33314899828531574, 0.8419354838709677, 'X[13753] <= 0.016\\ngini = 0.147\\nsamples = 200\\nvalue = [16, 184]'),\n",
              " Text(0.32686313989752563, 0.8354838709677419, 'X[32739] <= 0.004\\ngini = 0.124\\nsamples = 196\\nvalue = [13, 183]'),\n",
              " Text(0.32183445318729353, 0.8290322580645161, 'X[20021] <= 0.021\\ngini = 0.099\\nsamples = 192\\nvalue = [10, 182]'),\n",
              " Text(0.31932010983217746, 0.8225806451612904, 'X[36552] <= 0.016\\ngini = 0.081\\nsamples = 190\\nvalue = [8, 182]'),\n",
              " Text(0.31680576647706143, 0.8161290322580645, 'X[28384] <= 0.04\\ngini = 0.062\\nsamples = 188\\nvalue = [6, 182]'),\n",
              " Text(0.31429142312194536, 0.8096774193548387, 'X[48711] <= 0.016\\ngini = 0.052\\nsamples = 187\\nvalue = [5, 182]'),\n",
              " Text(0.31177707976682933, 0.8032258064516129, 'X[35534] <= 0.032\\ngini = 0.042\\nsamples = 186\\nvalue = [4, 182]'),\n",
              " Text(0.3092627364117133, 0.7967741935483871, 'X[29379] <= 0.13\\ngini = 0.032\\nsamples = 185\\nvalue = [3, 182]'),\n",
              " Text(0.30674839305659723, 0.7903225806451613, 'X[2720] <= 0.017\\ngini = 0.022\\nsamples = 184\\nvalue = [2, 182]'),\n",
              " Text(0.3042340497014812, 0.7838709677419354, 'X[20683] <= 0.01\\ngini = 0.011\\nsamples = 183\\nvalue = [1, 182]'),\n",
              " Text(0.30171970634636514, 0.7774193548387097, 'gini = 0.0\\nsamples = 181\\nvalue = [0, 181]'),\n",
              " Text(0.30674839305659723, 0.7774193548387097, 'gini = 0.5\\nsamples = 2\\nvalue = [1, 1]'),\n",
              " Text(0.3092627364117133, 0.7838709677419354, 'gini = 0.0\\nsamples = 1\\nvalue = [1, 0]'),\n",
              " Text(0.31177707976682933, 0.7903225806451613, 'gini = 0.0\\nsamples = 1\\nvalue = [1, 0]'),\n",
              " Text(0.31429142312194536, 0.7967741935483871, 'gini = 0.0\\nsamples = 1\\nvalue = [1, 0]'),\n",
              " Text(0.31680576647706143, 0.8032258064516129, 'gini = 0.0\\nsamples = 1\\nvalue = [1, 0]'),\n",
              " Text(0.31932010983217746, 0.8096774193548387, 'gini = 0.0\\nsamples = 1\\nvalue = [1, 0]'),\n",
              " Text(0.32183445318729353, 0.8161290322580645, 'gini = 0.0\\nsamples = 2\\nvalue = [2, 0]'),\n",
              " Text(0.32434879654240956, 0.8225806451612904, 'gini = 0.0\\nsamples = 2\\nvalue = [2, 0]'),\n",
              " Text(0.33189182660775773, 0.8290322580645161, 'X[46235] <= 0.01\\ngini = 0.375\\nsamples = 4\\nvalue = [3, 1]'),\n",
              " Text(0.32937748325264166, 0.8225806451612904, 'gini = 0.0\\nsamples = 3\\nvalue = [3, 0]'),\n",
              " Text(0.33440616996287376, 0.8225806451612904, 'gini = 0.0\\nsamples = 1\\nvalue = [0, 1]'),\n",
              " Text(0.33943485667310586, 0.8354838709677419, 'X[14394] <= 0.015\\ngini = 0.375\\nsamples = 4\\nvalue = [3, 1]'),\n",
              " Text(0.33692051331798983, 0.8290322580645161, 'gini = 0.0\\nsamples = 3\\nvalue = [3, 0]'),\n",
              " Text(0.34194920002822193, 0.8290322580645161, 'gini = 0.0\\nsamples = 1\\nvalue = [0, 1]'),\n",
              " Text(0.346977886738454, 0.8419354838709677, 'X[35094] <= 0.005\\ngini = 0.375\\nsamples = 4\\nvalue = [3, 1]'),\n",
              " Text(0.34446354338333796, 0.8354838709677419, 'gini = 0.0\\nsamples = 3\\nvalue = [3, 0]'),\n",
              " Text(0.34949223009357006, 0.8354838709677419, 'gini = 0.0\\nsamples = 1\\nvalue = [0, 1]'),\n",
              " Text(0.34509212922211696, 0.8483870967741935, 'gini = 0.0\\nsamples = 3\\nvalue = [3, 0]'),\n",
              " Text(0.34760647257723304, 0.8548387096774194, 'gini = 0.0\\nsamples = 3\\nvalue = [3, 0]'),\n",
              " Text(0.35012081593234906, 0.8612903225806452, 'gini = 0.0\\nsamples = 4\\nvalue = [4, 0]'),\n",
              " Text(0.3576638459976972, 0.867741935483871, 'X[4906] <= 0.019\\ngini = 0.375\\nsamples = 8\\nvalue = [6, 2]'),\n",
              " Text(0.35514950264258116, 0.8612903225806452, 'gini = 0.0\\nsamples = 6\\nvalue = [6, 0]'),\n",
              " Text(0.36017818935281326, 0.8612903225806452, 'gini = 0.0\\nsamples = 2\\nvalue = [0, 2]'),\n",
              " Text(0.36520687606304536, 0.8741935483870967, 'X[44468] <= 0.01\\ngini = 0.397\\nsamples = 11\\nvalue = [8, 3]'),\n",
              " Text(0.3626925327079293, 0.867741935483871, 'gini = 0.0\\nsamples = 8\\nvalue = [8, 0]'),\n",
              " Text(0.3677212194181614, 0.867741935483871, 'gini = 0.0\\nsamples = 3\\nvalue = [0, 3]'),\n",
              " Text(0.3777785928386256, 0.8806451612903226, 'X[4995] <= 0.009\\ngini = 0.408\\nsamples = 14\\nvalue = [10, 4]'),\n",
              " Text(0.37526424948350956, 0.8741935483870967, 'X[7858] <= 0.012\\ngini = 0.165\\nsamples = 11\\nvalue = [10, 1]'),\n",
              " Text(0.3727499061283935, 0.867741935483871, 'gini = 0.0\\nsamples = 10\\nvalue = [10, 0]'),\n",
              " Text(0.3777785928386256, 0.867741935483871, 'gini = 0.0\\nsamples = 1\\nvalue = [0, 1]'),\n",
              " Text(0.38029293619374166, 0.8741935483870967, 'gini = 0.0\\nsamples = 3\\nvalue = [0, 3]'),\n",
              " Text(0.3928646529693219, 0.8870967741935484, 'X[3711] <= 0.009\\ngini = 0.495\\nsamples = 40\\nvalue = [22, 18]'),\n",
              " Text(0.3878359662590898, 0.8806451612903226, 'X[6845] <= 0.007\\ngini = 0.375\\nsamples = 28\\nvalue = [21, 7]'),\n",
              " Text(0.3853216229039737, 0.8741935483870967, 'X[30747] <= 0.045\\ngini = 0.219\\nsamples = 24\\nvalue = [21, 3]'),\n",
              " Text(0.3828072795488577, 0.867741935483871, 'X[29249] <= 0.016\\ngini = 0.087\\nsamples = 22\\nvalue = [21, 1]'),\n",
              " Text(0.38029293619374166, 0.8612903225806452, 'gini = 0.0\\nsamples = 21\\nvalue = [21, 0]'),\n",
              " Text(0.3853216229039737, 0.8612903225806452, 'gini = 0.0\\nsamples = 1\\nvalue = [0, 1]'),\n",
              " Text(0.3878359662590898, 0.867741935483871, 'gini = 0.0\\nsamples = 2\\nvalue = [0, 2]'),\n",
              " Text(0.3903503096142058, 0.8741935483870967, 'gini = 0.0\\nsamples = 4\\nvalue = [0, 4]'),\n",
              " Text(0.397893339679554, 0.8806451612903226, 'X[32204] <= 0.008\\ngini = 0.153\\nsamples = 12\\nvalue = [1, 11]'),\n",
              " Text(0.3953789963244379, 0.8741935483870967, 'gini = 0.0\\nsamples = 11\\nvalue = [0, 11]'),\n",
              " Text(0.40040768303467, 0.8741935483870967, 'gini = 0.0\\nsamples = 1\\nvalue = [1, 0]'),\n",
              " Text(0.4293226316185046, 0.8935483870967742, 'X[38786] <= 0.031\\ngini = 0.236\\nsamples = 2113\\nvalue = [289, 1824]'),\n",
              " Text(0.4154937431653663, 0.8870967741935484, 'X[35949] <= 0.062\\ngini = 0.23\\nsamples = 2093\\nvalue = [277, 1816]'),\n",
              " Text(0.4079507131000182, 0.8806451612903226, 'X[13212] <= 0.031\\ngini = 0.223\\nsamples = 2069\\nvalue = [264, 1805]'),\n",
              " Text(0.4054363697449021, 0.8741935483870967, 'X[2304] <= 0.056\\ngini = 0.219\\nsamples = 2064\\nvalue = [259, 1805]'),\n",
              " Text(0.40040768303467, 0.867741935483871, 'X[15745] <= 0.025\\ngini = 0.213\\nsamples = 2041\\nvalue = [247, 1794]'),\n",
              " Text(0.397893339679554, 0.8612903225806452, 'X[10073] <= 0.041\\ngini = 0.21\\nsamples = 2037\\nvalue = [243, 1794]'),\n",
              " Text(0.3953789963244379, 0.8548387096774194, 'X[7602] <= 0.037\\ngini = 0.207\\nsamples = 2033\\nvalue = [239, 1794]'),\n",
              " Text(0.3928646529693219, 0.8483870967741935, 'X[16752] <= 0.032\\ngini = 0.205\\nsamples = 2029\\nvalue = [235, 1794]'),\n",
              " Text(0.3903503096142058, 0.8419354838709677, 'X[33366] <= 0.055\\ngini = 0.202\\nsamples = 2025\\nvalue = [231, 1794]'),\n",
              " Text(0.3878359662590898, 0.8354838709677419, 'X[34736] <= 0.038\\ngini = 0.199\\nsamples = 2021\\nvalue = [227, 1794]'),\n",
              " Text(0.3853216229039737, 0.8290322580645161, 'X[1775] <= 0.011\\ngini = 0.197\\nsamples = 2017\\nvalue = [223, 1794]'),\n",
              " Text(0.3828072795488577, 0.8225806451612904, 'X[41531] <= 0.025\\ngini = 0.194\\nsamples = 2013\\nvalue = [219, 1794]'),\n",
              " Text(0.38029293619374166, 0.8161290322580645, 'X[2223] <= 0.011\\ngini = 0.191\\nsamples = 2009\\nvalue = [215, 1794]'),\n",
              " Text(0.3724748998239277, 0.8096774193548387, 'X[19651] <= 0.035\\ngini = 0.188\\nsamples = 2003\\nvalue = [210, 1793]'),\n",
              " Text(0.3643818571496479, 0.8032258064516129, 'X[30288] <= 0.048\\ngini = 0.184\\nsamples = 1997\\nvalue = [205, 1792]'),\n",
              " Text(0.35573880186643647, 0.7967741935483871, 'X[29604] <= 0.011\\ngini = 0.18\\nsamples = 1988\\nvalue = [199, 1789]'),\n",
              " Text(0.3459957213653618, 0.7903225806451613, 'X[17567] <= 0.035\\ngini = 0.175\\nsamples = 1976\\nvalue = [192, 1784]'),\n",
              " Text(0.33908127713879266, 0.7838709677419354, 'X[8938] <= 0.03\\ngini = 0.173\\nsamples = 1971\\nvalue = [188, 1783]'),\n",
              " Text(0.33279541875100255, 0.7774193548387097, 'X[25809] <= 0.036\\ngini = 0.17\\nsamples = 1966\\nvalue = [184, 1782]'),\n",
              " Text(0.32776673204077045, 0.7709677419354839, 'X[41562] <= 0.019\\ngini = 0.167\\nsamples = 1961\\nvalue = [180, 1781]'),\n",
              " Text(0.3252523886856544, 0.7645161290322581, 'X[23136] <= 0.046\\ngini = 0.164\\nsamples = 1958\\nvalue = [177, 1781]'),\n",
              " Text(0.32273804533053835, 0.7580645161290323, 'X[44047] <= 0.067\\ngini = 0.162\\nsamples = 1955\\nvalue = [174, 1781]'),\n",
              " Text(0.3202237019754223, 0.7516129032258064, 'X[6247] <= 0.04\\ngini = 0.16\\nsamples = 1952\\nvalue = [171, 1781]'),\n",
              " Text(0.31770935862030625, 0.7451612903225806, 'X[14918] <= 0.09\\ngini = 0.158\\nsamples = 1949\\nvalue = [168, 1781]'),\n",
              " Text(0.3151950152651902, 0.7387096774193549, 'X[405] <= 0.026\\ngini = 0.155\\nsamples = 1946\\nvalue = [165, 1781]'),\n",
              " Text(0.31268067191007415, 0.7322580645161291, 'X[49809] <= 0.09\\ngini = 0.153\\nsamples = 1943\\nvalue = [162, 1781]'),\n",
              " Text(0.3101663285549581, 0.7258064516129032, 'X[29728] <= 0.061\\ngini = 0.15\\nsamples = 1940\\nvalue = [159, 1781]'),\n",
              " Text(0.30765198519984205, 0.7193548387096774, 'X[40435] <= 0.025\\ngini = 0.148\\nsamples = 1937\\nvalue = [156, 1781]'),\n",
              " Text(0.305137641844726, 0.7129032258064516, 'X[35722] <= 0.014\\ngini = 0.146\\nsamples = 1934\\nvalue = [153, 1781]'),\n",
              " Text(0.30262329848960995, 0.7064516129032258, 'X[41849] <= 0.024\\ngini = 0.143\\nsamples = 1931\\nvalue = [150, 1781]'),\n",
              " Text(0.3001089551344939, 0.7, 'X[39515] <= 0.013\\ngini = 0.141\\nsamples = 1928\\nvalue = [147, 1781]'),\n",
              " Text(0.2975946117793779, 0.6935483870967742, 'X[35529] <= 0.028\\ngini = 0.138\\nsamples = 1925\\nvalue = [144, 1781]'),\n",
              " Text(0.2950802684242618, 0.6870967741935484, 'X[36300] <= 0.088\\ngini = 0.136\\nsamples = 1922\\nvalue = [141, 1781]'),\n",
              " Text(0.2925659250691458, 0.6806451612903226, 'X[48638] <= 0.029\\ngini = 0.133\\nsamples = 1919\\nvalue = [138, 1781]'),\n",
              " Text(0.28502304846713716, 0.6741935483870968, 'X[37833] <= 0.016\\ngini = 0.129\\nsamples = 1908\\nvalue = [132, 1776]'),\n",
              " Text(0.2774803253284681, 0.667741935483871, 'X[243] <= 0.038\\ngini = 0.125\\nsamples = 1900\\nvalue = [127, 1773]'),\n",
              " Text(0.2699379091164782, 0.6612903225806451, 'X[43556] <= 0.098\\ngini = 0.121\\nsamples = 1894\\nvalue = [123, 1771]'),\n",
              " Text(0.2623961067578464, 0.6548387096774193, 'X[41758] <= 0.05\\ngini = 0.119\\nsamples = 1890\\nvalue = [120, 1770]'),\n",
              " Text(0.254855532105931, 0.6483870967741936, 'X[5916] <= 0.179\\ngini = 0.116\\nsamples = 1886\\nvalue = [117, 1769]'),\n",
              " Text(0.2473174128674483, 0.6419354838709678, 'X[1425] <= 0.015\\ngini = 0.114\\nsamples = 1882\\nvalue = [114, 1768]'),\n",
              " Text(0.2397842044558311, 0.635483870967742, 'X[46612] <= 0.008\\ngini = 0.111\\nsamples = 1878\\nvalue = [111, 1767]'),\n",
              " Text(0.2322608176979448, 0.6290322580645161, 'X[41414] <= 0.016\\ngini = 0.109\\nsamples = 1874\\nvalue = [108, 1766]'),\n",
              " Text(0.22475707424752034, 0.6225806451612903, 'X[5698] <= 0.012\\ngini = 0.106\\nsamples = 1870\\nvalue = [105, 1765]'),\n",
              " Text(0.21729261741201955, 0.6161290322580645, 'X[25361] <= 0.251\\ngini = 0.103\\nsamples = 1866\\nvalue = [102, 1764]'),\n",
              " Text(0.20990673380636618, 0.6096774193548387, 'X[2829] <= 0.035\\ngini = 0.101\\nsamples = 1862\\nvalue = [99, 1763]'),\n",
              " Text(0.20267799666040753, 0.603225806451613, 'X[37901] <= 0.019\\ngini = 0.098\\nsamples = 1858\\nvalue = [96, 1762]'),\n",
              " Text(0.19576355243383842, 0.5967741935483871, 'X[22836] <= 0.033\\ngini = 0.095\\nsamples = 1854\\nvalue = [93, 1761]'),\n",
              " Text(0.18947769404604828, 0.5903225806451613, 'X[14016] <= 0.03\\ngini = 0.093\\nsamples = 1850\\nvalue = [90, 1760]'),\n",
              " Text(0.18444900733581618, 0.5838709677419355, 'X[10730] <= 0.061\\ngini = 0.088\\nsamples = 1839\\nvalue = [85, 1754]'),\n",
              " Text(0.18193466398070016, 0.5774193548387097, 'X[10523] <= 0.076\\ngini = 0.086\\nsamples = 1837\\nvalue = [83, 1754]'),\n",
              " Text(0.1794203206255841, 0.5709677419354838, 'X[26576] <= 0.099\\ngini = 0.084\\nsamples = 1835\\nvalue = [81, 1754]'),\n",
              " Text(0.17690597727046806, 0.5645161290322581, 'X[23294] <= 0.041\\ngini = 0.082\\nsamples = 1833\\nvalue = [79, 1754]'),\n",
              " Text(0.174391633915352, 0.5580645161290323, 'X[8387] <= 0.064\\ngini = 0.081\\nsamples = 1831\\nvalue = [77, 1754]'),\n",
              " Text(0.17187729056023596, 0.5516129032258065, 'X[49424] <= 0.036\\ngini = 0.079\\nsamples = 1829\\nvalue = [75, 1754]'),\n",
              " Text(0.1693629472051199, 0.5451612903225806, 'X[30344] <= 0.166\\ngini = 0.077\\nsamples = 1827\\nvalue = [73, 1754]'),\n",
              " Text(0.16684860385000386, 0.5387096774193548, 'X[3875] <= 0.035\\ngini = 0.075\\nsamples = 1825\\nvalue = [71, 1754]'),\n",
              " Text(0.1643342604948878, 0.532258064516129, 'X[7895] <= 0.437\\ngini = 0.073\\nsamples = 1823\\nvalue = [69, 1754]'),\n",
              " Text(0.16181991713977176, 0.5258064516129032, 'X[2158] <= 0.01\\ngini = 0.071\\nsamples = 1821\\nvalue = [67, 1754]'),\n",
              " Text(0.1593055737846557, 0.5193548387096775, 'X[33796] <= 0.048\\ngini = 0.069\\nsamples = 1819\\nvalue = [65, 1754]'),\n",
              " Text(0.15679123042953966, 0.5129032258064516, 'X[32547] <= 0.014\\ngini = 0.067\\nsamples = 1817\\nvalue = [63, 1754]'),\n",
              " Text(0.15176254371930759, 0.5064516129032258, 'X[16040] <= 0.022\\ngini = 0.061\\nsamples = 1801\\nvalue = [57, 1744]'),\n",
              " Text(0.14924820036419154, 0.5, 'X[22042] <= 0.038\\ngini = 0.059\\nsamples = 1799\\nvalue = [55, 1744]'),\n",
              " Text(0.14673385700907549, 0.4935483870967742, 'X[10717] <= 0.02\\ngini = 0.057\\nsamples = 1797\\nvalue = [53, 1744]'),\n",
              " Text(0.14421951365395944, 0.4870967741935484, 'X[24070] <= 0.02\\ngini = 0.055\\nsamples = 1795\\nvalue = [51, 1744]'),\n",
              " Text(0.14170517029884339, 0.4806451612903226, 'X[997] <= 0.277\\ngini = 0.053\\nsamples = 1793\\nvalue = [49, 1744]'),\n",
              " Text(0.13919082694372734, 0.47419354838709676, 'X[41191] <= 0.149\\ngini = 0.051\\nsamples = 1791\\nvalue = [47, 1744]'),\n",
              " Text(0.13667648358861129, 0.46774193548387094, 'X[33067] <= 0.044\\ngini = 0.049\\nsamples = 1789\\nvalue = [45, 1744]'),\n",
              " Text(0.13416214023349524, 0.4612903225806452, 'X[12303] <= 0.269\\ngini = 0.047\\nsamples = 1787\\nvalue = [43, 1744]'),\n",
              " Text(0.1316477968783792, 0.45483870967741935, 'X[19180] <= 0.029\\ngini = 0.045\\nsamples = 1785\\nvalue = [41, 1744]'),\n",
              " Text(0.12414405342795473, 0.4483870967741935, 'X[13002] <= 0.039\\ngini = 0.042\\nsamples = 1779\\nvalue = [38, 1741]'),\n",
              " Text(0.11667959659245397, 0.44193548387096776, 'X[40063] <= 0.044\\ngini = 0.04\\nsamples = 1776\\nvalue = [36, 1740]'),\n",
              " Text(0.10929371298680057, 0.43548387096774194, 'X[31829] <= 0.021\\ngini = 0.038\\nsamples = 1773\\nvalue = [34, 1739]'),\n",
              " Text(0.10206497584084194, 0.4290322580645161, 'X[28020] <= 0.033\\ngini = 0.036\\nsamples = 1770\\nvalue = [32, 1738]'),\n",
              " Text(0.09515053161427281, 0.42258064516129035, 'X[47014] <= 0.03\\ngini = 0.033\\nsamples = 1767\\nvalue = [30, 1737]'),\n",
              " Text(0.0888646732264827, 0.4161290322580645, 'X[49617] <= 0.032\\ngini = 0.031\\nsamples = 1764\\nvalue = [28, 1736]'),\n",
              " Text(0.0838359865162506, 0.4096774193548387, 'X[44258] <= 0.061\\ngini = 0.027\\nsamples = 1752\\nvalue = [24, 1728]'),\n",
              " Text(0.08132164316113455, 0.4032258064516129, 'X[23034] <= 0.114\\ngini = 0.026\\nsamples = 1751\\nvalue = [23, 1728]'),\n",
              " Text(0.0788072998060185, 0.3967741935483871, 'X[2911] <= 0.062\\ngini = 0.025\\nsamples = 1750\\nvalue = [22, 1728]'),\n",
              " Text(0.07629295645090245, 0.3903225806451613, 'X[3690] <= 0.078\\ngini = 0.024\\nsamples = 1749\\nvalue = [21, 1728]'),\n",
              " Text(0.07377861309578641, 0.38387096774193546, 'X[28154] <= 0.28\\ngini = 0.023\\nsamples = 1748\\nvalue = [20, 1728]'),\n",
              " Text(0.07126426974067036, 0.3774193548387097, 'X[31960] <= 0.091\\ngini = 0.022\\nsamples = 1747\\nvalue = [19, 1728]'),\n",
              " Text(0.06874992638555431, 0.3709677419354839, 'X[13635] <= 0.053\\ngini = 0.02\\nsamples = 1746\\nvalue = [18, 1728]'),\n",
              " Text(0.06623558303043826, 0.36451612903225805, 'X[21793] <= 0.139\\ngini = 0.019\\nsamples = 1745\\nvalue = [17, 1728]'),\n",
              " Text(0.06372123967532221, 0.3580645161290323, 'X[13851] <= 0.049\\ngini = 0.018\\nsamples = 1744\\nvalue = [16, 1728]'),\n",
              " Text(0.06120689632020617, 0.35161290322580646, 'X[42490] <= 0.024\\ngini = 0.017\\nsamples = 1743\\nvalue = [15, 1728]'),\n",
              " Text(0.05869255296509012, 0.34516129032258064, 'X[47610] <= 0.105\\ngini = 0.016\\nsamples = 1742\\nvalue = [14, 1728]'),\n",
              " Text(0.05617820960997407, 0.3387096774193548, 'X[26962] <= 0.039\\ngini = 0.015\\nsamples = 1741\\nvalue = [13, 1728]'),\n",
              " Text(0.05366386625485803, 0.33225806451612905, 'X[1417] <= 0.055\\ngini = 0.014\\nsamples = 1740\\nvalue = [12, 1728]'),\n",
              " Text(0.05114952289974198, 0.3258064516129032, 'X[31288] <= 0.031\\ngini = 0.013\\nsamples = 1739\\nvalue = [11, 1728]'),\n",
              " Text(0.04863517954462593, 0.3193548387096774, 'X[43134] <= 0.041\\ngini = 0.011\\nsamples = 1738\\nvalue = [10, 1728]'),\n",
              " Text(0.046120836189509885, 0.31290322580645163, 'X[6055] <= 0.122\\ngini = 0.01\\nsamples = 1737\\nvalue = [9, 1728]'),\n",
              " Text(0.043606492834393835, 0.3064516129032258, 'X[13599] <= 0.394\\ngini = 0.009\\nsamples = 1736\\nvalue = [8, 1728]'),\n",
              " Text(0.041092149479277786, 0.3, 'X[40901] <= 0.06\\ngini = 0.008\\nsamples = 1735\\nvalue = [7, 1728]'),\n",
              " Text(0.03857780612416174, 0.29354838709677417, 'X[36107] <= 0.047\\ngini = 0.007\\nsamples = 1734\\nvalue = [6, 1728]'),\n",
              " Text(0.03606346276904569, 0.2870967741935484, 'X[6404] <= 0.029\\ngini = 0.006\\nsamples = 1733\\nvalue = [5, 1728]'),\n",
              " Text(0.03354911941392964, 0.2806451612903226, 'X[27973] <= 0.034\\ngini = 0.005\\nsamples = 1732\\nvalue = [4, 1728]'),\n",
              " Text(0.031034776058813596, 0.27419354838709675, 'X[28510] <= 0.044\\ngini = 0.003\\nsamples = 1731\\nvalue = [3, 1728]'),\n",
              " Text(0.02852043270369755, 0.267741935483871, 'X[32282] <= 0.044\\ngini = 0.002\\nsamples = 1730\\nvalue = [2, 1728]'),\n",
              " Text(0.023491745993465454, 0.26129032258064516, 'X[31243] <= 0.234\\ngini = 0.001\\nsamples = 1728\\nvalue = [1, 1727]'),\n",
              " Text(0.020977402638349407, 0.25483870967741934, 'gini = 0.0\\nsamples = 1726\\nvalue = [0, 1726]'),\n",
              " Text(0.026006089348581504, 0.25483870967741934, 'X[33086] <= 0.016\\ngini = 0.5\\nsamples = 2\\nvalue = [1, 1]'),\n",
              " Text(0.023491745993465454, 0.24838709677419354, 'gini = 0.0\\nsamples = 1\\nvalue = [1, 0]'),\n",
              " Text(0.02852043270369755, 0.24838709677419354, 'gini = 0.0\\nsamples = 1\\nvalue = [0, 1]'),\n",
              " Text(0.03354911941392964, 0.26129032258064516, 'X[46294] <= 0.041\\ngini = 0.5\\nsamples = 2\\nvalue = [1, 1]'),\n",
              " Text(0.031034776058813596, 0.25483870967741934, 'gini = 0.0\\nsamples = 1\\nvalue = [1, 0]'),\n",
              " Text(0.03606346276904569, 0.25483870967741934, 'gini = 0.0\\nsamples = 1\\nvalue = [0, 1]'),\n",
              " Text(0.03354911941392964, 0.267741935483871, 'gini = 0.0\\nsamples = 1\\nvalue = [1, 0]'),\n",
              " Text(0.03606346276904569, 0.27419354838709675, 'gini = 0.0\\nsamples = 1\\nvalue = [1, 0]'),\n",
              " Text(0.03857780612416174, 0.2806451612903226, 'gini = 0.0\\nsamples = 1\\nvalue = [1, 0]'),\n",
              " Text(0.041092149479277786, 0.2870967741935484, 'gini = 0.0\\nsamples = 1\\nvalue = [1, 0]'),\n",
              " Text(0.043606492834393835, 0.29354838709677417, 'gini = 0.0\\nsamples = 1\\nvalue = [1, 0]'),\n",
              " Text(0.046120836189509885, 0.3, 'gini = 0.0\\nsamples = 1\\nvalue = [1, 0]'),\n",
              " Text(0.04863517954462593, 0.3064516129032258, 'gini = 0.0\\nsamples = 1\\nvalue = [1, 0]'),\n",
              " Text(0.05114952289974198, 0.31290322580645163, 'gini = 0.0\\nsamples = 1\\nvalue = [1, 0]'),\n",
              " Text(0.05366386625485803, 0.3193548387096774, 'gini = 0.0\\nsamples = 1\\nvalue = [1, 0]'),\n",
              " Text(0.05617820960997407, 0.3258064516129032, 'gini = 0.0\\nsamples = 1\\nvalue = [1, 0]'),\n",
              " Text(0.05869255296509012, 0.33225806451612905, 'gini = 0.0\\nsamples = 1\\nvalue = [1, 0]'),\n",
              " Text(0.06120689632020617, 0.3387096774193548, 'gini = 0.0\\nsamples = 1\\nvalue = [1, 0]'),\n",
              " Text(0.06372123967532221, 0.34516129032258064, 'gini = 0.0\\nsamples = 1\\nvalue = [1, 0]'),\n",
              " Text(0.06623558303043826, 0.35161290322580646, 'gini = 0.0\\nsamples = 1\\nvalue = [1, 0]'),\n",
              " Text(0.06874992638555431, 0.3580645161290323, 'gini = 0.0\\nsamples = 1\\nvalue = [1, 0]'),\n",
              " Text(0.07126426974067036, 0.36451612903225805, 'gini = 0.0\\nsamples = 1\\nvalue = [1, 0]'),\n",
              " Text(0.07377861309578641, 0.3709677419354839, 'gini = 0.0\\nsamples = 1\\nvalue = [1, 0]'),\n",
              " Text(0.07629295645090245, 0.3774193548387097, 'gini = 0.0\\nsamples = 1\\nvalue = [1, 0]'),\n",
              " Text(0.0788072998060185, 0.38387096774193546, 'gini = 0.0\\nsamples = 1\\nvalue = [1, 0]'),\n",
              " Text(0.08132164316113455, 0.3903225806451613, 'gini = 0.0\\nsamples = 1\\nvalue = [1, 0]'),\n",
              " Text(0.0838359865162506, 0.3967741935483871, 'gini = 0.0\\nsamples = 1\\nvalue = [1, 0]'),\n",
              " Text(0.08635032987136665, 0.4032258064516129, 'gini = 0.0\\nsamples = 1\\nvalue = [1, 0]'),\n",
              " Text(0.09389335993671478, 0.4096774193548387, 'X[18260] <= 0.036\\ngini = 0.444\\nsamples = 12\\nvalue = [4, 8]'),\n",
              " Text(0.09137901658159873, 0.4032258064516129, 'gini = 0.0\\nsamples = 3\\nvalue = [3, 0]'),\n",
              " Text(0.09640770329183083, 0.4032258064516129, 'X[45836] <= 0.034\\ngini = 0.198\\nsamples = 9\\nvalue = [1, 8]'),\n",
              " Text(0.09389335993671478, 0.3967741935483871, 'gini = 0.0\\nsamples = 8\\nvalue = [0, 8]'),\n",
              " Text(0.09892204664694688, 0.3967741935483871, 'gini = 0.0\\nsamples = 1\\nvalue = [1, 0]'),\n",
              " Text(0.10143639000206293, 0.4161290322580645, 'X[46801] <= 0.015\\ngini = 0.444\\nsamples = 3\\nvalue = [2, 1]'),\n",
              " Text(0.09892204664694688, 0.4096774193548387, 'gini = 0.0\\nsamples = 2\\nvalue = [2, 0]'),\n",
              " Text(0.10395073335717898, 0.4096774193548387, 'gini = 0.0\\nsamples = 1\\nvalue = [0, 1]'),\n",
              " Text(0.10897942006741107, 0.42258064516129035, 'X[35236] <= 0.024\\ngini = 0.444\\nsamples = 3\\nvalue = [2, 1]'),\n",
              " Text(0.10646507671229502, 0.4161290322580645, 'gini = 0.0\\nsamples = 2\\nvalue = [2, 0]'),\n",
              " Text(0.11149376342252712, 0.4161290322580645, 'gini = 0.0\\nsamples = 1\\nvalue = [0, 1]'),\n",
              " Text(0.11652245013275922, 0.4290322580645161, 'X[43722] <= 0.057\\ngini = 0.444\\nsamples = 3\\nvalue = [2, 1]'),\n",
              " Text(0.11400810677764317, 0.42258064516129035, 'gini = 0.0\\nsamples = 2\\nvalue = [2, 0]'),\n",
              " Text(0.11903679348787527, 0.42258064516129035, 'gini = 0.0\\nsamples = 1\\nvalue = [0, 1]'),\n",
              " Text(0.12406548019810736, 0.43548387096774194, 'X[24222] <= 0.008\\ngini = 0.444\\nsamples = 3\\nvalue = [2, 1]'),\n",
              " Text(0.1215511368429913, 0.4290322580645161, 'gini = 0.0\\nsamples = 1\\nvalue = [0, 1]'),\n",
              " Text(0.12657982355322342, 0.4290322580645161, 'gini = 0.0\\nsamples = 2\\nvalue = [2, 0]'),\n",
              " Text(0.1316085102634555, 0.44193548387096776, 'X[46801] <= 0.023\\ngini = 0.444\\nsamples = 3\\nvalue = [2, 1]'),\n",
              " Text(0.12909416690833944, 0.43548387096774194, 'gini = 0.0\\nsamples = 2\\nvalue = [2, 0]'),\n",
              " Text(0.13412285361857154, 0.43548387096774194, 'gini = 0.0\\nsamples = 1\\nvalue = [0, 1]'),\n",
              " Text(0.13915154032880364, 0.4483870967741935, 'X[31176] <= 0.008\\ngini = 0.5\\nsamples = 6\\nvalue = [3, 3]'),\n",
              " Text(0.1366371969736876, 0.44193548387096776, 'gini = 0.0\\nsamples = 3\\nvalue = [0, 3]'),\n",
              " Text(0.1416658836839197, 0.44193548387096776, 'gini = 0.0\\nsamples = 3\\nvalue = [3, 0]'),\n",
              " Text(0.13667648358861129, 0.45483870967741935, 'gini = 0.0\\nsamples = 2\\nvalue = [2, 0]'),\n",
              " Text(0.13919082694372734, 0.4612903225806452, 'gini = 0.0\\nsamples = 2\\nvalue = [2, 0]'),\n",
              " Text(0.14170517029884339, 0.46774193548387094, 'gini = 0.0\\nsamples = 2\\nvalue = [2, 0]'),\n",
              " Text(0.14421951365395944, 0.47419354838709676, 'gini = 0.0\\nsamples = 2\\nvalue = [2, 0]'),\n",
              " Text(0.14673385700907549, 0.4806451612903226, 'gini = 0.0\\nsamples = 2\\nvalue = [2, 0]'),\n",
              " Text(0.14924820036419154, 0.4870967741935484, 'gini = 0.0\\nsamples = 2\\nvalue = [2, 0]'),\n",
              " Text(0.15176254371930759, 0.4935483870967742, 'gini = 0.0\\nsamples = 2\\nvalue = [2, 0]'),\n",
              " Text(0.1542768870744236, 0.5, 'gini = 0.0\\nsamples = 2\\nvalue = [2, 0]'),\n",
              " Text(0.16181991713977176, 0.5064516129032258, 'X[34829] <= 0.02\\ngini = 0.469\\nsamples = 16\\nvalue = [6, 10]'),\n",
              " Text(0.1593055737846557, 0.5, 'X[39451] <= 0.021\\ngini = 0.444\\nsamples = 9\\nvalue = [6, 3]'),\n",
              " Text(0.15679123042953966, 0.4935483870967742, 'gini = 0.0\\nsamples = 5\\nvalue = [5, 0]'),\n",
              " Text(0.16181991713977176, 0.4935483870967742, 'X[12830] <= 0.03\\ngini = 0.375\\nsamples = 4\\nvalue = [1, 3]'),\n",
              " Text(0.1593055737846557, 0.4870967741935484, 'gini = 0.0\\nsamples = 3\\nvalue = [0, 3]'),\n",
              " Text(0.1643342604948878, 0.4870967741935484, 'gini = 0.0\\nsamples = 1\\nvalue = [1, 0]'),\n",
              " Text(0.1643342604948878, 0.5, 'gini = 0.0\\nsamples = 7\\nvalue = [0, 7]'),\n",
              " Text(0.16181991713977176, 0.5129032258064516, 'gini = 0.0\\nsamples = 2\\nvalue = [2, 0]'),\n",
              " Text(0.1643342604948878, 0.5193548387096775, 'gini = 0.0\\nsamples = 2\\nvalue = [2, 0]'),\n",
              " Text(0.16684860385000386, 0.5258064516129032, 'gini = 0.0\\nsamples = 2\\nvalue = [2, 0]'),\n",
              " Text(0.1693629472051199, 0.532258064516129, 'gini = 0.0\\nsamples = 2\\nvalue = [2, 0]'),\n",
              " Text(0.17187729056023596, 0.5387096774193548, 'gini = 0.0\\nsamples = 2\\nvalue = [2, 0]'),\n",
              " Text(0.174391633915352, 0.5451612903225806, 'gini = 0.0\\nsamples = 2\\nvalue = [2, 0]'),\n",
              " Text(0.17690597727046806, 0.5516129032258065, 'gini = 0.0\\nsamples = 2\\nvalue = [2, 0]'),\n",
              " Text(0.1794203206255841, 0.5580645161290323, 'gini = 0.0\\nsamples = 2\\nvalue = [2, 0]'),\n",
              " Text(0.18193466398070016, 0.5645161290322581, 'gini = 0.0\\nsamples = 2\\nvalue = [2, 0]'),\n",
              " Text(0.18444900733581618, 0.5709677419354838, 'gini = 0.0\\nsamples = 2\\nvalue = [2, 0]'),\n",
              " Text(0.18696335069093223, 0.5774193548387097, 'gini = 0.0\\nsamples = 2\\nvalue = [2, 0]'),\n",
              " Text(0.19450638075628038, 0.5838709677419355, 'X[24750] <= 0.037\\ngini = 0.496\\nsamples = 11\\nvalue = [5, 6]'),\n",
              " Text(0.19199203740116433, 0.5774193548387097, 'X[14268] <= 0.016\\ngini = 0.278\\nsamples = 6\\nvalue = [5, 1]'),\n",
              " Text(0.18947769404604828, 0.5709677419354838, 'gini = 0.0\\nsamples = 5\\nvalue = [5, 0]'),\n",
              " Text(0.19450638075628038, 0.5709677419354838, 'gini = 0.0\\nsamples = 1\\nvalue = [0, 1]'),\n",
              " Text(0.19702072411139643, 0.5774193548387097, 'gini = 0.0\\nsamples = 5\\nvalue = [0, 5]'),\n",
              " Text(0.20204941082162853, 0.5903225806451613, 'X[3061] <= 0.037\\ngini = 0.375\\nsamples = 4\\nvalue = [3, 1]'),\n",
              " Text(0.19953506746651248, 0.5838709677419355, 'gini = 0.0\\nsamples = 3\\nvalue = [3, 0]'),\n",
              " Text(0.20456375417674458, 0.5838709677419355, 'gini = 0.0\\nsamples = 1\\nvalue = [0, 1]'),\n",
              " Text(0.20959244088697668, 0.5967741935483871, 'X[2477] <= 0.028\\ngini = 0.375\\nsamples = 4\\nvalue = [3, 1]'),\n",
              " Text(0.20707809753186063, 0.5903225806451613, 'gini = 0.0\\nsamples = 2\\nvalue = [2, 0]'),\n",
              " Text(0.21210678424209273, 0.5903225806451613, 'gini = 0.5\\nsamples = 2\\nvalue = [1, 1]'),\n",
              " Text(0.2171354709523248, 0.603225806451613, 'X[29199] <= 0.026\\ngini = 0.375\\nsamples = 4\\nvalue = [3, 1]'),\n",
              " Text(0.21462112759720875, 0.5967741935483871, 'gini = 0.0\\nsamples = 3\\nvalue = [3, 0]'),\n",
              " Text(0.21964981430744085, 0.5967741935483871, 'gini = 0.0\\nsamples = 1\\nvalue = [0, 1]'),\n",
              " Text(0.22467850101767295, 0.6096774193548387, 'X[30028] <= 0.013\\ngini = 0.375\\nsamples = 4\\nvalue = [3, 1]'),\n",
              " Text(0.2221641576625569, 0.603225806451613, 'gini = 0.0\\nsamples = 3\\nvalue = [3, 0]'),\n",
              " Text(0.227192844372789, 0.603225806451613, 'gini = 0.0\\nsamples = 1\\nvalue = [0, 1]'),\n",
              " Text(0.2322215310830211, 0.6161290322580645, 'X[799] <= 0.012\\ngini = 0.375\\nsamples = 4\\nvalue = [3, 1]'),\n",
              " Text(0.22970718772790505, 0.6096774193548387, 'gini = 0.0\\nsamples = 3\\nvalue = [3, 0]'),\n",
              " Text(0.23473587443813715, 0.6096774193548387, 'gini = 0.0\\nsamples = 1\\nvalue = [0, 1]'),\n",
              " Text(0.23976456114836925, 0.6225806451612903, 'X[30583] <= 0.012\\ngini = 0.375\\nsamples = 4\\nvalue = [3, 1]'),\n",
              " Text(0.2372502177932532, 0.6161290322580645, 'gini = 0.0\\nsamples = 3\\nvalue = [3, 0]'),\n",
              " Text(0.2422789045034853, 0.6161290322580645, 'gini = 0.0\\nsamples = 1\\nvalue = [0, 1]'),\n",
              " Text(0.24730759121371737, 0.6290322580645161, 'X[33459] <= 0.016\\ngini = 0.375\\nsamples = 4\\nvalue = [3, 1]'),\n",
              " Text(0.24479324785860132, 0.6225806451612903, 'gini = 0.0\\nsamples = 3\\nvalue = [3, 0]'),\n",
              " Text(0.24982193456883342, 0.6225806451612903, 'gini = 0.0\\nsamples = 1\\nvalue = [0, 1]'),\n",
              " Text(0.25485062127906555, 0.635483870967742, 'X[48795] <= 0.019\\ngini = 0.375\\nsamples = 4\\nvalue = [3, 1]'),\n",
              " Text(0.25233627792394947, 0.6290322580645161, 'gini = 0.0\\nsamples = 3\\nvalue = [3, 0]'),\n",
              " Text(0.25736496463418157, 0.6290322580645161, 'gini = 0.0\\nsamples = 1\\nvalue = [0, 1]'),\n",
              " Text(0.26239365134441367, 0.6419354838709678, 'X[13730] <= 0.047\\ngini = 0.375\\nsamples = 4\\nvalue = [3, 1]'),\n",
              " Text(0.25987930798929765, 0.635483870967742, 'gini = 0.0\\nsamples = 3\\nvalue = [3, 0]'),\n",
              " Text(0.2649079946995297, 0.635483870967742, 'gini = 0.0\\nsamples = 1\\nvalue = [0, 1]'),\n",
              " Text(0.2699366814097618, 0.6483870967741936, 'X[38549] <= 0.029\\ngini = 0.375\\nsamples = 4\\nvalue = [3, 1]'),\n",
              " Text(0.26742233805464577, 0.6419354838709678, 'gini = 0.0\\nsamples = 3\\nvalue = [3, 0]'),\n",
              " Text(0.27245102476487787, 0.6419354838709678, 'gini = 0.0\\nsamples = 1\\nvalue = [0, 1]'),\n",
              " Text(0.27747971147510997, 0.6548387096774193, 'X[3923] <= 0.024\\ngini = 0.375\\nsamples = 4\\nvalue = [3, 1]'),\n",
              " Text(0.2749653681199939, 0.6483870967741936, 'gini = 0.0\\nsamples = 3\\nvalue = [3, 0]'),\n",
              " Text(0.279994054830226, 0.6483870967741936, 'gini = 0.0\\nsamples = 1\\nvalue = [0, 1]'),\n",
              " Text(0.2850227415404581, 0.6612903225806451, 'X[18203] <= 0.044\\ngini = 0.444\\nsamples = 6\\nvalue = [4, 2]'),\n",
              " Text(0.28250839818534207, 0.6548387096774193, 'gini = 0.0\\nsamples = 4\\nvalue = [4, 0]'),\n",
              " Text(0.28753708489557417, 0.6548387096774193, 'gini = 0.0\\nsamples = 2\\nvalue = [0, 2]'),\n",
              " Text(0.2925657716058062, 0.667741935483871, 'X[6466] <= 0.065\\ngini = 0.469\\nsamples = 8\\nvalue = [5, 3]'),\n",
              " Text(0.2900514282506902, 0.6612903225806451, 'gini = 0.0\\nsamples = 5\\nvalue = [5, 0]'),\n",
              " Text(0.2950801149609223, 0.6612903225806451, 'gini = 0.0\\nsamples = 3\\nvalue = [0, 3]'),\n",
              " Text(0.3001088016711544, 0.6741935483870968, 'X[32731] <= 0.015\\ngini = 0.496\\nsamples = 11\\nvalue = [6, 5]'),\n",
              " Text(0.2975944583160383, 0.667741935483871, 'gini = 0.0\\nsamples = 5\\nvalue = [5, 0]'),\n",
              " Text(0.3026231450262704, 0.667741935483871, 'X[6466] <= 0.018\\ngini = 0.278\\nsamples = 6\\nvalue = [1, 5]'),\n",
              " Text(0.3001088016711544, 0.6612903225806451, 'gini = 0.0\\nsamples = 5\\nvalue = [0, 5]'),\n",
              " Text(0.3051374883813865, 0.6612903225806451, 'gini = 0.0\\nsamples = 1\\nvalue = [1, 0]'),\n",
              " Text(0.2975946117793779, 0.6806451612903226, 'gini = 0.0\\nsamples = 3\\nvalue = [3, 0]'),\n",
              " Text(0.3001089551344939, 0.6870967741935484, 'gini = 0.0\\nsamples = 3\\nvalue = [3, 0]'),\n",
              " Text(0.30262329848960995, 0.6935483870967742, 'gini = 0.0\\nsamples = 3\\nvalue = [3, 0]'),\n",
              " Text(0.305137641844726, 0.7, 'gini = 0.0\\nsamples = 3\\nvalue = [3, 0]'),\n",
              " Text(0.30765198519984205, 0.7064516129032258, 'gini = 0.0\\nsamples = 3\\nvalue = [3, 0]'),\n",
              " Text(0.3101663285549581, 0.7129032258064516, 'gini = 0.0\\nsamples = 3\\nvalue = [3, 0]'),\n",
              " Text(0.31268067191007415, 0.7193548387096774, 'gini = 0.0\\nsamples = 3\\nvalue = [3, 0]'),\n",
              " Text(0.3151950152651902, 0.7258064516129032, 'gini = 0.0\\nsamples = 3\\nvalue = [3, 0]'),\n",
              " Text(0.31770935862030625, 0.7322580645161291, 'gini = 0.0\\nsamples = 3\\nvalue = [3, 0]'),\n",
              " Text(0.3202237019754223, 0.7387096774193549, 'gini = 0.0\\nsamples = 3\\nvalue = [3, 0]'),\n",
              " Text(0.32273804533053835, 0.7451612903225806, 'gini = 0.0\\nsamples = 3\\nvalue = [3, 0]'),\n",
              " Text(0.3252523886856544, 0.7516129032258064, 'gini = 0.0\\nsamples = 3\\nvalue = [3, 0]'),\n",
              " Text(0.32776673204077045, 0.7580645161290323, 'gini = 0.0\\nsamples = 3\\nvalue = [3, 0]'),\n",
              " Text(0.3302810753958865, 0.7645161290322581, 'gini = 0.0\\nsamples = 3\\nvalue = [3, 0]'),\n",
              " Text(0.33782410546123465, 0.7709677419354839, 'X[6292] <= 0.014\\ngini = 0.32\\nsamples = 5\\nvalue = [4, 1]'),\n",
              " Text(0.33530976210611857, 0.7645161290322581, 'gini = 0.0\\nsamples = 4\\nvalue = [4, 0]'),\n",
              " Text(0.34033844881635067, 0.7645161290322581, 'gini = 0.0\\nsamples = 1\\nvalue = [0, 1]'),\n",
              " Text(0.34536713552658277, 0.7774193548387097, 'X[35822] <= 0.028\\ngini = 0.32\\nsamples = 5\\nvalue = [4, 1]'),\n",
              " Text(0.34285279217146675, 0.7709677419354839, 'gini = 0.0\\nsamples = 4\\nvalue = [4, 0]'),\n",
              " Text(0.34788147888169885, 0.7709677419354839, 'gini = 0.0\\nsamples = 1\\nvalue = [0, 1]'),\n",
              " Text(0.35291016559193095, 0.7838709677419354, 'X[48192] <= 0.03\\ngini = 0.32\\nsamples = 5\\nvalue = [4, 1]'),\n",
              " Text(0.35039582223681487, 0.7774193548387097, 'gini = 0.0\\nsamples = 4\\nvalue = [4, 0]'),\n",
              " Text(0.35542450894704697, 0.7774193548387097, 'gini = 0.0\\nsamples = 1\\nvalue = [0, 1]'),\n",
              " Text(0.36548188236751117, 0.7903225806451613, 'X[43598] <= 0.012\\ngini = 0.486\\nsamples = 12\\nvalue = [7, 5]'),\n",
              " Text(0.36296753901239515, 0.7838709677419354, 'X[20308] <= 0.017\\ngini = 0.346\\nsamples = 9\\nvalue = [7, 2]'),\n",
              " Text(0.36045319565727907, 0.7774193548387097, 'gini = 0.0\\nsamples = 7\\nvalue = [7, 0]'),\n",
              " Text(0.36548188236751117, 0.7774193548387097, 'gini = 0.0\\nsamples = 2\\nvalue = [0, 2]'),\n",
              " Text(0.3679962257226272, 0.7838709677419354, 'gini = 0.0\\nsamples = 3\\nvalue = [0, 3]'),\n",
              " Text(0.3730249124328593, 0.7967741935483871, 'X[6466] <= 0.027\\ngini = 0.444\\nsamples = 9\\nvalue = [6, 3]'),\n",
              " Text(0.37051056907774327, 0.7903225806451613, 'gini = 0.0\\nsamples = 6\\nvalue = [6, 0]'),\n",
              " Text(0.37553925578797537, 0.7903225806451613, 'gini = 0.0\\nsamples = 3\\nvalue = [0, 3]'),\n",
              " Text(0.38056794249820747, 0.8032258064516129, 'X[32644] <= 0.012\\ngini = 0.278\\nsamples = 6\\nvalue = [5, 1]'),\n",
              " Text(0.3780535991430914, 0.7967741935483871, 'gini = 0.0\\nsamples = 4\\nvalue = [4, 0]'),\n",
              " Text(0.3830822858533235, 0.7967741935483871, 'gini = 0.5\\nsamples = 2\\nvalue = [1, 1]'),\n",
              " Text(0.3881109725635556, 0.8096774193548387, 'X[34913] <= 0.016\\ngini = 0.278\\nsamples = 6\\nvalue = [5, 1]'),\n",
              " Text(0.38559662920843957, 0.8032258064516129, 'gini = 0.0\\nsamples = 5\\nvalue = [5, 0]'),\n",
              " Text(0.39062531591867167, 0.8032258064516129, 'gini = 0.0\\nsamples = 1\\nvalue = [0, 1]'),\n",
              " Text(0.3853216229039737, 0.8161290322580645, 'gini = 0.0\\nsamples = 4\\nvalue = [4, 0]'),\n",
              " Text(0.3878359662590898, 0.8225806451612904, 'gini = 0.0\\nsamples = 4\\nvalue = [4, 0]'),\n",
              " Text(0.3903503096142058, 0.8290322580645161, 'gini = 0.0\\nsamples = 4\\nvalue = [4, 0]'),\n",
              " Text(0.3928646529693219, 0.8354838709677419, 'gini = 0.0\\nsamples = 4\\nvalue = [4, 0]'),\n",
              " Text(0.3953789963244379, 0.8419354838709677, 'gini = 0.0\\nsamples = 4\\nvalue = [4, 0]'),\n",
              " Text(0.397893339679554, 0.8483870967741935, 'gini = 0.0\\nsamples = 4\\nvalue = [4, 0]'),\n",
              " Text(0.40040768303467, 0.8548387096774194, 'gini = 0.0\\nsamples = 4\\nvalue = [4, 0]'),\n",
              " Text(0.4029220263897861, 0.8612903225806452, 'gini = 0.0\\nsamples = 4\\nvalue = [4, 0]'),\n",
              " Text(0.4104650564551342, 0.867741935483871, 'X[2911] <= 0.01\\ngini = 0.499\\nsamples = 23\\nvalue = [12, 11]'),\n",
              " Text(0.4079507131000182, 0.8612903225806452, 'X[892] <= 0.027\\ngini = 0.415\\nsamples = 17\\nvalue = [12, 5]'),\n",
              " Text(0.4054363697449021, 0.8548387096774194, 'X[25847] <= 0.024\\ngini = 0.245\\nsamples = 14\\nvalue = [12, 2]'),\n",
              " Text(0.4029220263897861, 0.8483870967741935, 'gini = 0.0\\nsamples = 12\\nvalue = [12, 0]'),\n",
              " Text(0.4079507131000182, 0.8483870967741935, 'gini = 0.0\\nsamples = 2\\nvalue = [0, 2]'),\n",
              " Text(0.4104650564551342, 0.8548387096774194, 'gini = 0.0\\nsamples = 3\\nvalue = [0, 3]'),\n",
              " Text(0.4129793998102503, 0.8612903225806452, 'gini = 0.0\\nsamples = 6\\nvalue = [0, 6]'),\n",
              " Text(0.4104650564551342, 0.8741935483870967, 'gini = 0.0\\nsamples = 5\\nvalue = [5, 0]'),\n",
              " Text(0.4230367732307144, 0.8806451612903226, 'X[28702] <= 0.015\\ngini = 0.497\\nsamples = 24\\nvalue = [13, 11]'),\n",
              " Text(0.4180080865204823, 0.8741935483870967, 'X[42943] <= 0.006\\ngini = 0.375\\nsamples = 16\\nvalue = [12, 4]'),\n",
              " Text(0.4154937431653663, 0.867741935483871, 'gini = 0.0\\nsamples = 11\\nvalue = [11, 0]'),\n",
              " Text(0.4205224298755984, 0.867741935483871, 'X[39339] <= 0.013\\ngini = 0.32\\nsamples = 5\\nvalue = [1, 4]'),\n",
              " Text(0.4180080865204823, 0.8612903225806452, 'gini = 0.0\\nsamples = 4\\nvalue = [0, 4]'),\n",
              " Text(0.4230367732307144, 0.8612903225806452, 'gini = 0.0\\nsamples = 1\\nvalue = [1, 0]'),\n",
              " Text(0.4280654599409465, 0.8741935483870967, 'X[14012] <= 0.031\\ngini = 0.219\\nsamples = 8\\nvalue = [1, 7]'),\n",
              " Text(0.4255511165858305, 0.867741935483871, 'gini = 0.0\\nsamples = 7\\nvalue = [0, 7]'),\n",
              " Text(0.4305798032960626, 0.867741935483871, 'gini = 0.0\\nsamples = 1\\nvalue = [1, 0]'),\n",
              " Text(0.4431515200716428, 0.8870967741935484, 'X[38210] <= 0.01\\ngini = 0.48\\nsamples = 20\\nvalue = [12, 8]'),\n",
              " Text(0.4406371767165268, 0.8806451612903226, 'X[37392] <= 0.017\\ngini = 0.375\\nsamples = 16\\nvalue = [12, 4]'),\n",
              " Text(0.4381228333614107, 0.8741935483870967, 'X[18516] <= 0.005\\ngini = 0.32\\nsamples = 5\\nvalue = [1, 4]'),\n",
              " Text(0.4356084900062947, 0.867741935483871, 'gini = 0.0\\nsamples = 4\\nvalue = [0, 4]'),\n",
              " Text(0.4406371767165268, 0.867741935483871, 'gini = 0.0\\nsamples = 1\\nvalue = [1, 0]'),\n",
              " Text(0.4431515200716428, 0.8741935483870967, 'gini = 0.0\\nsamples = 11\\nvalue = [11, 0]'),\n",
              " Text(0.44566586342675885, 0.8806451612903226, 'gini = 0.0\\nsamples = 4\\nvalue = [0, 4]'),\n",
              " Text(0.4099936170760499, 0.9, 'gini = 0.0\\nsamples = 6\\nvalue = [6, 0]'),\n",
              " Text(0.4582375802023391, 0.9064516129032258, 'X[49119] <= 0.014\\ngini = 0.491\\nsamples = 30\\nvalue = [17, 13]'),\n",
              " Text(0.453208893492107, 0.9, 'X[22801] <= 0.02\\ngini = 0.457\\nsamples = 17\\nvalue = [6, 11]'),\n",
              " Text(0.45069455013699095, 0.8935483870967742, 'X[46294] <= 0.025\\ngini = 0.26\\nsamples = 13\\nvalue = [2, 11]'),\n",
              " Text(0.4481802067818749, 0.8870967741935484, 'gini = 0.0\\nsamples = 11\\nvalue = [0, 11]'),\n",
              " Text(0.453208893492107, 0.8870967741935484, 'gini = 0.0\\nsamples = 2\\nvalue = [2, 0]'),\n",
              " Text(0.45572323684722305, 0.8935483870967742, 'gini = 0.0\\nsamples = 4\\nvalue = [4, 0]'),\n",
              " Text(0.4632662669125712, 0.9, 'X[42899] <= 0.012\\ngini = 0.26\\nsamples = 13\\nvalue = [11, 2]'),\n",
              " Text(0.46075192355745515, 0.8935483870967742, 'gini = 0.0\\nsamples = 11\\nvalue = [11, 0]'),\n",
              " Text(0.46578061026768725, 0.8935483870967742, 'gini = 0.0\\nsamples = 2\\nvalue = [0, 2]'),\n",
              " Text(0.47835232704326747, 0.9129032258064517, 'X[12757] <= 0.001\\ngini = 0.48\\nsamples = 30\\nvalue = [18, 12]'),\n",
              " Text(0.47583798368815144, 0.9064516129032258, 'X[37400] <= 0.013\\ngini = 0.375\\nsamples = 24\\nvalue = [18, 6]'),\n",
              " Text(0.4733236403330354, 0.9, 'X[16831] <= 0.012\\ngini = 0.245\\nsamples = 21\\nvalue = [18, 3]'),\n",
              " Text(0.47080929697791934, 0.8935483870967742, 'X[32183] <= 0.026\\ngini = 0.1\\nsamples = 19\\nvalue = [18, 1]'),\n",
              " Text(0.4682949536228033, 0.8870967741935484, 'gini = 0.0\\nsamples = 18\\nvalue = [18, 0]'),\n",
              " Text(0.4733236403330354, 0.8870967741935484, 'gini = 0.0\\nsamples = 1\\nvalue = [0, 1]'),\n",
              " Text(0.47583798368815144, 0.8935483870967742, 'gini = 0.0\\nsamples = 2\\nvalue = [0, 2]'),\n",
              " Text(0.47835232704326747, 0.9, 'gini = 0.0\\nsamples = 3\\nvalue = [0, 3]'),\n",
              " Text(0.48086667039838354, 0.9064516129032258, 'gini = 0.0\\nsamples = 6\\nvalue = [0, 6]'),\n",
              " Text(0.49343838717396377, 0.9193548387096774, 'X[18616] <= 0.006\\ngini = 0.079\\nsamples = 508\\nvalue = [21, 487]'),\n",
              " Text(0.48840970046373167, 0.9129032258064517, 'X[247] <= 0.013\\ngini = 0.069\\nsamples = 504\\nvalue = [18, 486]'),\n",
              " Text(0.48589535710861564, 0.9064516129032258, 'X[36374] <= 0.028\\ngini = 0.062\\nsamples = 502\\nvalue = [16, 486]'),\n",
              " Text(0.48338101375349957, 0.9, 'X[30402] <= 0.038\\ngini = 0.054\\nsamples = 500\\nvalue = [14, 486]'),\n",
              " Text(0.48086667039838354, 0.8935483870967742, 'X[9271] <= 0.006\\ngini = 0.047\\nsamples = 498\\nvalue = [12, 486]'),\n",
              " Text(0.47835232704326747, 0.8870967741935484, 'X[33369] <= 0.02\\ngini = 0.04\\nsamples = 496\\nvalue = [10, 486]'),\n",
              " Text(0.47583798368815144, 0.8806451612903226, 'X[11518] <= 0.014\\ngini = 0.032\\nsamples = 494\\nvalue = [8, 486]'),\n",
              " Text(0.4733236403330354, 0.8741935483870967, 'X[1963] <= 0.008\\ngini = 0.024\\nsamples = 492\\nvalue = [6, 486]'),\n",
              " Text(0.46703778194524526, 0.867741935483871, 'X[40097] <= 0.154\\ngini = 0.016\\nsamples = 489\\nvalue = [4, 485]'),\n",
              " Text(0.46200909523501316, 0.8612903225806452, 'X[2463] <= 0.049\\ngini = 0.008\\nsamples = 486\\nvalue = [2, 484]'),\n",
              " Text(0.45949475187989713, 0.8548387096774194, 'X[9181] <= 0.025\\ngini = 0.004\\nsamples = 485\\nvalue = [1, 484]'),\n",
              " Text(0.4569804085247811, 0.8483870967741935, 'gini = 0.0\\nsamples = 484\\nvalue = [0, 484]'),\n",
              " Text(0.46200909523501316, 0.8483870967741935, 'gini = 0.0\\nsamples = 1\\nvalue = [1, 0]'),\n",
              " Text(0.46452343859012923, 0.8548387096774194, 'gini = 0.0\\nsamples = 1\\nvalue = [1, 0]'),\n",
              " Text(0.47206646865547736, 0.8612903225806452, 'X[4880] <= 0.009\\ngini = 0.444\\nsamples = 3\\nvalue = [2, 1]'),\n",
              " Text(0.46955212530036133, 0.8548387096774194, 'gini = 0.0\\nsamples = 1\\nvalue = [1, 0]'),\n",
              " Text(0.47458081201059343, 0.8548387096774194, 'gini = 0.5\\nsamples = 2\\nvalue = [1, 1]'),\n",
              " Text(0.47960949872082553, 0.867741935483871, 'X[41372] <= 0.038\\ngini = 0.444\\nsamples = 3\\nvalue = [2, 1]'),\n",
              " Text(0.47709515536570946, 0.8612903225806452, 'gini = 0.0\\nsamples = 2\\nvalue = [2, 0]'),\n",
              " Text(0.48212384207594156, 0.8612903225806452, 'gini = 0.0\\nsamples = 1\\nvalue = [0, 1]'),\n",
              " Text(0.47835232704326747, 0.8741935483870967, 'gini = 0.0\\nsamples = 2\\nvalue = [2, 0]'),\n",
              " Text(0.48086667039838354, 0.8806451612903226, 'gini = 0.0\\nsamples = 2\\nvalue = [2, 0]'),\n",
              " Text(0.48338101375349957, 0.8870967741935484, 'gini = 0.0\\nsamples = 2\\nvalue = [2, 0]'),\n",
              " Text(0.48589535710861564, 0.8935483870967742, 'gini = 0.0\\nsamples = 2\\nvalue = [2, 0]'),\n",
              " Text(0.48840970046373167, 0.9, 'gini = 0.0\\nsamples = 2\\nvalue = [2, 0]'),\n",
              " Text(0.49092404381884774, 0.9064516129032258, 'gini = 0.0\\nsamples = 2\\nvalue = [2, 0]'),\n",
              " Text(0.49846707388419587, 0.9129032258064517, 'X[24608] <= 0.002\\ngini = 0.375\\nsamples = 4\\nvalue = [3, 1]'),\n",
              " Text(0.49595273052907984, 0.9064516129032258, 'gini = 0.0\\nsamples = 1\\nvalue = [0, 1]'),\n",
              " Text(0.5009814172393119, 0.9064516129032258, 'gini = 0.0\\nsamples = 3\\nvalue = [3, 0]'),\n",
              " Text(0.5280106083068095, 0.9258064516129032, 'X[19136] <= 0.019\\ngini = 0.489\\nsamples = 108\\nvalue = [46, 62]'),\n",
              " Text(0.5198389924026823, 0.9193548387096774, 'X[29185] <= 0.022\\ngini = 0.498\\nsamples = 83\\nvalue = [44, 39]'),\n",
              " Text(0.5110387906597761, 0.9129032258064517, 'X[29572] <= 0.022\\ngini = 0.455\\nsamples = 63\\nvalue = [41, 22]'),\n",
              " Text(0.506010103949544, 0.9064516129032258, 'X[26361] <= 0.011\\ngini = 0.32\\nsamples = 50\\nvalue = [40, 10]'),\n",
              " Text(0.503495760594428, 0.9, 'X[3189] <= 0.073\\ngini = 0.198\\nsamples = 45\\nvalue = [40, 5]'),\n",
              " Text(0.5009814172393119, 0.8935483870967742, 'X[41643] <= 0.039\\ngini = 0.13\\nsamples = 43\\nvalue = [40, 3]'),\n",
              " Text(0.49846707388419587, 0.8870967741935484, 'X[35862] <= 0.031\\ngini = 0.048\\nsamples = 41\\nvalue = [40, 1]'),\n",
              " Text(0.49595273052907984, 0.8806451612903226, 'gini = 0.0\\nsamples = 40\\nvalue = [40, 0]'),\n",
              " Text(0.5009814172393119, 0.8806451612903226, 'gini = 0.0\\nsamples = 1\\nvalue = [0, 1]'),\n",
              " Text(0.503495760594428, 0.8870967741935484, 'gini = 0.0\\nsamples = 2\\nvalue = [0, 2]'),\n",
              " Text(0.506010103949544, 0.8935483870967742, 'gini = 0.0\\nsamples = 2\\nvalue = [0, 2]'),\n",
              " Text(0.5085244473046601, 0.9, 'gini = 0.0\\nsamples = 5\\nvalue = [0, 5]'),\n",
              " Text(0.5160674773700082, 0.9064516129032258, 'X[30057] <= 0.026\\ngini = 0.142\\nsamples = 13\\nvalue = [1, 12]'),\n",
              " Text(0.5135531340148921, 0.9, 'gini = 0.0\\nsamples = 12\\nvalue = [0, 12]'),\n",
              " Text(0.5185818207251243, 0.9, 'gini = 0.0\\nsamples = 1\\nvalue = [1, 0]'),\n",
              " Text(0.5286391941455885, 0.9129032258064517, 'X[47238] <= 0.008\\ngini = 0.255\\nsamples = 20\\nvalue = [3, 17]'),\n",
              " Text(0.5261248507904724, 0.9064516129032258, 'X[32156] <= 0.053\\ngini = 0.105\\nsamples = 18\\nvalue = [1, 17]'),\n",
              " Text(0.5236105074353563, 0.9, 'gini = 0.0\\nsamples = 17\\nvalue = [0, 17]'),\n",
              " Text(0.5286391941455885, 0.9, 'gini = 0.0\\nsamples = 1\\nvalue = [1, 0]'),\n",
              " Text(0.5311535375007045, 0.9064516129032258, 'gini = 0.0\\nsamples = 2\\nvalue = [2, 0]'),\n",
              " Text(0.5361822242109366, 0.9193548387096774, 'X[33528] <= 0.032\\ngini = 0.147\\nsamples = 25\\nvalue = [2, 23]'),\n",
              " Text(0.5336678808558205, 0.9129032258064517, 'gini = 0.0\\nsamples = 23\\nvalue = [0, 23]'),\n",
              " Text(0.5386965675660527, 0.9129032258064517, 'gini = 0.0\\nsamples = 2\\nvalue = [2, 0]'),\n",
              " Text(0.5462395976314007, 0.932258064516129, 'X[28243] <= 0.024\\ngini = 0.311\\nsamples = 26\\nvalue = [21, 5]'),\n",
              " Text(0.5437252542762847, 0.9258064516129032, 'X[19129] <= 0.019\\ngini = 0.159\\nsamples = 23\\nvalue = [21, 2]'),\n",
              " Text(0.5412109109211687, 0.9193548387096774, 'gini = 0.0\\nsamples = 21\\nvalue = [21, 0]'),\n",
              " Text(0.5462395976314007, 0.9193548387096774, 'gini = 0.0\\nsamples = 2\\nvalue = [0, 2]'),\n",
              " Text(0.5487539409865169, 0.9258064516129032, 'gini = 0.0\\nsamples = 3\\nvalue = [0, 3]'),\n",
              " Text(0.5650971727947711, 0.9387096774193548, 'X[37392] <= 0.041\\ngini = 0.489\\nsamples = 68\\nvalue = [39, 29]'),\n",
              " Text(0.5588113144069811, 0.932258064516129, 'X[42943] <= 0.018\\ngini = 0.473\\nsamples = 39\\nvalue = [15, 24]'),\n",
              " Text(0.5562969710518649, 0.9258064516129032, 'X[44782] <= 0.027\\ngini = 0.375\\nsamples = 32\\nvalue = [8, 24]'),\n",
              " Text(0.5512682843416329, 0.9193548387096774, 'X[818] <= 0.037\\ngini = 0.252\\nsamples = 27\\nvalue = [4, 23]'),\n",
              " Text(0.5487539409865169, 0.9129032258064517, 'X[10741] <= 0.029\\ngini = 0.147\\nsamples = 25\\nvalue = [2, 23]'),\n",
              " Text(0.5462395976314007, 0.9064516129032258, 'gini = 0.0\\nsamples = 23\\nvalue = [0, 23]'),\n",
              " Text(0.5512682843416329, 0.9064516129032258, 'gini = 0.0\\nsamples = 2\\nvalue = [2, 0]'),\n",
              " Text(0.5537826276967489, 0.9129032258064517, 'gini = 0.0\\nsamples = 2\\nvalue = [2, 0]'),\n",
              " Text(0.5613256577620971, 0.9193548387096774, 'X[41210] <= 0.019\\ngini = 0.32\\nsamples = 5\\nvalue = [4, 1]'),\n",
              " Text(0.5588113144069811, 0.9129032258064517, 'gini = 0.0\\nsamples = 4\\nvalue = [4, 0]'),\n",
              " Text(0.5638400011172131, 0.9129032258064517, 'gini = 0.0\\nsamples = 1\\nvalue = [0, 1]'),\n",
              " Text(0.5613256577620971, 0.9258064516129032, 'gini = 0.0\\nsamples = 7\\nvalue = [7, 0]'),\n",
              " Text(0.5713830311825613, 0.932258064516129, 'X[41834] <= 0.026\\ngini = 0.285\\nsamples = 29\\nvalue = [24, 5]'),\n",
              " Text(0.5688686878274452, 0.9258064516129032, 'X[46599] <= 0.019\\ngini = 0.142\\nsamples = 26\\nvalue = [24, 2]'),\n",
              " Text(0.5663543444723291, 0.9193548387096774, 'gini = 0.0\\nsamples = 23\\nvalue = [23, 0]'),\n",
              " Text(0.5713830311825613, 0.9193548387096774, 'X[22801] <= 0.016\\ngini = 0.444\\nsamples = 3\\nvalue = [1, 2]'),\n",
              " Text(0.5688686878274452, 0.9129032258064517, 'gini = 0.0\\nsamples = 2\\nvalue = [0, 2]'),\n",
              " Text(0.5738973745376773, 0.9129032258064517, 'gini = 0.0\\nsamples = 1\\nvalue = [1, 0]'),\n",
              " Text(0.5738973745376773, 0.9258064516129032, 'gini = 0.0\\nsamples = 3\\nvalue = [0, 3]'),\n",
              " Text(0.5889834346683736, 0.9451612903225807, 'X[1660] <= 0.005\\ngini = 0.367\\nsamples = 33\\nvalue = [25, 8]'),\n",
              " Text(0.5839547479581415, 0.9387096774193548, 'X[13563] <= 0.018\\ngini = 0.198\\nsamples = 27\\nvalue = [24, 3]'),\n",
              " Text(0.5814404046030255, 0.932258064516129, 'X[5395] <= 0.103\\ngini = 0.077\\nsamples = 25\\nvalue = [24, 1]'),\n",
              " Text(0.5789260612479094, 0.9258064516129032, 'gini = 0.0\\nsamples = 24\\nvalue = [24, 0]'),\n",
              " Text(0.5839547479581415, 0.9258064516129032, 'gini = 0.0\\nsamples = 1\\nvalue = [0, 1]'),\n",
              " Text(0.5864690913132575, 0.932258064516129, 'gini = 0.0\\nsamples = 2\\nvalue = [0, 2]'),\n",
              " Text(0.5940121213786057, 0.9387096774193548, 'X[49474] <= 0.011\\ngini = 0.278\\nsamples = 6\\nvalue = [1, 5]'),\n",
              " Text(0.5914977780234897, 0.932258064516129, 'gini = 0.0\\nsamples = 5\\nvalue = [0, 5]'),\n",
              " Text(0.5965264647337217, 0.932258064516129, 'gini = 0.0\\nsamples = 1\\nvalue = [1, 0]'),\n",
              " Text(0.6040694947990699, 0.9516129032258065, 'X[28496] <= 0.016\\ngini = 0.26\\nsamples = 26\\nvalue = [22, 4]'),\n",
              " Text(0.6015551514439538, 0.9451612903225807, 'X[5925] <= 0.042\\ngini = 0.083\\nsamples = 23\\nvalue = [22, 1]'),\n",
              " Text(0.5990408080888378, 0.9387096774193548, 'gini = 0.0\\nsamples = 22\\nvalue = [22, 0]'),\n",
              " Text(0.6040694947990699, 0.9387096774193548, 'gini = 0.0\\nsamples = 1\\nvalue = [0, 1]'),\n",
              " Text(0.6065838381541859, 0.9451612903225807, 'gini = 0.0\\nsamples = 3\\nvalue = [0, 3]'),\n",
              " Text(0.6191555549297661, 0.9580645161290322, 'X[19132] <= 0.004\\ngini = 0.498\\nsamples = 198\\nvalue = [93, 105]'),\n",
              " Text(0.6141268682195341, 0.9516129032258065, 'X[29013] <= 0.008\\ngini = 0.496\\nsamples = 169\\nvalue = [92, 77]'),\n",
              " Text(0.611612524864418, 0.9451612903225807, 'X[35523] <= 0.008\\ngini = 0.485\\nsamples = 157\\nvalue = [92, 65]'),\n",
              " Text(0.609098181509302, 0.9387096774193548, 'X[39493] <= 0.02\\ngini = 0.47\\nsamples = 148\\nvalue = [92, 56]'),\n",
              " Text(0.6040694947990699, 0.932258064516129, 'X[7959] <= 0.025\\ngini = 0.439\\nsamples = 132\\nvalue = [89, 43]'),\n",
              " Text(0.6015551514439538, 0.9258064516129032, 'X[29568] <= 0.027\\ngini = 0.41\\nsamples = 125\\nvalue = [89, 36]'),\n",
              " Text(0.5990408080888378, 0.9193548387096774, 'X[30320] <= 0.009\\ngini = 0.377\\nsamples = 119\\nvalue = [89, 30]'),\n",
              " Text(0.5965264647337217, 0.9129032258064517, 'X[35501] <= 0.027\\ngini = 0.35\\nsamples = 115\\nvalue = [89, 26]'),\n",
              " Text(0.5940121213786057, 0.9064516129032258, 'X[4722] <= 0.03\\ngini = 0.318\\nsamples = 111\\nvalue = [89, 22]'),\n",
              " Text(0.5889834346683736, 0.9, 'X[10308] <= 0.053\\ngini = 0.255\\nsamples = 100\\nvalue = [85, 15]'),\n",
              " Text(0.5864690913132575, 0.8935483870967742, 'X[21156] <= 0.026\\ngini = 0.217\\nsamples = 97\\nvalue = [85, 12]'),\n",
              " Text(0.5814404046030255, 0.8870967741935484, 'X[668] <= 0.027\\ngini = 0.159\\nsamples = 92\\nvalue = [84, 8]'),\n",
              " Text(0.5789260612479094, 0.8806451612903226, 'X[22283] <= 0.059\\ngini = 0.124\\nsamples = 90\\nvalue = [84, 6]'),\n",
              " Text(0.5726402028601193, 0.8741935483870967, 'X[42504] <= 0.067\\ngini = 0.069\\nsamples = 84\\nvalue = [81, 3]'),\n",
              " Text(0.5676115161498871, 0.867741935483871, 'X[36777] <= 0.027\\ngini = 0.024\\nsamples = 81\\nvalue = [80, 1]'),\n",
              " Text(0.5650971727947711, 0.8612903225806452, 'gini = 0.0\\nsamples = 80\\nvalue = [80, 0]'),\n",
              " Text(0.5701258595050033, 0.8612903225806452, 'gini = 0.0\\nsamples = 1\\nvalue = [0, 1]'),\n",
              " Text(0.5776688895703513, 0.867741935483871, 'X[36241] <= 0.019\\ngini = 0.444\\nsamples = 3\\nvalue = [1, 2]'),\n",
              " Text(0.5751545462152353, 0.8612903225806452, 'gini = 0.0\\nsamples = 2\\nvalue = [0, 2]'),\n",
              " Text(0.5801832329254675, 0.8612903225806452, 'gini = 0.0\\nsamples = 1\\nvalue = [1, 0]'),\n",
              " Text(0.5852119196356995, 0.8741935483870967, 'X[49564] <= 0.005\\ngini = 0.5\\nsamples = 6\\nvalue = [3, 3]'),\n",
              " Text(0.5826975762805835, 0.867741935483871, 'gini = 0.0\\nsamples = 3\\nvalue = [0, 3]'),\n",
              " Text(0.5877262629908155, 0.867741935483871, 'gini = 0.0\\nsamples = 3\\nvalue = [3, 0]'),\n",
              " Text(0.5839547479581415, 0.8806451612903226, 'gini = 0.0\\nsamples = 2\\nvalue = [0, 2]'),\n",
              " Text(0.5914977780234897, 0.8870967741935484, 'X[36152] <= 0.024\\ngini = 0.32\\nsamples = 5\\nvalue = [1, 4]'),\n",
              " Text(0.5889834346683736, 0.8806451612903226, 'gini = 0.0\\nsamples = 4\\nvalue = [0, 4]'),\n",
              " Text(0.5940121213786057, 0.8806451612903226, 'gini = 0.0\\nsamples = 1\\nvalue = [1, 0]'),\n",
              " Text(0.5914977780234897, 0.8935483870967742, 'gini = 0.0\\nsamples = 3\\nvalue = [0, 3]'),\n",
              " Text(0.5990408080888378, 0.9, 'X[4722] <= 0.054\\ngini = 0.463\\nsamples = 11\\nvalue = [4, 7]'),\n",
              " Text(0.5965264647337217, 0.8935483870967742, 'gini = 0.0\\nsamples = 6\\nvalue = [0, 6]'),\n",
              " Text(0.6015551514439538, 0.8935483870967742, 'X[44668] <= 0.04\\ngini = 0.32\\nsamples = 5\\nvalue = [4, 1]'),\n",
              " Text(0.5990408080888378, 0.8870967741935484, 'gini = 0.0\\nsamples = 4\\nvalue = [4, 0]'),\n",
              " Text(0.6040694947990699, 0.8870967741935484, 'gini = 0.0\\nsamples = 1\\nvalue = [0, 1]'),\n",
              " Text(0.5990408080888378, 0.9064516129032258, 'gini = 0.0\\nsamples = 4\\nvalue = [0, 4]'),\n",
              " Text(0.6015551514439538, 0.9129032258064517, 'gini = 0.0\\nsamples = 4\\nvalue = [0, 4]'),\n",
              " Text(0.6040694947990699, 0.9193548387096774, 'gini = 0.0\\nsamples = 6\\nvalue = [0, 6]'),\n",
              " Text(0.6065838381541859, 0.9258064516129032, 'gini = 0.0\\nsamples = 7\\nvalue = [0, 7]'),\n",
              " Text(0.6141268682195341, 0.932258064516129, 'X[20308] <= 0.006\\ngini = 0.305\\nsamples = 16\\nvalue = [3, 13]'),\n",
              " Text(0.611612524864418, 0.9258064516129032, 'gini = 0.0\\nsamples = 13\\nvalue = [0, 13]'),\n",
              " Text(0.6166412115746501, 0.9258064516129032, 'gini = 0.0\\nsamples = 3\\nvalue = [3, 0]'),\n",
              " Text(0.6141268682195341, 0.9387096774193548, 'gini = 0.0\\nsamples = 9\\nvalue = [0, 9]'),\n",
              " Text(0.6166412115746501, 0.9451612903225807, 'gini = 0.0\\nsamples = 12\\nvalue = [0, 12]'),\n",
              " Text(0.6241842416399983, 0.9516129032258065, 'X[35489] <= 0.02\\ngini = 0.067\\nsamples = 29\\nvalue = [1, 28]'),\n",
              " Text(0.6216698982848822, 0.9451612903225807, 'gini = 0.0\\nsamples = 28\\nvalue = [0, 28]'),\n",
              " Text(0.6266985849951143, 0.9451612903225807, 'gini = 0.0\\nsamples = 1\\nvalue = [1, 0]'),\n",
              " Text(0.6480705035136007, 0.9709677419354839, 'X[11072] <= 0.025\\ngini = 0.369\\nsamples = 90\\nvalue = [68, 22]'),\n",
              " Text(0.6455561601584847, 0.964516129032258, 'X[404] <= 0.032\\ngini = 0.331\\nsamples = 86\\nvalue = [68, 18]'),\n",
              " Text(0.6405274734482526, 0.9580645161290322, 'X[39676] <= 0.032\\ngini = 0.272\\nsamples = 80\\nvalue = [67, 13]'),\n",
              " Text(0.6380131300931365, 0.9516129032258065, 'X[38454] <= 0.02\\ngini = 0.226\\nsamples = 77\\nvalue = [67, 10]'),\n",
              " Text(0.6317272717053464, 0.9451612903225807, 'X[45224] <= 0.024\\ngini = 0.173\\nsamples = 73\\nvalue = [66, 7]'),\n",
              " Text(0.6266985849951143, 0.9387096774193548, 'X[4285] <= 0.035\\ngini = 0.087\\nsamples = 66\\nvalue = [63, 3]'),\n",
              " Text(0.6241842416399983, 0.932258064516129, 'X[31043] <= 0.033\\ngini = 0.031\\nsamples = 64\\nvalue = [63, 1]'),\n",
              " Text(0.6216698982848822, 0.9258064516129032, 'gini = 0.0\\nsamples = 63\\nvalue = [63, 0]'),\n",
              " Text(0.6266985849951143, 0.9258064516129032, 'gini = 0.0\\nsamples = 1\\nvalue = [0, 1]'),\n",
              " Text(0.6292129283502303, 0.932258064516129, 'gini = 0.0\\nsamples = 2\\nvalue = [0, 2]'),\n",
              " Text(0.6367559584155785, 0.9387096774193548, 'X[33507] <= 0.025\\ngini = 0.49\\nsamples = 7\\nvalue = [3, 4]'),\n",
              " Text(0.6342416150604624, 0.932258064516129, 'gini = 0.0\\nsamples = 4\\nvalue = [0, 4]'),\n",
              " Text(0.6392703017706945, 0.932258064516129, 'gini = 0.0\\nsamples = 3\\nvalue = [3, 0]'),\n",
              " Text(0.6442989884809266, 0.9451612903225807, 'X[4255] <= 0.028\\ngini = 0.375\\nsamples = 4\\nvalue = [1, 3]'),\n",
              " Text(0.6417846451258106, 0.9387096774193548, 'gini = 0.0\\nsamples = 3\\nvalue = [0, 3]'),\n",
              " Text(0.6468133318360427, 0.9387096774193548, 'gini = 0.0\\nsamples = 1\\nvalue = [1, 0]'),\n",
              " Text(0.6430418168033686, 0.9516129032258065, 'gini = 0.0\\nsamples = 3\\nvalue = [0, 3]'),\n",
              " Text(0.6505848468687168, 0.9580645161290322, 'X[10741] <= 0.08\\ngini = 0.278\\nsamples = 6\\nvalue = [1, 5]'),\n",
              " Text(0.6480705035136007, 0.9516129032258065, 'gini = 0.0\\nsamples = 5\\nvalue = [0, 5]'),\n",
              " Text(0.6530991902238328, 0.9516129032258065, 'gini = 0.0\\nsamples = 1\\nvalue = [1, 0]'),\n",
              " Text(0.6505848468687168, 0.964516129032258, 'gini = 0.0\\nsamples = 4\\nvalue = [0, 4]'),\n",
              " Text(0.6725853512259822, 0.9774193548387097, 'X[10950] <= 0.042\\ngini = 0.373\\nsamples = 262\\nvalue = [197, 65]'),\n",
              " Text(0.6700710078708662, 0.9709677419354839, 'X[33513] <= 0.02\\ngini = 0.358\\nsamples = 257\\nvalue = [197, 60]'),\n",
              " Text(0.6675566645157501, 0.964516129032258, 'X[23552] <= 0.027\\ngini = 0.341\\nsamples = 252\\nvalue = [197, 55]'),\n",
              " Text(0.662527977805518, 0.9580645161290322, 'X[36986] <= 0.058\\ngini = 0.312\\nsamples = 238\\nvalue = [192, 46]'),\n",
              " Text(0.660013634450402, 0.9516129032258065, 'X[8332] <= 0.013\\ngini = 0.295\\nsamples = 234\\nvalue = [192, 42]'),\n",
              " Text(0.6574992910952859, 0.9451612903225807, 'X[3249] <= 0.042\\ngini = 0.276\\nsamples = 230\\nvalue = [192, 38]'),\n",
              " Text(0.6549849477401698, 0.9387096774193548, 'X[16575] <= 0.028\\ngini = 0.256\\nsamples = 226\\nvalue = [192, 34]'),\n",
              " Text(0.6442989884809266, 0.932258064516129, 'X[33380] <= 0.012\\ngini = 0.22\\nsamples = 214\\nvalue = [187, 27]'),\n",
              " Text(0.6380131300931365, 0.9258064516129032, 'X[29679] <= 0.007\\ngini = 0.408\\nsamples = 7\\nvalue = [2, 5]'),\n",
              " Text(0.6354987867380205, 0.9193548387096774, 'gini = 0.0\\nsamples = 5\\nvalue = [0, 5]'),\n",
              " Text(0.6405274734482526, 0.9193548387096774, 'gini = 0.0\\nsamples = 2\\nvalue = [2, 0]'),\n",
              " Text(0.6505848468687168, 0.9258064516129032, 'X[30344] <= 0.062\\ngini = 0.19\\nsamples = 207\\nvalue = [185, 22]'),\n",
              " Text(0.6455561601584847, 0.9193548387096774, 'X[28331] <= 0.014\\ngini = 0.162\\nsamples = 202\\nvalue = [184, 18]'),\n",
              " Text(0.6430418168033686, 0.9129032258064517, 'X[6403] <= 0.033\\ngini = 0.139\\nsamples = 199\\nvalue = [184, 15]'),\n",
              " Text(0.6405274734482526, 0.9064516129032258, 'X[19512] <= 0.063\\ngini = 0.123\\nsamples = 197\\nvalue = [184, 13]'),\n",
              " Text(0.6380131300931365, 0.9, 'X[40630] <= 0.021\\ngini = 0.106\\nsamples = 195\\nvalue = [184, 11]'),\n",
              " Text(0.6354987867380205, 0.8935483870967742, 'X[29166] <= 0.054\\ngini = 0.089\\nsamples = 193\\nvalue = [184, 9]'),\n",
              " Text(0.6329844433829044, 0.8870967741935484, 'X[8763] <= 0.031\\ngini = 0.071\\nsamples = 191\\nvalue = [184, 7]'),\n",
              " Text(0.6304701000277884, 0.8806451612903226, 'X[13228] <= 0.02\\ngini = 0.052\\nsamples = 189\\nvalue = [184, 5]'),\n",
              " Text(0.6254414133175563, 0.8741935483870967, 'X[20631] <= 0.056\\ngini = 0.032\\nsamples = 186\\nvalue = [183, 3]'),\n",
              " Text(0.6229270699624402, 0.867741935483871, 'X[12635] <= 0.053\\ngini = 0.021\\nsamples = 185\\nvalue = [183, 2]'),\n",
              " Text(0.6204127266073242, 0.8612903225806452, 'X[29719] <= 0.047\\ngini = 0.011\\nsamples = 184\\nvalue = [183, 1]'),\n",
              " Text(0.6178983832522081, 0.8548387096774194, 'gini = 0.0\\nsamples = 183\\nvalue = [183, 0]'),\n",
              " Text(0.6229270699624402, 0.8548387096774194, 'gini = 0.0\\nsamples = 1\\nvalue = [0, 1]'),\n",
              " Text(0.6254414133175563, 0.8612903225806452, 'gini = 0.0\\nsamples = 1\\nvalue = [0, 1]'),\n",
              " Text(0.6279557566726723, 0.867741935483871, 'gini = 0.0\\nsamples = 1\\nvalue = [0, 1]'),\n",
              " Text(0.6354987867380205, 0.8741935483870967, 'X[35144] <= 0.009\\ngini = 0.444\\nsamples = 3\\nvalue = [1, 2]'),\n",
              " Text(0.6329844433829044, 0.867741935483871, 'gini = 0.0\\nsamples = 1\\nvalue = [0, 1]'),\n",
              " Text(0.6380131300931365, 0.867741935483871, 'gini = 0.5\\nsamples = 2\\nvalue = [1, 1]'),\n",
              " Text(0.6354987867380205, 0.8806451612903226, 'gini = 0.0\\nsamples = 2\\nvalue = [0, 2]'),\n",
              " Text(0.6380131300931365, 0.8870967741935484, 'gini = 0.0\\nsamples = 2\\nvalue = [0, 2]'),\n",
              " Text(0.6405274734482526, 0.8935483870967742, 'gini = 0.0\\nsamples = 2\\nvalue = [0, 2]'),\n",
              " Text(0.6430418168033686, 0.9, 'gini = 0.0\\nsamples = 2\\nvalue = [0, 2]'),\n",
              " Text(0.6455561601584847, 0.9064516129032258, 'gini = 0.0\\nsamples = 2\\nvalue = [0, 2]'),\n",
              " Text(0.6480705035136007, 0.9129032258064517, 'gini = 0.0\\nsamples = 3\\nvalue = [0, 3]'),\n",
              " Text(0.6556135335789488, 0.9193548387096774, 'X[41834] <= 0.015\\ngini = 0.32\\nsamples = 5\\nvalue = [1, 4]'),\n",
              " Text(0.6530991902238328, 0.9129032258064517, 'gini = 0.0\\nsamples = 4\\nvalue = [0, 4]'),\n",
              " Text(0.6581278769340649, 0.9129032258064517, 'gini = 0.0\\nsamples = 1\\nvalue = [1, 0]'),\n",
              " Text(0.665670906999413, 0.932258064516129, 'X[1620] <= 0.037\\ngini = 0.486\\nsamples = 12\\nvalue = [5, 7]'),\n",
              " Text(0.663156563644297, 0.9258064516129032, 'X[33048] <= 0.038\\ngini = 0.219\\nsamples = 8\\nvalue = [1, 7]'),\n",
              " Text(0.660642220289181, 0.9193548387096774, 'gini = 0.0\\nsamples = 7\\nvalue = [0, 7]'),\n",
              " Text(0.665670906999413, 0.9193548387096774, 'gini = 0.0\\nsamples = 1\\nvalue = [1, 0]'),\n",
              " Text(0.6681852503545291, 0.9258064516129032, 'gini = 0.0\\nsamples = 4\\nvalue = [4, 0]'),\n",
              " Text(0.660013634450402, 0.9387096774193548, 'gini = 0.0\\nsamples = 4\\nvalue = [0, 4]'),\n",
              " Text(0.662527977805518, 0.9451612903225807, 'gini = 0.0\\nsamples = 4\\nvalue = [0, 4]'),\n",
              " Text(0.665042321160634, 0.9516129032258065, 'gini = 0.0\\nsamples = 4\\nvalue = [0, 4]'),\n",
              " Text(0.6725853512259822, 0.9580645161290322, 'X[15735] <= 0.023\\ngini = 0.459\\nsamples = 14\\nvalue = [5, 9]'),\n",
              " Text(0.6700710078708662, 0.9516129032258065, 'gini = 0.0\\nsamples = 9\\nvalue = [0, 9]'),\n",
              " Text(0.6750996945810982, 0.9516129032258065, 'gini = 0.0\\nsamples = 5\\nvalue = [5, 0]'),\n",
              " Text(0.6725853512259822, 0.964516129032258, 'gini = 0.0\\nsamples = 5\\nvalue = [0, 5]'),\n",
              " Text(0.6750996945810982, 0.9709677419354839, 'gini = 0.0\\nsamples = 5\\nvalue = [0, 5]'),\n",
              " Text(0.745697741598966, 0.9838709677419355, 'X[7285] <= 0.061\\ngini = 0.315\\nsamples = 2982\\nvalue = [2397, 585]'),\n",
              " Text(0.7281366247280774, 0.9774193548387097, 'X[1506] <= 0.009\\ngini = 0.297\\nsamples = 2853\\nvalue = [2336, 517]'),\n",
              " Text(0.7218507663402872, 0.9709677419354839, 'X[12742] <= 0.036\\ngini = 0.292\\nsamples = 2837\\nvalue = [2334, 503]'),\n",
              " Text(0.7168220796300552, 0.964516129032258, 'X[38012] <= 0.07\\ngini = 0.287\\nsamples = 2816\\nvalue = [2326, 490]'),\n",
              " Text(0.714307736274939, 0.9580645161290322, 'X[41213] <= 0.032\\ngini = 0.286\\nsamples = 2811\\nvalue = [2326, 485]'),\n",
              " Text(0.711793392919823, 0.9516129032258065, 'X[23654] <= 0.081\\ngini = 0.284\\nsamples = 2806\\nvalue = [2326, 480]'),\n",
              " Text(0.709279049564707, 0.9451612903225807, 'X[13239] <= 0.069\\ngini = 0.282\\nsamples = 2801\\nvalue = [2326, 475]'),\n",
              " Text(0.706764706209591, 0.9387096774193548, 'X[7779] <= 0.027\\ngini = 0.28\\nsamples = 2796\\nvalue = [2326, 470]'),\n",
              " Text(0.688614290114847, 0.932258064516129, 'X[44132] <= 0.08\\ngini = 0.268\\nsamples = 2635\\nvalue = [2215, 420]'),\n",
              " Text(0.6788712096137723, 0.9258064516129032, 'X[39390] <= 0.032\\ngini = 0.265\\nsamples = 2624\\nvalue = [2212, 412]'),\n",
              " Text(0.6719567653872032, 0.9193548387096774, 'X[30167] <= 0.069\\ngini = 0.262\\nsamples = 2615\\nvalue = [2210, 405]'),\n",
              " Text(0.665670906999413, 0.9129032258064517, 'X[24608] <= 0.067\\ngini = 0.259\\nsamples = 2608\\nvalue = [2209, 399]'),\n",
              " Text(0.660642220289181, 0.9064516129032258, 'X[37890] <= 0.065\\ngini = 0.256\\nsamples = 2593\\nvalue = [2203, 390]'),\n",
              " Text(0.6581278769340649, 0.9, 'X[36213] <= 0.056\\ngini = 0.254\\nsamples = 2589\\nvalue = [2203, 386]'),\n",
              " Text(0.6556135335789488, 0.8935483870967742, 'X[34063] <= 0.041\\ngini = 0.252\\nsamples = 2585\\nvalue = [2203, 382]'),\n",
              " Text(0.6505848468687168, 0.8870967741935484, 'X[41216] <= 0.084\\ngini = 0.249\\nsamples = 2577\\nvalue = [2201, 376]'),\n",
              " Text(0.6480705035136007, 0.8806451612903226, 'X[42980] <= 0.054\\ngini = 0.247\\nsamples = 2573\\nvalue = [2201, 372]'),\n",
              " Text(0.6455561601584847, 0.8741935483870967, 'X[49682] <= 0.041\\ngini = 0.245\\nsamples = 2569\\nvalue = [2201, 368]'),\n",
              " Text(0.6430418168033686, 0.867741935483871, 'X[69] <= 0.031\\ngini = 0.244\\nsamples = 2565\\nvalue = [2201, 364]'),\n",
              " Text(0.6405274734482526, 0.8612903225806452, 'X[31727] <= 0.087\\ngini = 0.242\\nsamples = 2561\\nvalue = [2201, 360]'),\n",
              " Text(0.6310971704160894, 0.8548387096774194, 'X[26331] <= 0.357\\ngini = 0.239\\nsamples = 2555\\nvalue = [2200, 355]'),\n",
              " Text(0.6197795944171112, 0.8483870967741935, 'X[8002] <= 0.042\\ngini = 0.237\\nsamples = 2549\\nvalue = [2199, 350]'),\n",
              " Text(0.6046874724845028, 0.8419354838709677, 'X[831] <= 0.023\\ngini = 0.234\\nsamples = 2538\\nvalue = [2195, 343]'),\n",
              " Text(0.5895892887499824, 0.8354838709677419, 'X[14286] <= 0.055\\ngini = 0.226\\nsamples = 2469\\nvalue = [2149, 320]'),\n",
              " Text(0.5782504964443119, 0.8290322580645161, 'X[7922] <= 0.062\\ngini = 0.222\\nsamples = 2454\\nvalue = [2142, 312]'),\n",
              " Text(0.5681446286085513, 0.8225806451612904, 'X[32135] <= 0.066\\ngini = 0.218\\nsamples = 2439\\nvalue = [2135, 304]'),\n",
              " Text(0.5605046097126104, 0.8161290322580645, 'X[35671] <= 0.019\\ngini = 0.216\\nsamples = 2432\\nvalue = [2133, 299]'),\n",
              " Text(0.5527676019860766, 0.8096774193548387, 'X[31065] <= 0.056\\ngini = 0.213\\nsamples = 2425\\nvalue = [2131, 294]'),\n",
              " Text(0.5448366165983569, 0.8032258064516129, 'X[8806] <= 0.075\\ngini = 0.21\\nsamples = 2418\\nvalue = [2129, 289]'),\n",
              " Text(0.5365176758882659, 0.7967741935483871, 'X[28019] <= 0.053\\ngini = 0.208\\nsamples = 2411\\nvalue = [2127, 284]'),\n",
              " Text(0.5274228245334321, 0.7903225806451613, 'X[25914] <= 0.037\\ngini = 0.205\\nsamples = 2404\\nvalue = [2125, 279]'),\n",
              " Text(0.5167761518891126, 0.7838709677419354, 'X[45537] <= 0.085\\ngini = 0.201\\nsamples = 2385\\nvalue = [2115, 270]'),\n",
              " Text(0.5080545233760538, 0.7774193548387097, 'X[48105] <= 0.071\\ngini = 0.198\\nsamples = 2375\\nvalue = [2111, 264]'),\n",
              " Text(0.5055401800209378, 0.7709677419354839, 'X[33708] <= 0.056\\ngini = 0.195\\nsamples = 2371\\nvalue = [2111, 260]'),\n",
              " Text(0.49563995306016834, 0.7645161290322581, 'X[29069] <= 0.039\\ngini = 0.192\\nsamples = 2358\\nvalue = [2105, 253]'),\n",
              " Text(0.4884112159142097, 0.7580645161290323, 'X[5024] <= 0.183\\ngini = 0.189\\nsamples = 2353\\nvalue = [2104, 249]'),\n",
              " Text(0.48149677168764055, 0.7516129032258064, 'X[37878] <= 0.046\\ngini = 0.187\\nsamples = 2348\\nvalue = [2103, 245]'),\n",
              " Text(0.47521091329985043, 0.7451612903225806, 'X[37492] <= 0.044\\ngini = 0.185\\nsamples = 2343\\nvalue = [2102, 241]'),\n",
              " Text(0.47018222658961834, 0.7387096774193549, 'X[25156] <= 0.062\\ngini = 0.182\\nsamples = 2338\\nvalue = [2101, 237]'),\n",
              " Text(0.4676678832345023, 0.7322580645161291, 'X[35306] <= 0.072\\ngini = 0.18\\nsamples = 2335\\nvalue = [2101, 234]'),\n",
              " Text(0.46515353987938624, 0.7258064516129032, 'X[23977] <= 0.062\\ngini = 0.178\\nsamples = 2332\\nvalue = [2101, 231]'),\n",
              " Text(0.4626391965242702, 0.7193548387096774, 'X[9983] <= 0.045\\ngini = 0.177\\nsamples = 2329\\nvalue = [2101, 228]'),\n",
              " Text(0.46012485316915414, 0.7129032258064516, 'X[31852] <= 0.113\\ngini = 0.175\\nsamples = 2326\\nvalue = [2101, 225]'),\n",
              " Text(0.4576105098140381, 0.7064516129032258, 'X[43553] <= 0.081\\ngini = 0.173\\nsamples = 2323\\nvalue = [2101, 222]'),\n",
              " Text(0.4550961664589221, 0.7, 'X[43444] <= 0.075\\ngini = 0.171\\nsamples = 2320\\nvalue = [2101, 219]'),\n",
              " Text(0.452581823103806, 0.6935483870967742, 'X[31321] <= 0.125\\ngini = 0.169\\nsamples = 2317\\nvalue = [2101, 216]'),\n",
              " Text(0.45006747974869, 0.6870967741935484, 'X[29013] <= 0.038\\ngini = 0.167\\nsamples = 2314\\nvalue = [2101, 213]'),\n",
              " ...]"
            ]
          },
          "metadata": {},
          "execution_count": 31
        },
        {
          "output_type": "display_data",
          "data": {
            "text/plain": [
              "<Figure size 1152x576 with 1 Axes>"
            ],
            "image/png": "[encoded data removed]"
          },
          "metadata": {
            "needs_background": "light"
          }
        }
      ]
    },
    {
      "cell_type": "code",
      "source": [
        ""
      ],
      "metadata": {
        "id": "Udcl9064G5Xd"
      },
      "execution_count": null,
      "outputs": []
    },
    {
      "cell_type": "code",
      "source": [
        ""
      ],
      "metadata": {
        "id": "SHKHriKdG5Dp"
      },
      "execution_count": null,
      "outputs": []
    },
    {
      "cell_type": "markdown",
      "source": [
        "LOGISTIC REGRESSION"
      ],
      "metadata": {
        "id": "otQUiizBOGYp"
      }
    },
    {
      "cell_type": "code",
      "source": [
        "from sklearn.linear_model import LogisticRegression\n",
        "model = LogisticRegression()\n",
        "model.fit(train_data,y_train)\n",
        "y_pred=model.predict(test_data)"
      ],
      "metadata": {
        "id": "LuuVMZtfOKrI"
      },
      "execution_count": 23,
      "outputs": []
    },
    {
      "cell_type": "code",
      "source": [
        "mse=mean_squared_error(y_test,y_pred)\n",
        "from sklearn.metrics import r2_score\n",
        "r=r2_score(y_test,y_pred)\n",
        "\n",
        "print('the model performance')\n",
        "print('----------------------')\n",
        "print('MSE is {}'.format(mse))\n",
        "print('R-squared score is {}'.format(r))"
      ],
      "metadata": {
        "colab": {
          "base_uri": "https://localhost:8080/"
        },
        "id": "aZQRHLR6Oes7",
        "outputId": "3d22331f-7a97-4cd1-ac8d-03bfca79b84e"
      },
      "execution_count": 24,
      "outputs": [
        {
          "output_type": "stream",
          "name": "stdout",
          "text": [
            "the model performance\n",
            "----------------------\n",
            "MSE is 0.12226596675415573\n",
            "R-squared score is 0.5065304278316478\n"
          ]
        }
      ]
    },
    {
      "cell_type": "code",
      "source": [
        "#evaluate performance\n",
        "#confusion matrix\n",
        "from sklearn.metrics import confusion_matrix\n",
        "import seaborn as sns\n",
        "cf=confusion_matrix(y_test, y_pred)\n",
        "sns.heatmap(cf, annot=True)"
      ],
      "metadata": {
        "colab": {
          "base_uri": "https://localhost:8080/",
          "height": 286
        },
        "id": "i09ysd9UOg7U",
        "outputId": "c2033d70-e6ec-43eb-a14d-ee6956756bc8"
      },
      "execution_count": 25,
      "outputs": [
        {
          "output_type": "execute_result",
          "data": {
            "text/plain": [
              "<matplotlib.axes._subplots.AxesSubplot at 0x7f5f92f67f90>"
            ]
          },
          "metadata": {},
          "execution_count": 25
        },
        {
          "output_type": "display_data",
          "data": {
            "text/plain": [
              "<Figure size 432x288 with 2 Axes>"
            ],
            "image/png": "[encoded data removed]"
          },
          "metadata": {
            "needs_background": "light"
          }
        }
      ]
    },
    {
      "cell_type": "code",
      "source": [
        "#accuracy\n",
        "from sklearn.metrics import accuracy_score\n",
        "\n",
        "accuracy= accuracy_score(y_test, y_pred)\n",
        "accuracy"
      ],
      "metadata": {
        "colab": {
          "base_uri": "https://localhost:8080/"
        },
        "id": "PONM8L2KOi82",
        "outputId": "0d48ad94-832a-4a7f-c27e-af5aff4a4954"
      },
      "execution_count": 26,
      "outputs": [
        {
          "output_type": "execute_result",
          "data": {
            "text/plain": [
              "0.8777340332458443"
            ]
          },
          "metadata": {},
          "execution_count": 26
        }
      ]
    },
    {
      "cell_type": "code",
      "source": [
        "#precision score\n",
        "from sklearn.metrics import precision_score\n",
        "precision=precision_score(y_test, y_pred)\n",
        "precision"
      ],
      "metadata": {
        "colab": {
          "base_uri": "https://localhost:8080/"
        },
        "id": "CoMe7ZicOlQz",
        "outputId": "0f9b5d3f-ebee-4266-a18a-5458d56210c6"
      },
      "execution_count": 27,
      "outputs": [
        {
          "output_type": "execute_result",
          "data": {
            "text/plain": [
              "0.8756837394331178"
            ]
          },
          "metadata": {},
          "execution_count": 27
        }
      ]
    },
    {
      "cell_type": "code",
      "source": [
        "#recall score\n",
        "from sklearn.metrics import recall_score\n",
        "recall=recall_score(y_test,y_pred)\n",
        "recall"
      ],
      "metadata": {
        "colab": {
          "base_uri": "https://localhost:8080/"
        },
        "id": "o3roT-WhOm9z",
        "outputId": "aa542f8e-48e6-4ccc-c254-de31ef137693"
      },
      "execution_count": 28,
      "outputs": [
        {
          "output_type": "execute_result",
          "data": {
            "text/plain": [
              "0.8507246376811595"
            ]
          },
          "metadata": {},
          "execution_count": 28
        }
      ]
    },
    {
      "cell_type": "code",
      "source": [
        "#f1 score\n",
        "from sklearn.metrics import f1_score\n",
        "f1= f1_score(y_test,y_pred)\n",
        "f1"
      ],
      "metadata": {
        "colab": {
          "base_uri": "https://localhost:8080/"
        },
        "id": "0Y1zNBwsOoyd",
        "outputId": "647964ac-5e8a-4df7-87d6-56119b403d9e"
      },
      "execution_count": 29,
      "outputs": [
        {
          "output_type": "execute_result",
          "data": {
            "text/plain": [
              "0.8630237686841461"
            ]
          },
          "metadata": {},
          "execution_count": 29
        }
      ]
    },
    {
      "cell_type": "code",
      "source": [
        ""
      ],
      "metadata": {
        "id": "lflcrWr1Org9"
      },
      "execution_count": 29,
      "outputs": []
    },
    {
      "cell_type": "code",
      "source": [
        ""
      ],
      "metadata": {
        "id": "lEufxbP3OrXC"
      },
      "execution_count": 29,
      "outputs": []
    },
    {
      "cell_type": "code",
      "source": [
        ""
      ],
      "metadata": {
        "id": "cda0LjtEOrH9"
      },
      "execution_count": 29,
      "outputs": []
    },
    {
      "cell_type": "markdown",
      "source": [
        "NAIVE BAYES"
      ],
      "metadata": {
        "id": "NmfQB4OHOsIT"
      }
    },
    {
      "cell_type": "code",
      "source": [
        "from sklearn import naive_bayes\n",
        "from sklearn.naive_bayes import GaussianNB\n",
        "\n",
        "model=GaussianNB()\n",
        "\n",
        "model.fit(train_data,y_train)\n",
        "y_pred=model.predict(test_data)"
      ],
      "metadata": {
        "id": "yyr73Y_gOwkH"
      },
      "execution_count": 30,
      "outputs": []
    },
    {
      "cell_type": "code",
      "source": [
        "mse=mean_squared_error(y_test,y_pred)\n",
        "from sklearn.metrics import r2_score\n",
        "r=r2_score(y_test,y_pred)\n",
        "\n",
        "print('the model performance')\n",
        "print('----------------------')\n",
        "print('MSE is {}'.format(mse))\n",
        "print('R-squared score is {}'.format(r))"
      ],
      "metadata": {
        "colab": {
          "base_uri": "https://localhost:8080/"
        },
        "id": "70cv-2MzO53F",
        "outputId": "58ab1c12-10dc-42e1-b6ea-81ac38fd2729"
      },
      "execution_count": 31,
      "outputs": [
        {
          "output_type": "stream",
          "name": "stdout",
          "text": [
            "the model performance\n",
            "----------------------\n",
            "MSE is 0.18175853018372704\n",
            "R-squared score is 0.26641643207173393\n"
          ]
        }
      ]
    },
    {
      "cell_type": "code",
      "source": [
        "#evaluate performance\n",
        "#confusion matrix\n",
        "from sklearn.metrics import confusion_matrix\n",
        "import seaborn as sns\n",
        "cf=confusion_matrix(y_test, y_pred)\n",
        "sns.heatmap(cf, annot=True)"
      ],
      "metadata": {
        "colab": {
          "base_uri": "https://localhost:8080/",
          "height": 283
        },
        "id": "QPF0x3aDO8lK",
        "outputId": "900f15d3-4fe0-4c0d-b59a-c3118bb99070"
      },
      "execution_count": 32,
      "outputs": [
        {
          "output_type": "execute_result",
          "data": {
            "text/plain": [
              "<matplotlib.axes._subplots.AxesSubplot at 0x7f5f984af910>"
            ]
          },
          "metadata": {},
          "execution_count": 32
        },
        {
          "output_type": "display_data",
          "data": {
            "text/plain": [
              "<Figure size 432x288 with 2 Axes>"
            ],
            "image/png": "[encoded data removed]"
          },
          "metadata": {
            "needs_background": "light"
          }
        }
      ]
    },
    {
      "cell_type": "code",
      "source": [
        "#accuracy\n",
        "from sklearn.metrics import accuracy_score\n",
        "\n",
        "accuracy= accuracy_score(y_test, y_pred)\n",
        "accuracy"
      ],
      "metadata": {
        "colab": {
          "base_uri": "https://localhost:8080/"
        },
        "id": "n67HTWwzO-3X",
        "outputId": "c76457b7-8bac-4793-f123-5cbef3c9e2c7"
      },
      "execution_count": 33,
      "outputs": [
        {
          "output_type": "execute_result",
          "data": {
            "text/plain": [
              "0.818241469816273"
            ]
          },
          "metadata": {},
          "execution_count": 33
        }
      ]
    },
    {
      "cell_type": "code",
      "source": [
        "#precision score\n",
        "from sklearn.metrics import precision_score\n",
        "precision=precision_score(y_test, y_pred)\n",
        "precision"
      ],
      "metadata": {
        "colab": {
          "base_uri": "https://localhost:8080/"
        },
        "id": "ApEzBWAQPCNm",
        "outputId": "0cafaa7c-93c5-413a-cea6-d27fa777d2e8"
      },
      "execution_count": 34,
      "outputs": [
        {
          "output_type": "execute_result",
          "data": {
            "text/plain": [
              "0.8248557944415312"
            ]
          },
          "metadata": {},
          "execution_count": 34
        }
      ]
    },
    {
      "cell_type": "code",
      "source": [
        "#recall score\n",
        "from sklearn.metrics import recall_score\n",
        "recall=recall_score(y_test,y_pred)\n",
        "recall"
      ],
      "metadata": {
        "colab": {
          "base_uri": "https://localhost:8080/"
        },
        "id": "iLlBwLKOPDjh",
        "outputId": "c4d97823-7cc8-486e-c9e7-8985e0574a01"
      },
      "execution_count": 35,
      "outputs": [
        {
          "output_type": "execute_result",
          "data": {
            "text/plain": [
              "0.759903381642512"
            ]
          },
          "metadata": {},
          "execution_count": 35
        }
      ]
    },
    {
      "cell_type": "code",
      "source": [
        "#f1 score\n",
        "from sklearn.metrics import f1_score\n",
        "f1= f1_score(y_test,y_pred)\n",
        "f1"
      ],
      "metadata": {
        "colab": {
          "base_uri": "https://localhost:8080/"
        },
        "id": "WScGZszyPFlw",
        "outputId": "1d862b27-2519-4f66-8cc4-8dd72f32595e"
      },
      "execution_count": 36,
      "outputs": [
        {
          "output_type": "execute_result",
          "data": {
            "text/plain": [
              "0.7910485290419914"
            ]
          },
          "metadata": {},
          "execution_count": 36
        }
      ]
    },
    {
      "cell_type": "code",
      "source": [
        ""
      ],
      "metadata": {
        "id": "dhAs6nr5PNJ_"
      },
      "execution_count": 36,
      "outputs": []
    },
    {
      "cell_type": "code",
      "source": [
        ""
      ],
      "metadata": {
        "id": "jgy9U7s-PNt8"
      },
      "execution_count": 36,
      "outputs": []
    },
    {
      "cell_type": "code",
      "source": [
        ""
      ],
      "metadata": {
        "id": "fyMwbjUePODs"
      },
      "execution_count": 36,
      "outputs": []
    },
    {
      "cell_type": "markdown",
      "source": [
        "RANDOM FOREST"
      ],
      "metadata": {
        "id": "vFP98tgcPOhb"
      }
    },
    {
      "cell_type": "code",
      "source": [
        "from sklearn.ensemble import RandomForestClassifier\n",
        "\n",
        "model= RandomForestClassifier()\n",
        "model.fit(train_data,y_train)\n",
        "y_pred=model.predict(test_data)\n",
        "\n",
        "model.get_params()"
      ],
      "metadata": {
        "colab": {
          "base_uri": "https://localhost:8080/"
        },
        "id": "M4ZM6H-QPYOA",
        "outputId": "fd510eee-91b3-4d4e-e87d-76712b8d8581"
      },
      "execution_count": 37,
      "outputs": [
        {
          "output_type": "execute_result",
          "data": {
            "text/plain": [
              "{'bootstrap': True,\n",
              " 'ccp_alpha': 0.0,\n",
              " 'class_weight': None,\n",
              " 'criterion': 'gini',\n",
              " 'max_depth': None,\n",
              " 'max_features': 'auto',\n",
              " 'max_leaf_nodes': None,\n",
              " 'max_samples': None,\n",
              " 'min_impurity_decrease': 0.0,\n",
              " 'min_samples_leaf': 1,\n",
              " 'min_samples_split': 2,\n",
              " 'min_weight_fraction_leaf': 0.0,\n",
              " 'n_estimators': 100,\n",
              " 'n_jobs': None,\n",
              " 'oob_score': False,\n",
              " 'random_state': None,\n",
              " 'verbose': 0,\n",
              " 'warm_start': False}"
            ]
          },
          "metadata": {},
          "execution_count": 37
        }
      ]
    },
    {
      "cell_type": "code",
      "source": [
        "mse=mean_squared_error(y_test,y_pred)\n",
        "from sklearn.metrics import r2_score\n",
        "r=r2_score(y_test,y_pred)\n",
        "\n",
        "print('the model performance')\n",
        "print('----------------------')\n",
        "print('MSE is {}'.format(mse))\n",
        "print('R-squared score is {}'.format(r))"
      ],
      "metadata": {
        "colab": {
          "base_uri": "https://localhost:8080/"
        },
        "id": "D9j-YrYFPayB",
        "outputId": "9acb2ce6-c138-4785-9c21-e40926e9d390"
      },
      "execution_count": 38,
      "outputs": [
        {
          "output_type": "stream",
          "name": "stdout",
          "text": [
            "the model performance\n",
            "----------------------\n",
            "MSE is 0.1268591426071741\n",
            "R-squared score is 0.48799221492371325\n"
          ]
        }
      ]
    },
    {
      "cell_type": "code",
      "source": [
        "#evaluate performance\n",
        "#confusion matrix\n",
        "from sklearn.metrics import confusion_matrix\n",
        "import seaborn as sns\n",
        "cf=confusion_matrix(y_test, y_pred)\n",
        "sns.heatmap(cf, annot=True)"
      ],
      "metadata": {
        "colab": {
          "base_uri": "https://localhost:8080/",
          "height": 283
        },
        "id": "MtLTGnNJPdCj",
        "outputId": "2fddcfb2-f3f5-47f6-ae63-573fa02f2227"
      },
      "execution_count": 39,
      "outputs": [
        {
          "output_type": "execute_result",
          "data": {
            "text/plain": [
              "<matplotlib.axes._subplots.AxesSubplot at 0x7f5f91a1a9d0>"
            ]
          },
          "metadata": {},
          "execution_count": 39
        },
        {
          "output_type": "display_data",
          "data": {
            "text/plain": [
              "<Figure size 432x288 with 2 Axes>"
            ],
            "image/png": "[encoded data removed]"
          },
          "metadata": {
            "needs_background": "light"
          }
        }
      ]
    },
    {
      "cell_type": "code",
      "source": [
        "#accuracy\n",
        "from sklearn.metrics import accuracy_score\n",
        "\n",
        "accuracy= accuracy_score(y_test, y_pred)\n",
        "accuracy"
      ],
      "metadata": {
        "colab": {
          "base_uri": "https://localhost:8080/"
        },
        "id": "719C0BfxPftY",
        "outputId": "43e32333-9ed2-48d3-bd19-e96f059b8200"
      },
      "execution_count": 40,
      "outputs": [
        {
          "output_type": "execute_result",
          "data": {
            "text/plain": [
              "0.8731408573928259"
            ]
          },
          "metadata": {},
          "execution_count": 40
        }
      ]
    },
    {
      "cell_type": "code",
      "source": [
        "#precision score\n",
        "from sklearn.metrics import precision_score\n",
        "precision=precision_score(y_test, y_pred)\n",
        "precision"
      ],
      "metadata": {
        "colab": {
          "base_uri": "https://localhost:8080/"
        },
        "id": "UtdU6bTWPiKU",
        "outputId": "ffb7a3f5-eb19-46a4-d2ff-58d324aee2b6"
      },
      "execution_count": 41,
      "outputs": [
        {
          "output_type": "execute_result",
          "data": {
            "text/plain": [
              "0.8962765957446809"
            ]
          },
          "metadata": {},
          "execution_count": 41
        }
      ]
    },
    {
      "cell_type": "code",
      "source": [
        "#recall score\n",
        "from sklearn.metrics import recall_score\n",
        "recall=recall_score(y_test,y_pred)\n",
        "recall"
      ],
      "metadata": {
        "colab": {
          "base_uri": "https://localhost:8080/"
        },
        "id": "3m__aVXpPkUU",
        "outputId": "f5e31c70-e321-4950-a7d6-791135b2dd55"
      },
      "execution_count": 42,
      "outputs": [
        {
          "output_type": "execute_result",
          "data": {
            "text/plain": [
              "0.8140096618357487"
            ]
          },
          "metadata": {},
          "execution_count": 42
        }
      ]
    },
    {
      "cell_type": "code",
      "source": [
        "#f1 score\n",
        "from sklearn.metrics import f1_score\n",
        "f1= f1_score(y_test,y_pred)\n",
        "f1"
      ],
      "metadata": {
        "colab": {
          "base_uri": "https://localhost:8080/"
        },
        "id": "C-94vMJ9PmZH",
        "outputId": "4b731805-10d7-4650-d476-4b9b1836d6a4"
      },
      "execution_count": 43,
      "outputs": [
        {
          "output_type": "execute_result",
          "data": {
            "text/plain": [
              "0.8531645569620253"
            ]
          },
          "metadata": {},
          "execution_count": 43
        }
      ]
    },
    {
      "cell_type": "code",
      "source": [
        ""
      ],
      "metadata": {
        "id": "OsrLEnchP56f"
      },
      "execution_count": 43,
      "outputs": []
    },
    {
      "cell_type": "code",
      "source": [
        ""
      ],
      "metadata": {
        "id": "ELTzHub1P6Ze"
      },
      "execution_count": 43,
      "outputs": []
    },
    {
      "cell_type": "code",
      "source": [
        ""
      ],
      "metadata": {
        "id": "tQYlmq18P6wq"
      },
      "execution_count": 43,
      "outputs": []
    },
    {
      "cell_type": "markdown",
      "source": [
        "BERT"
      ],
      "metadata": {
        "id": "Cbr2Ab5yP7NW"
      }
    },
    {
      "cell_type": "markdown",
      "source": [
        "The following code is used as reference for this model implementation.\n",
        "\n",
        "citation:\n",
        "\n",
        "[20]\tSaumyab271, “Text classification using Bert and tensorflow,” Analytics Vidhya, 31-Dec-2021. Available: https://www.analyticsvidhya.com/blog/2021/12/text-classification-using-bert-and-tensorflow/. "
      ],
      "metadata": {
        "id": "GH3MsIpy3tjo"
      }
    },
    {
      "cell_type": "code",
      "source": [
        "import tensorflow as tf\n",
        "import tensorflow_hub as hub\n",
        "!pip install tensorflow_text\n",
        "import tensorflow_text as text"
      ],
      "metadata": {
        "colab": {
          "base_uri": "https://localhost:8080/",
          "height": 1000
        },
        "id": "zMRaN9IuP8Oi",
        "outputId": "777f5264-0ba6-4d17-e20e-884a2c4a5357"
      },
      "execution_count": 32,
      "outputs": [
        {
          "output_type": "stream",
          "name": "stdout",
          "text": [
            "Collecting tensorflow_text\n",
            "  Downloading tensorflow_text-2.8.2-cp37-cp37m-manylinux_2_12_x86_64.manylinux2010_x86_64.whl (4.9 MB)\n",
            "\u001b[K     |████████████████████████████████| 4.9 MB 4.9 MB/s \n",
            "\u001b[?25hRequirement already satisfied: tensorflow-hub>=0.8.0 in /usr/local/lib/python3.7/dist-packages (from tensorflow_text) (0.12.0)\n",
            "Requirement already satisfied: tensorflow<2.9,>=2.8.0 in /usr/local/lib/python3.7/dist-packages (from tensorflow_text) (2.8.0)\n",
            "Requirement already satisfied: keras<2.9,>=2.8.0rc0 in /usr/local/lib/python3.7/dist-packages (from tensorflow<2.9,>=2.8.0->tensorflow_text) (2.8.0)\n",
            "Requirement already satisfied: six>=1.12.0 in /usr/local/lib/python3.7/dist-packages (from tensorflow<2.9,>=2.8.0->tensorflow_text) (1.15.0)\n",
            "Requirement already satisfied: libclang>=9.0.1 in /usr/local/lib/python3.7/dist-packages (from tensorflow<2.9,>=2.8.0->tensorflow_text) (14.0.1)\n",
            "Requirement already satisfied: flatbuffers>=1.12 in /usr/local/lib/python3.7/dist-packages (from tensorflow<2.9,>=2.8.0->tensorflow_text) (2.0)\n",
            "Requirement already satisfied: google-pasta>=0.1.1 in /usr/local/lib/python3.7/dist-packages (from tensorflow<2.9,>=2.8.0->tensorflow_text) (0.2.0)\n",
            "Requirement already satisfied: tensorflow-io-gcs-filesystem>=0.23.1 in /usr/local/lib/python3.7/dist-packages (from tensorflow<2.9,>=2.8.0->tensorflow_text) (0.25.0)\n",
            "Requirement already satisfied: h5py>=2.9.0 in /usr/local/lib/python3.7/dist-packages (from tensorflow<2.9,>=2.8.0->tensorflow_text) (3.1.0)\n",
            "Requirement already satisfied: wrapt>=1.11.0 in /usr/local/lib/python3.7/dist-packages (from tensorflow<2.9,>=2.8.0->tensorflow_text) (1.14.0)\n",
            "Requirement already satisfied: absl-py>=0.4.0 in /usr/local/lib/python3.7/dist-packages (from tensorflow<2.9,>=2.8.0->tensorflow_text) (1.0.0)\n",
            "Requirement already satisfied: grpcio<2.0,>=1.24.3 in /usr/local/lib/python3.7/dist-packages (from tensorflow<2.9,>=2.8.0->tensorflow_text) (1.44.0)\n",
            "Requirement already satisfied: protobuf>=3.9.2 in /usr/local/lib/python3.7/dist-packages (from tensorflow<2.9,>=2.8.0->tensorflow_text) (3.17.3)\n",
            "Requirement already satisfied: gast>=0.2.1 in /usr/local/lib/python3.7/dist-packages (from tensorflow<2.9,>=2.8.0->tensorflow_text) (0.5.3)\n",
            "Requirement already satisfied: setuptools in /usr/local/lib/python3.7/dist-packages (from tensorflow<2.9,>=2.8.0->tensorflow_text) (57.4.0)\n",
            "Collecting tf-estimator-nightly==2.8.0.dev2021122109\n",
            "  Downloading tf_estimator_nightly-2.8.0.dev2021122109-py2.py3-none-any.whl (462 kB)\n",
            "\u001b[K     |████████████████████████████████| 462 kB 85.5 MB/s \n",
            "\u001b[?25hRequirement already satisfied: tensorboard<2.9,>=2.8 in /usr/local/lib/python3.7/dist-packages (from tensorflow<2.9,>=2.8.0->tensorflow_text) (2.8.0)\n",
            "Requirement already satisfied: numpy>=1.20 in /usr/local/lib/python3.7/dist-packages (from tensorflow<2.9,>=2.8.0->tensorflow_text) (1.21.6)\n",
            "Requirement already satisfied: opt-einsum>=2.3.2 in /usr/local/lib/python3.7/dist-packages (from tensorflow<2.9,>=2.8.0->tensorflow_text) (3.3.0)\n",
            "Requirement already satisfied: typing-extensions>=3.6.6 in /usr/local/lib/python3.7/dist-packages (from tensorflow<2.9,>=2.8.0->tensorflow_text) (4.2.0)\n",
            "Requirement already satisfied: termcolor>=1.1.0 in /usr/local/lib/python3.7/dist-packages (from tensorflow<2.9,>=2.8.0->tensorflow_text) (1.1.0)\n",
            "Requirement already satisfied: keras-preprocessing>=1.1.1 in /usr/local/lib/python3.7/dist-packages (from tensorflow<2.9,>=2.8.0->tensorflow_text) (1.1.2)\n",
            "Requirement already satisfied: astunparse>=1.6.0 in /usr/local/lib/python3.7/dist-packages (from tensorflow<2.9,>=2.8.0->tensorflow_text) (1.6.3)\n",
            "Requirement already satisfied: wheel<1.0,>=0.23.0 in /usr/local/lib/python3.7/dist-packages (from astunparse>=1.6.0->tensorflow<2.9,>=2.8.0->tensorflow_text) (0.37.1)\n",
            "Requirement already satisfied: cached-property in /usr/local/lib/python3.7/dist-packages (from h5py>=2.9.0->tensorflow<2.9,>=2.8.0->tensorflow_text) (1.5.2)\n",
            "Requirement already satisfied: google-auth<3,>=1.6.3 in /usr/local/lib/python3.7/dist-packages (from tensorboard<2.9,>=2.8->tensorflow<2.9,>=2.8.0->tensorflow_text) (1.35.0)\n",
            "Requirement already satisfied: markdown>=2.6.8 in /usr/local/lib/python3.7/dist-packages (from tensorboard<2.9,>=2.8->tensorflow<2.9,>=2.8.0->tensorflow_text) (3.3.6)\n",
            "Requirement already satisfied: tensorboard-data-server<0.7.0,>=0.6.0 in /usr/local/lib/python3.7/dist-packages (from tensorboard<2.9,>=2.8->tensorflow<2.9,>=2.8.0->tensorflow_text) (0.6.1)\n",
            "Requirement already satisfied: tensorboard-plugin-wit>=1.6.0 in /usr/local/lib/python3.7/dist-packages (from tensorboard<2.9,>=2.8->tensorflow<2.9,>=2.8.0->tensorflow_text) (1.8.1)\n",
            "Requirement already satisfied: requests<3,>=2.21.0 in /usr/local/lib/python3.7/dist-packages (from tensorboard<2.9,>=2.8->tensorflow<2.9,>=2.8.0->tensorflow_text) (2.23.0)\n",
            "Requirement already satisfied: werkzeug>=0.11.15 in /usr/local/lib/python3.7/dist-packages (from tensorboard<2.9,>=2.8->tensorflow<2.9,>=2.8.0->tensorflow_text) (1.0.1)\n",
            "Requirement already satisfied: google-auth-oauthlib<0.5,>=0.4.1 in /usr/local/lib/python3.7/dist-packages (from tensorboard<2.9,>=2.8->tensorflow<2.9,>=2.8.0->tensorflow_text) (0.4.6)\n",
            "Requirement already satisfied: cachetools<5.0,>=2.0.0 in /usr/local/lib/python3.7/dist-packages (from google-auth<3,>=1.6.3->tensorboard<2.9,>=2.8->tensorflow<2.9,>=2.8.0->tensorflow_text) (4.2.4)\n",
            "Requirement already satisfied: pyasn1-modules>=0.2.1 in /usr/local/lib/python3.7/dist-packages (from google-auth<3,>=1.6.3->tensorboard<2.9,>=2.8->tensorflow<2.9,>=2.8.0->tensorflow_text) (0.2.8)\n",
            "Requirement already satisfied: rsa<5,>=3.1.4 in /usr/local/lib/python3.7/dist-packages (from google-auth<3,>=1.6.3->tensorboard<2.9,>=2.8->tensorflow<2.9,>=2.8.0->tensorflow_text) (4.8)\n",
            "Requirement already satisfied: requests-oauthlib>=0.7.0 in /usr/local/lib/python3.7/dist-packages (from google-auth-oauthlib<0.5,>=0.4.1->tensorboard<2.9,>=2.8->tensorflow<2.9,>=2.8.0->tensorflow_text) (1.3.1)\n",
            "Requirement already satisfied: importlib-metadata>=4.4 in /usr/local/lib/python3.7/dist-packages (from markdown>=2.6.8->tensorboard<2.9,>=2.8->tensorflow<2.9,>=2.8.0->tensorflow_text) (4.11.3)\n",
            "Requirement already satisfied: zipp>=0.5 in /usr/local/lib/python3.7/dist-packages (from importlib-metadata>=4.4->markdown>=2.6.8->tensorboard<2.9,>=2.8->tensorflow<2.9,>=2.8.0->tensorflow_text) (3.8.0)\n",
            "Requirement already satisfied: pyasn1<0.5.0,>=0.4.6 in /usr/local/lib/python3.7/dist-packages (from pyasn1-modules>=0.2.1->google-auth<3,>=1.6.3->tensorboard<2.9,>=2.8->tensorflow<2.9,>=2.8.0->tensorflow_text) (0.4.8)\n",
            "Requirement already satisfied: chardet<4,>=3.0.2 in /usr/local/lib/python3.7/dist-packages (from requests<3,>=2.21.0->tensorboard<2.9,>=2.8->tensorflow<2.9,>=2.8.0->tensorflow_text) (3.0.4)\n",
            "Requirement already satisfied: urllib3!=1.25.0,!=1.25.1,<1.26,>=1.21.1 in /usr/local/lib/python3.7/dist-packages (from requests<3,>=2.21.0->tensorboard<2.9,>=2.8->tensorflow<2.9,>=2.8.0->tensorflow_text) (1.24.3)\n",
            "Requirement already satisfied: certifi>=2017.4.17 in /usr/local/lib/python3.7/dist-packages (from requests<3,>=2.21.0->tensorboard<2.9,>=2.8->tensorflow<2.9,>=2.8.0->tensorflow_text) (2021.10.8)\n",
            "Requirement already satisfied: idna<3,>=2.5 in /usr/local/lib/python3.7/dist-packages (from requests<3,>=2.21.0->tensorboard<2.9,>=2.8->tensorflow<2.9,>=2.8.0->tensorflow_text) (2.10)\n",
            "Requirement already satisfied: oauthlib>=3.0.0 in /usr/local/lib/python3.7/dist-packages (from requests-oauthlib>=0.7.0->google-auth-oauthlib<0.5,>=0.4.1->tensorboard<2.9,>=2.8->tensorflow<2.9,>=2.8.0->tensorflow_text) (3.2.0)\n",
            "Installing collected packages: tf-estimator-nightly, tensorflow-text\n",
            "Successfully installed tensorflow-text-2.8.2 tf-estimator-nightly-2.8.0.dev2021122109\n"
          ]
        },
        {
          "output_type": "display_data",
          "data": {
            "application/vnd.colab-display-data+json": {
              "pip_warning": {
                "packages": [
                  "tensorflow_estimator"
                ]
              }
            }
          },
          "metadata": {}
        }
      ]
    },
    {
      "cell_type": "code",
      "source": [
        "bert_preprocess = hub.KerasLayer('https://tfhub.dev/tensorflow/bert_en_uncased_preprocess/3')\n",
        "bert_encoder = hub.KerasLayer('https://tfhub.dev/tensorflow/bert_en_uncased_L-12_H-768_A-12/4')"
      ],
      "metadata": {
        "id": "4eYRND2DUT4b"
      },
      "execution_count": 33,
      "outputs": []
    },
    {
      "cell_type": "code",
      "source": [
        "# Bert layers\n",
        "text_input = tf.keras.layers.Input(shape=(), dtype=tf.string, name='text')\n",
        "preprocessed_text = bert_preprocess(text_input)\n",
        "outputs = bert_encoder(preprocessed_text)\n",
        "# Neural network layers\n",
        "l = tf.keras.layers.Dropout(0.1, name=\"dropout\")(outputs['pooled_output'])\n",
        "l = tf.keras.layers.Dense(1, activation='sigmoid', name=\"output\")(l)\n",
        "# Use inputs and outputs to construct a final model\n",
        "model = tf.keras.Model(inputs=[text_input], outputs = [l])\n",
        "\n",
        "model.summary()"
      ],
      "metadata": {
        "colab": {
          "base_uri": "https://localhost:8080/"
        },
        "id": "F-10qT9GUXRm",
        "outputId": "2496947e-23b8-4333-c916-b294495406c3"
      },
      "execution_count": 34,
      "outputs": [
        {
          "output_type": "stream",
          "name": "stdout",
          "text": [
            "Model: \"model\"\n",
            "__________________________________________________________________________________________________\n",
            " Layer (type)                   Output Shape         Param #     Connected to                     \n",
            "==================================================================================================\n",
            " text (InputLayer)              [(None,)]            0           []                               \n",
            "                                                                                                  \n",
            " keras_layer (KerasLayer)       {'input_mask': (Non  0           ['text[0][0]']                   \n",
            "                                e, 128),                                                          \n",
            "                                 'input_type_ids':                                                \n",
            "                                (None, 128),                                                      \n",
            "                                 'input_word_ids':                                                \n",
            "                                (None, 128)}                                                      \n",
            "                                                                                                  \n",
            " keras_layer_1 (KerasLayer)     {'default': (None,   109482241   ['keras_layer[0][0]',            \n",
            "                                768),                             'keras_layer[0][1]',            \n",
            "                                 'sequence_output':               'keras_layer[0][2]']            \n",
            "                                 (None, 128, 768),                                                \n",
            "                                 'encoder_outputs':                                               \n",
            "                                 [(None, 128, 768),                                               \n",
            "                                 (None, 128, 768),                                                \n",
            "                                 (None, 128, 768),                                                \n",
            "                                 (None, 128, 768),                                                \n",
            "                                 (None, 128, 768),                                                \n",
            "                                 (None, 128, 768),                                                \n",
            "                                 (None, 128, 768),                                                \n",
            "                                 (None, 128, 768),                                                \n",
            "                                 (None, 128, 768),                                                \n",
            "                                 (None, 128, 768),                                                \n",
            "                                 (None, 128, 768),                                                \n",
            "                                 (None, 128, 768)],                                               \n",
            "                                 'pooled_output': (                                               \n",
            "                                None, 768)}                                                       \n",
            "                                                                                                  \n",
            " dropout (Dropout)              (None, 768)          0           ['keras_layer_1[0][13]']         \n",
            "                                                                                                  \n",
            " output (Dense)                 (None, 1)            769         ['dropout[0][0]']                \n",
            "                                                                                                  \n",
            "==================================================================================================\n",
            "Total params: 109,483,010\n",
            "Trainable params: 769\n",
            "Non-trainable params: 109,482,241\n",
            "__________________________________________________________________________________________________\n"
          ]
        }
      ]
    },
    {
      "cell_type": "code",
      "source": [
        "from keras import backend as K\n",
        "\n",
        "def recall_m(y_true, y_pred):\n",
        "    true_positives = K.sum(K.round(K.clip(y_true * y_pred, 0, 1)))\n",
        "    possible_positives = K.sum(K.round(K.clip(y_true, 0, 1)))\n",
        "    recall = true_positives / (possible_positives + K.epsilon())\n",
        "    return recall\n",
        "\n",
        "def precision_m(y_true, y_pred):\n",
        "    true_positives = K.sum(K.round(K.clip(y_true * y_pred, 0, 1)))\n",
        "    predicted_positives = K.sum(K.round(K.clip(y_pred, 0, 1)))\n",
        "    precision = true_positives / (predicted_positives + K.epsilon())\n",
        "    return precision\n",
        "\n",
        "def f1_m(y_true, y_pred):\n",
        "    precision = precision_m(y_true, y_pred)\n",
        "    recall = recall_m(y_true, y_pred)\n",
        "    return 2*((precision*recall)/(precision+recall+K.epsilon()))"
      ],
      "metadata": {
        "id": "RR6gtzQwUd2h"
      },
      "execution_count": 47,
      "outputs": []
    },
    {
      "cell_type": "code",
      "source": [
        "model.compile(optimizer='adam', loss='binary_crossentropy', metrics=['accuracy',f1_m,precision_m, recall_m ])\n",
        "history=model.fit(X_train, y_train, epochs=30, batch_size = 32, validation_data=(X_train,y_train))"
      ],
      "metadata": {
        "colab": {
          "base_uri": "https://localhost:8080/"
        },
        "id": "PgHaD_3mUhGl",
        "outputId": "53983875-952a-4866-8ec5-0f8b0cd42e1b"
      },
      "execution_count": 48,
      "outputs": [
        {
          "output_type": "stream",
          "name": "stdout",
          "text": [
            "Epoch 1/30\n",
            "572/572 [==============================] - 294s 488ms/step - loss: 0.6390 - accuracy: 0.6282 - f1_m: 0.4988 - precision_m: 0.6365 - recall_m: 0.4484 - val_loss: 0.6027 - val_accuracy: 0.6691 - val_f1_m: 0.5547 - val_precision_m: 0.6906 - val_recall_m: 0.4772\n",
            "Epoch 2/30\n",
            "572/572 [==============================] - 276s 483ms/step - loss: 0.6020 - accuracy: 0.6711 - f1_m: 0.5696 - precision_m: 0.6847 - recall_m: 0.5154 - val_loss: 0.5981 - val_accuracy: 0.6672 - val_f1_m: 0.4683 - val_precision_m: 0.8004 - val_recall_m: 0.3430\n",
            "Epoch 3/30\n",
            "572/572 [==============================] - 275s 482ms/step - loss: 0.5874 - accuracy: 0.6894 - f1_m: 0.5987 - precision_m: 0.7075 - recall_m: 0.5482 - val_loss: 0.5690 - val_accuracy: 0.7093 - val_f1_m: 0.6473 - val_precision_m: 0.6997 - val_recall_m: 0.6157\n",
            "Epoch 4/30\n",
            "572/572 [==============================] - 274s 480ms/step - loss: 0.5770 - accuracy: 0.6978 - f1_m: 0.6158 - precision_m: 0.7096 - recall_m: 0.5730 - val_loss: 0.5606 - val_accuracy: 0.7122 - val_f1_m: 0.6134 - val_precision_m: 0.7540 - val_recall_m: 0.5310\n",
            "Epoch 5/30\n",
            "572/572 [==============================] - 276s 483ms/step - loss: 0.5681 - accuracy: 0.7048 - f1_m: 0.6287 - precision_m: 0.7201 - recall_m: 0.5851 - val_loss: 0.5536 - val_accuracy: 0.7259 - val_f1_m: 0.6694 - val_precision_m: 0.7188 - val_recall_m: 0.6398\n",
            "Epoch 6/30\n",
            "572/572 [==============================] - 276s 482ms/step - loss: 0.5642 - accuracy: 0.7061 - f1_m: 0.6307 - precision_m: 0.7149 - recall_m: 0.5897 - val_loss: 0.5481 - val_accuracy: 0.7205 - val_f1_m: 0.6485 - val_precision_m: 0.7298 - val_recall_m: 0.5968\n",
            "Epoch 7/30\n",
            "572/572 [==============================] - 272s 476ms/step - loss: 0.5596 - accuracy: 0.7105 - f1_m: 0.6404 - precision_m: 0.7175 - recall_m: 0.6011 - val_loss: 0.5464 - val_accuracy: 0.7177 - val_f1_m: 0.6158 - val_precision_m: 0.7682 - val_recall_m: 0.5274\n",
            "Epoch 8/30\n",
            "572/572 [==============================] - 276s 483ms/step - loss: 0.5565 - accuracy: 0.7140 - f1_m: 0.6443 - precision_m: 0.7234 - recall_m: 0.6062 - val_loss: 0.5392 - val_accuracy: 0.7303 - val_f1_m: 0.6568 - val_precision_m: 0.7519 - val_recall_m: 0.5964\n",
            "Epoch 9/30\n",
            "572/572 [==============================] - 276s 483ms/step - loss: 0.5548 - accuracy: 0.7156 - f1_m: 0.6446 - precision_m: 0.7215 - recall_m: 0.6053 - val_loss: 0.5361 - val_accuracy: 0.7369 - val_f1_m: 0.6833 - val_precision_m: 0.7300 - val_recall_m: 0.6556\n",
            "Epoch 10/30\n",
            "572/572 [==============================] - 276s 483ms/step - loss: 0.5516 - accuracy: 0.7216 - f1_m: 0.6563 - precision_m: 0.7277 - recall_m: 0.6174 - val_loss: 0.5343 - val_accuracy: 0.7391 - val_f1_m: 0.6901 - val_precision_m: 0.7262 - val_recall_m: 0.6705\n",
            "Epoch 11/30\n",
            "572/572 [==============================] - 277s 485ms/step - loss: 0.5490 - accuracy: 0.7202 - f1_m: 0.6525 - precision_m: 0.7276 - recall_m: 0.6164 - val_loss: 0.5309 - val_accuracy: 0.7400 - val_f1_m: 0.6814 - val_precision_m: 0.7419 - val_recall_m: 0.6431\n",
            "Epoch 12/30\n",
            "572/572 [==============================] - 276s 483ms/step - loss: 0.5485 - accuracy: 0.7210 - f1_m: 0.6543 - precision_m: 0.7257 - recall_m: 0.6186 - val_loss: 0.5302 - val_accuracy: 0.7339 - val_f1_m: 0.6513 - val_precision_m: 0.7697 - val_recall_m: 0.5774\n",
            "Epoch 13/30\n",
            "572/572 [==============================] - 273s 478ms/step - loss: 0.5482 - accuracy: 0.7241 - f1_m: 0.6603 - precision_m: 0.7291 - recall_m: 0.6272 - val_loss: 0.5310 - val_accuracy: 0.7330 - val_f1_m: 0.6394 - val_precision_m: 0.7891 - val_recall_m: 0.5508\n",
            "Epoch 14/30\n",
            "572/572 [==============================] - 273s 479ms/step - loss: 0.5480 - accuracy: 0.7217 - f1_m: 0.6537 - precision_m: 0.7241 - recall_m: 0.6212 - val_loss: 0.5262 - val_accuracy: 0.7452 - val_f1_m: 0.6948 - val_precision_m: 0.7379 - val_recall_m: 0.6705\n",
            "Epoch 15/30\n",
            "572/572 [==============================] - 272s 476ms/step - loss: 0.5447 - accuracy: 0.7223 - f1_m: 0.6606 - precision_m: 0.7287 - recall_m: 0.6288 - val_loss: 0.5463 - val_accuracy: 0.7173 - val_f1_m: 0.5813 - val_precision_m: 0.8333 - val_recall_m: 0.4588\n",
            "Epoch 16/30\n",
            "572/572 [==============================] - 274s 479ms/step - loss: 0.5434 - accuracy: 0.7215 - f1_m: 0.6561 - precision_m: 0.7254 - recall_m: 0.6221 - val_loss: 0.5423 - val_accuracy: 0.7275 - val_f1_m: 0.7161 - val_precision_m: 0.6650 - val_recall_m: 0.7901\n",
            "Epoch 17/30\n",
            "572/572 [==============================] - 277s 485ms/step - loss: 0.5421 - accuracy: 0.7262 - f1_m: 0.6650 - precision_m: 0.7290 - recall_m: 0.6323 - val_loss: 0.5245 - val_accuracy: 0.7373 - val_f1_m: 0.6606 - val_precision_m: 0.7665 - val_recall_m: 0.5943\n",
            "Epoch 18/30\n",
            "572/572 [==============================] - 278s 487ms/step - loss: 0.5422 - accuracy: 0.7237 - f1_m: 0.6619 - precision_m: 0.7279 - recall_m: 0.6296 - val_loss: 0.5224 - val_accuracy: 0.7437 - val_f1_m: 0.6670 - val_precision_m: 0.7795 - val_recall_m: 0.5956\n",
            "Epoch 19/30\n",
            "572/572 [==============================] - 276s 483ms/step - loss: 0.5379 - accuracy: 0.7256 - f1_m: 0.6627 - precision_m: 0.7264 - recall_m: 0.6302 - val_loss: 0.5208 - val_accuracy: 0.7463 - val_f1_m: 0.7018 - val_precision_m: 0.7301 - val_recall_m: 0.6887\n",
            "Epoch 20/30\n",
            "572/572 [==============================] - 276s 483ms/step - loss: 0.5434 - accuracy: 0.7225 - f1_m: 0.6618 - precision_m: 0.7243 - recall_m: 0.6306 - val_loss: 0.5473 - val_accuracy: 0.7221 - val_f1_m: 0.7161 - val_precision_m: 0.6540 - val_recall_m: 0.8055\n",
            "Epoch 21/30\n",
            "572/572 [==============================] - 278s 486ms/step - loss: 0.5411 - accuracy: 0.7291 - f1_m: 0.6675 - precision_m: 0.7310 - recall_m: 0.6388 - val_loss: 0.5175 - val_accuracy: 0.7487 - val_f1_m: 0.6889 - val_precision_m: 0.7590 - val_recall_m: 0.6430\n",
            "Epoch 22/30\n",
            "572/572 [==============================] - 277s 484ms/step - loss: 0.5403 - accuracy: 0.7286 - f1_m: 0.6684 - precision_m: 0.7311 - recall_m: 0.6387 - val_loss: 0.5294 - val_accuracy: 0.7376 - val_f1_m: 0.7171 - val_precision_m: 0.6861 - val_recall_m: 0.7647\n",
            "Epoch 23/30\n",
            "572/572 [==============================] - 278s 487ms/step - loss: 0.5424 - accuracy: 0.7237 - f1_m: 0.6619 - precision_m: 0.7213 - recall_m: 0.6326 - val_loss: 0.5180 - val_accuracy: 0.7471 - val_f1_m: 0.7025 - val_precision_m: 0.7311 - val_recall_m: 0.6893\n",
            "Epoch 24/30\n",
            "572/572 [==============================] - 274s 480ms/step - loss: 0.5381 - accuracy: 0.7293 - f1_m: 0.6669 - precision_m: 0.7329 - recall_m: 0.6366 - val_loss: 0.5179 - val_accuracy: 0.7440 - val_f1_m: 0.6651 - val_precision_m: 0.7833 - val_recall_m: 0.5910\n",
            "Epoch 25/30\n",
            "572/572 [==============================] - 278s 486ms/step - loss: 0.5426 - accuracy: 0.7252 - f1_m: 0.6640 - precision_m: 0.7242 - recall_m: 0.6346 - val_loss: 0.5293 - val_accuracy: 0.7318 - val_f1_m: 0.6196 - val_precision_m: 0.8198 - val_recall_m: 0.5109\n",
            "Epoch 26/30\n",
            "572/572 [==============================] - 276s 483ms/step - loss: 0.5376 - accuracy: 0.7293 - f1_m: 0.6674 - precision_m: 0.7333 - recall_m: 0.6344 - val_loss: 0.5145 - val_accuracy: 0.7509 - val_f1_m: 0.6996 - val_precision_m: 0.7469 - val_recall_m: 0.6713\n",
            "Epoch 27/30\n",
            "572/572 [==============================] - 277s 484ms/step - loss: 0.5396 - accuracy: 0.7264 - f1_m: 0.6675 - precision_m: 0.7270 - recall_m: 0.6390 - val_loss: 0.5161 - val_accuracy: 0.7475 - val_f1_m: 0.7026 - val_precision_m: 0.7320 - val_recall_m: 0.6882\n",
            "Epoch 28/30\n",
            "572/572 [==============================] - 275s 480ms/step - loss: 0.5342 - accuracy: 0.7302 - f1_m: 0.6700 - precision_m: 0.7309 - recall_m: 0.6393 - val_loss: 0.5158 - val_accuracy: 0.7449 - val_f1_m: 0.6687 - val_precision_m: 0.7796 - val_recall_m: 0.5983\n",
            "Epoch 29/30\n",
            "572/572 [==============================] - 277s 484ms/step - loss: 0.5403 - accuracy: 0.7329 - f1_m: 0.6730 - precision_m: 0.7371 - recall_m: 0.6416 - val_loss: 0.5196 - val_accuracy: 0.7376 - val_f1_m: 0.6498 - val_precision_m: 0.7867 - val_recall_m: 0.5669\n",
            "Epoch 30/30\n",
            "572/572 [==============================] - 278s 487ms/step - loss: 0.5379 - accuracy: 0.7281 - f1_m: 0.6687 - precision_m: 0.7277 - recall_m: 0.6406 - val_loss: 0.5148 - val_accuracy: 0.7485 - val_f1_m: 0.6707 - val_precision_m: 0.7912 - val_recall_m: 0.5947\n"
          ]
        }
      ]
    },
    {
      "cell_type": "code",
      "source": [
        "y_predicted = model.predict(X_test)\n",
        "y_predicted = y_predicted.flatten()\n",
        "print(y_predicted)"
      ],
      "metadata": {
        "colab": {
          "base_uri": "https://localhost:8080/"
        },
        "id": "S17xIdCbUkWG",
        "outputId": "42b40bc1-7219-49cf-c6ed-1d927ba25502"
      },
      "execution_count": 49,
      "outputs": [
        {
          "output_type": "stream",
          "name": "stdout",
          "text": [
            "[0.36134133 0.6107778  0.5720645  ... 0.18393254 0.11267969 0.28542793]\n"
          ]
        }
      ]
    },
    {
      "cell_type": "code",
      "source": [
        "# evaluate the model\n",
        "loss, accuracy, f1_score, precision, recall = model.evaluate(X_test, y_test)"
      ],
      "metadata": {
        "colab": {
          "base_uri": "https://localhost:8080/"
        },
        "id": "UOhMXlhVUmqz",
        "outputId": "623b1626-6a44-4c85-8081-5f50d7f3a28b"
      },
      "execution_count": 50,
      "outputs": [
        {
          "output_type": "stream",
          "name": "stdout",
          "text": [
            "143/143 [==============================] - 35s 244ms/step - loss: 0.5302 - accuracy: 0.7362 - f1_m: 0.6602 - precision_m: 0.7853 - recall_m: 0.5863\n"
          ]
        }
      ]
    },
    {
      "cell_type": "code",
      "source": [
        "print('Summary of the results after each epoch: ')\n",
        "hist = pd.DataFrame(history.history)\n",
        "hist['epoch'] = history.epoch\n",
        "hist.tail()"
      ],
      "metadata": {
        "colab": {
          "base_uri": "https://localhost:8080/",
          "height": 288
        },
        "id": "9NCALFh4UqM1",
        "outputId": "2ea4d444-70c0-4f4f-eb97-3453c41ca78f"
      },
      "execution_count": 51,
      "outputs": [
        {
          "output_type": "stream",
          "name": "stdout",
          "text": [
            "Summary of the results after each epoch: \n"
          ]
        },
        {
          "output_type": "execute_result",
          "data": {
            "text/plain": [
              "        loss  accuracy      f1_m  precision_m  recall_m  val_loss  \\\n",
              "25  0.537560  0.729276  0.667427     0.733282  0.634350  0.514536   \n",
              "26  0.539621  0.726433  0.667535     0.726972  0.638963  0.516115   \n",
              "27  0.534242  0.730206  0.669960     0.730864  0.639280  0.515807   \n",
              "28  0.540250  0.732885  0.672994     0.737064  0.641617  0.519577   \n",
              "29  0.537910  0.728073  0.668743     0.727693  0.640554  0.514809   \n",
              "\n",
              "    val_accuracy  val_f1_m  val_precision_m  val_recall_m  epoch  \n",
              "25      0.750875  0.699625         0.746854      0.671271     25  \n",
              "26      0.747485  0.702564         0.732041      0.688180     26  \n",
              "27      0.744915  0.668689         0.779559      0.598286     27  \n",
              "28      0.737588  0.649830         0.786739      0.566890     28  \n",
              "29      0.748524  0.670725         0.791154      0.594715     29  "
            ],
            "text/html": [
              "\n",
              "  <div id=\"df-e114e8f7-44d6-4e5a-8503-fe06e5fc0ec6\">\n",
              "    <div class=\"colab-df-container\">\n",
              "      <div>\n",
              "<style scoped>\n",
              "    .dataframe tbody tr th:only-of-type {\n",
              "        vertical-align: middle;\n",
              "    }\n",
              "\n",
              "    .dataframe tbody tr th {\n",
              "        vertical-align: top;\n",
              "    }\n",
              "\n",
              "    .dataframe thead th {\n",
              "        text-align: right;\n",
              "    }\n",
              "</style>\n",
              "<table border=\"1\" class=\"dataframe\">\n",
              "  <thead>\n",
              "    <tr style=\"text-align: right;\">\n",
              "      <th></th>\n",
              "      <th>loss</th>\n",
              "      <th>accuracy</th>\n",
              "      <th>f1_m</th>\n",
              "      <th>precision_m</th>\n",
              "      <th>recall_m</th>\n",
              "      <th>val_loss</th>\n",
              "      <th>val_accuracy</th>\n",
              "      <th>val_f1_m</th>\n",
              "      <th>val_precision_m</th>\n",
              "      <th>val_recall_m</th>\n",
              "      <th>epoch</th>\n",
              "    </tr>\n",
              "  </thead>\n",
              "  <tbody>\n",
              "    <tr>\n",
              "      <th>25</th>\n",
              "      <td>0.537560</td>\n",
              "      <td>0.729276</td>\n",
              "      <td>0.667427</td>\n",
              "      <td>0.733282</td>\n",
              "      <td>0.634350</td>\n",
              "      <td>0.514536</td>\n",
              "      <td>0.750875</td>\n",
              "      <td>0.699625</td>\n",
              "      <td>0.746854</td>\n",
              "      <td>0.671271</td>\n",
              "      <td>25</td>\n",
              "    </tr>\n",
              "    <tr>\n",
              "      <th>26</th>\n",
              "      <td>0.539621</td>\n",
              "      <td>0.726433</td>\n",
              "      <td>0.667535</td>\n",
              "      <td>0.726972</td>\n",
              "      <td>0.638963</td>\n",
              "      <td>0.516115</td>\n",
              "      <td>0.747485</td>\n",
              "      <td>0.702564</td>\n",
              "      <td>0.732041</td>\n",
              "      <td>0.688180</td>\n",
              "      <td>26</td>\n",
              "    </tr>\n",
              "    <tr>\n",
              "      <th>27</th>\n",
              "      <td>0.534242</td>\n",
              "      <td>0.730206</td>\n",
              "      <td>0.669960</td>\n",
              "      <td>0.730864</td>\n",
              "      <td>0.639280</td>\n",
              "      <td>0.515807</td>\n",
              "      <td>0.744915</td>\n",
              "      <td>0.668689</td>\n",
              "      <td>0.779559</td>\n",
              "      <td>0.598286</td>\n",
              "      <td>27</td>\n",
              "    </tr>\n",
              "    <tr>\n",
              "      <th>28</th>\n",
              "      <td>0.540250</td>\n",
              "      <td>0.732885</td>\n",
              "      <td>0.672994</td>\n",
              "      <td>0.737064</td>\n",
              "      <td>0.641617</td>\n",
              "      <td>0.519577</td>\n",
              "      <td>0.737588</td>\n",
              "      <td>0.649830</td>\n",
              "      <td>0.786739</td>\n",
              "      <td>0.566890</td>\n",
              "      <td>28</td>\n",
              "    </tr>\n",
              "    <tr>\n",
              "      <th>29</th>\n",
              "      <td>0.537910</td>\n",
              "      <td>0.728073</td>\n",
              "      <td>0.668743</td>\n",
              "      <td>0.727693</td>\n",
              "      <td>0.640554</td>\n",
              "      <td>0.514809</td>\n",
              "      <td>0.748524</td>\n",
              "      <td>0.670725</td>\n",
              "      <td>0.791154</td>\n",
              "      <td>0.594715</td>\n",
              "      <td>29</td>\n",
              "    </tr>\n",
              "  </tbody>\n",
              "</table>\n",
              "</div>\n",
              "      <button class=\"colab-df-convert\" onclick=\"convertToInteractive('df-e114e8f7-44d6-4e5a-8503-fe06e5fc0ec6')\"\n",
              "              title=\"Convert this dataframe to an interactive table.\"\n",
              "              style=\"display:none;\">\n",
              "        \n",
              "  <svg xmlns=\"http://www.w3.org/2000/svg\" height=\"24px\"viewBox=\"0 0 24 24\"\n",
              "       width=\"24px\">\n",
              "    <path d=\"M0 0h24v24H0V0z\" fill=\"none\"/>\n",
              "    <path d=\"M18.56 5.44l.94 2.06.94-2.06 2.06-.94-2.06-.94-.94-2.06-.94 2.06-2.06.94zm-11 1L8.5 8.5l.94-2.06 2.06-.94-2.06-.94L8.5 2.5l-.94 2.06-2.06.94zm10 10l.94 2.06.94-2.06 2.06-.94-2.06-.94-.94-2.06-.94 2.06-2.06.94z\"/><path d=\"M17.41 7.96l-1.37-1.37c-.4-.4-.92-.59-1.43-.59-.52 0-1.04.2-1.43.59L10.3 9.45l-7.72 7.72c-.78.78-.78 2.05 0 2.83L4 21.41c.39.39.9.59 1.41.59.51 0 1.02-.2 1.41-.59l7.78-7.78 2.81-2.81c.8-.78.8-2.07 0-2.86zM5.41 20L4 18.59l7.72-7.72 1.47 1.35L5.41 20z\"/>\n",
              "  </svg>\n",
              "      </button>\n",
              "      \n",
              "  <style>\n",
              "    .colab-df-container {\n",
              "      display:flex;\n",
              "      flex-wrap:wrap;\n",
              "      gap: 12px;\n",
              "    }\n",
              "\n",
              "    .colab-df-convert {\n",
              "      background-color: #E8F0FE;\n",
              "      border: none;\n",
              "      border-radius: 50%;\n",
              "      cursor: pointer;\n",
              "      display: none;\n",
              "      fill: #1967D2;\n",
              "      height: 32px;\n",
              "      padding: 0 0 0 0;\n",
              "      width: 32px;\n",
              "    }\n",
              "\n",
              "    .colab-df-convert:hover {\n",
              "      background-color: #E2EBFA;\n",
              "      box-shadow: 0px 1px 2px rgba(60, 64, 67, 0.3), 0px 1px 3px 1px rgba(60, 64, 67, 0.15);\n",
              "      fill: #174EA6;\n",
              "    }\n",
              "\n",
              "    [theme=dark] .colab-df-convert {\n",
              "      background-color: #3B4455;\n",
              "      fill: #D2E3FC;\n",
              "    }\n",
              "\n",
              "    [theme=dark] .colab-df-convert:hover {\n",
              "      background-color: #434B5C;\n",
              "      box-shadow: 0px 1px 3px 1px rgba(0, 0, 0, 0.15);\n",
              "      filter: drop-shadow(0px 1px 2px rgba(0, 0, 0, 0.3));\n",
              "      fill: #FFFFFF;\n",
              "    }\n",
              "  </style>\n",
              "\n",
              "      <script>\n",
              "        const buttonEl =\n",
              "          document.querySelector('#df-e114e8f7-44d6-4e5a-8503-fe06e5fc0ec6 button.colab-df-convert');\n",
              "        buttonEl.style.display =\n",
              "          google.colab.kernel.accessAllowed ? 'block' : 'none';\n",
              "\n",
              "        async function convertToInteractive(key) {\n",
              "          const element = document.querySelector('#df-e114e8f7-44d6-4e5a-8503-fe06e5fc0ec6');\n",
              "          const dataTable =\n",
              "            await google.colab.kernel.invokeFunction('convertToInteractive',\n",
              "                                                     [key], {});\n",
              "          if (!dataTable) return;\n",
              "\n",
              "          const docLinkHtml = 'Like what you see? Visit the ' +\n",
              "            '<a target=\"_blank\" href=https://colab.research.google.com/notebooks/data_table.ipynb>data table notebook</a>'\n",
              "            + ' to learn more about interactive tables.';\n",
              "          element.innerHTML = '';\n",
              "          dataTable['output_type'] = 'display_data';\n",
              "          await google.colab.output.renderOutput(dataTable, element);\n",
              "          const docLink = document.createElement('div');\n",
              "          docLink.innerHTML = docLinkHtml;\n",
              "          element.appendChild(docLink);\n",
              "        }\n",
              "      </script>\n",
              "    </div>\n",
              "  </div>\n",
              "  "
            ]
          },
          "metadata": {},
          "execution_count": 51
        }
      ]
    },
    {
      "cell_type": "code",
      "source": [
        "from matplotlib import pyplot as plt\n",
        "plt.plot(history.history['accuracy'])\n",
        "plt.plot(history.history['val_accuracy'])\n",
        "plt.title('model accuracy')\n",
        "plt.ylabel('accuracy')\n",
        "plt.xlabel('epoch')\n",
        "plt.legend(['Train', 'Cross-Validation'], loc='upper left')\n",
        "plt.show()"
      ],
      "metadata": {
        "colab": {
          "base_uri": "https://localhost:8080/",
          "height": 295
        },
        "id": "IMN81yamUuQP",
        "outputId": "95b2d48d-050e-4f96-bdb5-2fd3014cbc1b"
      },
      "execution_count": 52,
      "outputs": [
        {
          "output_type": "display_data",
          "data": {
            "text/plain": [
              "<Figure size 432x288 with 1 Axes>"
            ],
            "image/png": "[encoded data removed]"
          },
          "metadata": {
            "needs_background": "light"
          }
        }
      ]
    },
    {
      "cell_type": "code",
      "source": [
        "plt.plot(history.history['loss'])\n",
        "plt.plot(history.history['val_loss'])\n",
        "plt.title('Model Loss')\n",
        "plt.ylabel('Loss')\n",
        "plt.xlabel('epoch')\n",
        "plt.legend(['Train', 'Cross-Validation'], loc='upper left')\n",
        "plt.show()"
      ],
      "metadata": {
        "colab": {
          "base_uri": "https://localhost:8080/",
          "height": 295
        },
        "id": "hwXmFgUQUxry",
        "outputId": "7d45f44f-eb50-40e9-dc80-5b9c160ff7c0"
      },
      "execution_count": 53,
      "outputs": [
        {
          "output_type": "display_data",
          "data": {
            "text/plain": [
              "<Figure size 432x288 with 1 Axes>"
            ],
            "image/png": "[encoded data removed]"
          },
          "metadata": {
            "needs_background": "light"
          }
        }
      ]
    },
    {
      "cell_type": "code",
      "source": [
        "y_pred=model.predict(X_test)\n",
        "mse=mean_squared_error(y_test,y_pred)\n",
        "mae=mean_absolute_error(y_test,y_pred)\n",
        "rmse=np.sqrt(mean_squared_error(y_test,y_pred))"
      ],
      "metadata": {
        "id": "p2ZeejAkUz9d"
      },
      "execution_count": 54,
      "outputs": []
    },
    {
      "cell_type": "code",
      "source": [
        "print('the model performance')\n",
        "print('------------------------------')\n",
        "print('MSE is {}'.format(mse))\n",
        "print('MAE is {}'.format(mae))\n",
        "print('RMSE is {}'.format(rmse))"
      ],
      "metadata": {
        "colab": {
          "base_uri": "https://localhost:8080/"
        },
        "id": "zdVB5xgfU159",
        "outputId": "ca7ae5ae-3055-4058-9758-08b0c1800f77"
      },
      "execution_count": 55,
      "outputs": [
        {
          "output_type": "stream",
          "name": "stdout",
          "text": [
            "the model performance\n",
            "------------------------------\n",
            "MSE is 0.1775887212034968\n",
            "MAE is 0.3632668846780605\n",
            "RMSE is 0.42141276820179147\n"
          ]
        }
      ]
    },
    {
      "cell_type": "code",
      "source": [
        "from sklearn.metrics import confusion_matrix\n",
        "\n",
        "\n",
        "ax= plt.subplot()\n",
        "predict_results = model.predict(X_test)\n",
        "\n",
        "predict_results = (predict_results > 0.5)\n",
        "\n",
        "cm = confusion_matrix(y_test, predict_results)\n",
        "\n",
        "sns.heatmap(cm, annot=True, ax = ax); \n",
        "\n",
        "\n",
        "ax.set_xlabel('Predicted labels');ax.set_ylabel('True labels'); \n",
        "ax.set_title('Confusion Matrix'); \n",
        "ax.xaxis.set_ticklabels(['Positive', 'Negative']); ax.yaxis.set_ticklabels(['Positive', 'Negative']);"
      ],
      "metadata": {
        "colab": {
          "base_uri": "https://localhost:8080/",
          "height": 295
        },
        "id": "zhzeCuTBVIvV",
        "outputId": "b682b491-f00d-4b18-e41c-8304072645f3"
      },
      "execution_count": 56,
      "outputs": [
        {
          "output_type": "display_data",
          "data": {
            "text/plain": [
              "<Figure size 432x288 with 2 Axes>"
            ],
            "image/png": "[encoded data removed]"
          },
          "metadata": {
            "needs_background": "light"
          }
        }
      ]
    },
    {
      "cell_type": "code",
      "source": [
        ""
      ],
      "metadata": {
        "id": "VP0bGDnyVLaq"
      },
      "execution_count": null,
      "outputs": []
    },
    {
      "cell_type": "code",
      "source": [
        ""
      ],
      "metadata": {
        "id": "qKv36vkXVM2W"
      },
      "execution_count": null,
      "outputs": []
    },
    {
      "cell_type": "code",
      "source": [
        ""
      ],
      "metadata": {
        "id": "Id6pEzPMVMqe"
      },
      "execution_count": null,
      "outputs": []
    },
    {
      "cell_type": "markdown",
      "source": [
        "MLP"
      ],
      "metadata": {
        "id": "ArSrB0irVNY8"
      }
    },
    {
      "cell_type": "code",
      "source": [
        "train_data,y_train=np.asarray(train_data),np.asarray(y_train)\n",
        "test_data,y_test=np.asarray(test_data),np.asarray(y_test)"
      ],
      "metadata": {
        "id": "A8zNSXMTVOw-"
      },
      "execution_count": 57,
      "outputs": []
    },
    {
      "cell_type": "code",
      "source": [
        "print(train_data.shape) \n",
        "print(test_data.shape) \n",
        "print(y_train.shape) \n",
        "print(y_test.shape) "
      ],
      "metadata": {
        "colab": {
          "base_uri": "https://localhost:8080/"
        },
        "id": "9NSdLXsfVRbE",
        "outputId": "b232ed16-221d-427a-bf65-d43b20fe062e"
      },
      "execution_count": 58,
      "outputs": [
        {
          "output_type": "stream",
          "name": "stdout",
          "text": [
            "(18288, 50000)\n",
            "(4572, 50000)\n",
            "(18288,)\n",
            "(4572,)\n"
          ]
        }
      ]
    },
    {
      "cell_type": "code",
      "source": [
        "#import libraries\n",
        "import tensorflow as tf\n",
        "from tensorflow import keras\n",
        "from tensorflow.keras.models import Sequential\n",
        "from tensorflow.keras.layers import Activation, Dense, BatchNormalization, Dropout\n",
        "from tensorflow.keras import optimizers\n",
        "from tensorflow.keras.metrics import binary_crossentropy"
      ],
      "metadata": {
        "id": "KFMaPWjlVTPK"
      },
      "execution_count": 59,
      "outputs": []
    },
    {
      "cell_type": "code",
      "source": [
        "max_words=50000\n",
        "EPOCHS = 5\n",
        "batch_size = 16 "
      ],
      "metadata": {
        "id": "_fKgPRZpVVMc"
      },
      "execution_count": 60,
      "outputs": []
    },
    {
      "cell_type": "code",
      "source": [
        "from keras import backend as K\n",
        "\n",
        "def recall_m(y_true, y_pred):\n",
        "    true_positives = K.sum(K.round(K.clip(y_true * y_pred, 0, 1)))\n",
        "    possible_positives = K.sum(K.round(K.clip(y_true, 0, 1)))\n",
        "    recall = true_positives / (possible_positives + K.epsilon())\n",
        "    return recall\n",
        "\n",
        "def precision_m(y_true, y_pred):\n",
        "    true_positives = K.sum(K.round(K.clip(y_true * y_pred, 0, 1)))\n",
        "    predicted_positives = K.sum(K.round(K.clip(y_pred, 0, 1)))\n",
        "    precision = true_positives / (predicted_positives + K.epsilon())\n",
        "    return precision\n",
        "\n",
        "def f1_m(y_true, y_pred):\n",
        "    precision = precision_m(y_true, y_pred)\n",
        "    recall = recall_m(y_true, y_pred)\n",
        "    return 2*((precision*recall)/(precision+recall+K.epsilon()))"
      ],
      "metadata": {
        "id": "8OLTWKhxVW6p"
      },
      "execution_count": 61,
      "outputs": []
    },
    {
      "cell_type": "code",
      "source": [
        "model = Sequential()\n",
        "   \n",
        "model.add(Dense(50,input_shape=(max_words,),activation='relu'))\n",
        "model.add(Dropout(0.2))\n",
        "    \n",
        "model.add(Dense(100,activation='relu'))\n",
        "model.add(Dropout(0.3))\n",
        "    \n",
        "model.add(Dense(150,activation='relu'))\n",
        "model.add(Dropout(0.4))\n",
        "    \n",
        "model.add(Dense(200,activation='relu'))\n",
        "model.add(Dropout(0.5))\n",
        "    \n",
        "model.add(Dense(1,activation='sigmoid'))\n",
        "    \n",
        "model.compile(loss='binary_crossentropy',optimizer='adam',metrics=['accuracy',f1_m,precision_m, recall_m])\n",
        "    \n",
        "model.summary()"
      ],
      "metadata": {
        "colab": {
          "base_uri": "https://localhost:8080/"
        },
        "id": "xSRHL1rGVZMZ",
        "outputId": "08265e0d-8635-4e4d-f716-aff9e4d685f8"
      },
      "execution_count": 62,
      "outputs": [
        {
          "output_type": "stream",
          "name": "stdout",
          "text": [
            "Model: \"sequential\"\n",
            "_________________________________________________________________\n",
            " Layer (type)                Output Shape              Param #   \n",
            "=================================================================\n",
            " dense (Dense)               (None, 50)                2500050   \n",
            "                                                                 \n",
            " dropout (Dropout)           (None, 50)                0         \n",
            "                                                                 \n",
            " dense_1 (Dense)             (None, 100)               5100      \n",
            "                                                                 \n",
            " dropout_1 (Dropout)         (None, 100)               0         \n",
            "                                                                 \n",
            " dense_2 (Dense)             (None, 150)               15150     \n",
            "                                                                 \n",
            " dropout_2 (Dropout)         (None, 150)               0         \n",
            "                                                                 \n",
            " dense_3 (Dense)             (None, 200)               30200     \n",
            "                                                                 \n",
            " dropout_3 (Dropout)         (None, 200)               0         \n",
            "                                                                 \n",
            " dense_4 (Dense)             (None, 1)                 201       \n",
            "                                                                 \n",
            "=================================================================\n",
            "Total params: 2,550,701\n",
            "Trainable params: 2,550,701\n",
            "Non-trainable params: 0\n",
            "_________________________________________________________________\n"
          ]
        }
      ]
    },
    {
      "cell_type": "code",
      "source": [
        "history = model.fit(train_data, y_train,epochs=30,validation_data = (train_data, y_train))\n"
      ],
      "metadata": {
        "colab": {
          "base_uri": "https://localhost:8080/"
        },
        "id": "XewjjQXdVbXJ",
        "outputId": "eb5ef70e-3647-4d90-8c8d-070c9abf1599"
      },
      "execution_count": 63,
      "outputs": [
        {
          "output_type": "stream",
          "name": "stdout",
          "text": [
            "Epoch 1/30\n",
            "572/572 [==============================] - 11s 18ms/step - loss: 0.3662 - accuracy: 0.8510 - f1_m: 0.7867 - precision_m: 0.8150 - recall_m: 0.7732 - val_loss: 0.1780 - val_accuracy: 0.9431 - val_f1_m: 0.9339 - val_precision_m: 0.9461 - val_recall_m: 0.9261\n",
            "Epoch 2/30\n",
            "572/572 [==============================] - 6s 10ms/step - loss: 0.1705 - accuracy: 0.9388 - f1_m: 0.9280 - precision_m: 0.9359 - recall_m: 0.9250 - val_loss: 0.0671 - val_accuracy: 0.9772 - val_f1_m: 0.9742 - val_precision_m: 0.9737 - val_recall_m: 0.9765\n",
            "Epoch 3/30\n",
            "572/572 [==============================] - 6s 10ms/step - loss: 0.0726 - accuracy: 0.9754 - f1_m: 0.9713 - precision_m: 0.9683 - recall_m: 0.9765 - val_loss: 0.0320 - val_accuracy: 0.9879 - val_f1_m: 0.9862 - val_precision_m: 0.9768 - val_recall_m: 0.9968\n",
            "Epoch 4/30\n",
            "572/572 [==============================] - 6s 10ms/step - loss: 0.0415 - accuracy: 0.9850 - f1_m: 0.9825 - precision_m: 0.9786 - recall_m: 0.9876 - val_loss: 0.0200 - val_accuracy: 0.9914 - val_f1_m: 0.9901 - val_precision_m: 0.9878 - val_recall_m: 0.9930\n",
            "Epoch 5/30\n",
            "572/572 [==============================] - 6s 10ms/step - loss: 0.0284 - accuracy: 0.9876 - f1_m: 0.9853 - precision_m: 0.9836 - recall_m: 0.9881 - val_loss: 0.0150 - val_accuracy: 0.9925 - val_f1_m: 0.9913 - val_precision_m: 0.9904 - val_recall_m: 0.9928\n",
            "Epoch 6/30\n",
            "572/572 [==============================] - 6s 10ms/step - loss: 0.0225 - accuracy: 0.9896 - f1_m: 0.9881 - precision_m: 0.9855 - recall_m: 0.9915 - val_loss: 0.0159 - val_accuracy: 0.9919 - val_f1_m: 0.9907 - val_precision_m: 0.9844 - val_recall_m: 0.9977\n",
            "Epoch 7/30\n",
            "572/572 [==============================] - 5s 10ms/step - loss: 0.0214 - accuracy: 0.9890 - f1_m: 0.9870 - precision_m: 0.9849 - recall_m: 0.9901 - val_loss: 0.0136 - val_accuracy: 0.9932 - val_f1_m: 0.9921 - val_precision_m: 0.9907 - val_recall_m: 0.9940\n",
            "Epoch 8/30\n",
            "572/572 [==============================] - 6s 10ms/step - loss: 0.0225 - accuracy: 0.9902 - f1_m: 0.9886 - precision_m: 0.9869 - recall_m: 0.9912 - val_loss: 0.0140 - val_accuracy: 0.9929 - val_f1_m: 0.9918 - val_precision_m: 0.9873 - val_recall_m: 0.9968\n",
            "Epoch 9/30\n",
            "572/572 [==============================] - 6s 10ms/step - loss: 0.0195 - accuracy: 0.9915 - f1_m: 0.9904 - precision_m: 0.9869 - recall_m: 0.9946 - val_loss: 0.0130 - val_accuracy: 0.9936 - val_f1_m: 0.9925 - val_precision_m: 0.9898 - val_recall_m: 0.9958\n",
            "Epoch 10/30\n",
            "572/572 [==============================] - 6s 10ms/step - loss: 0.0185 - accuracy: 0.9922 - f1_m: 0.9907 - precision_m: 0.9888 - recall_m: 0.9932 - val_loss: 0.0128 - val_accuracy: 0.9934 - val_f1_m: 0.9923 - val_precision_m: 0.9879 - val_recall_m: 0.9972\n",
            "Epoch 11/30\n",
            "572/572 [==============================] - 6s 10ms/step - loss: 0.0183 - accuracy: 0.9917 - f1_m: 0.9903 - precision_m: 0.9875 - recall_m: 0.9939 - val_loss: 0.0123 - val_accuracy: 0.9943 - val_f1_m: 0.9934 - val_precision_m: 0.9930 - val_recall_m: 0.9944\n",
            "Epoch 12/30\n",
            "572/572 [==============================] - 6s 10ms/step - loss: 0.0177 - accuracy: 0.9919 - f1_m: 0.9905 - precision_m: 0.9881 - recall_m: 0.9936 - val_loss: 0.0123 - val_accuracy: 0.9929 - val_f1_m: 0.9918 - val_precision_m: 0.9844 - val_recall_m: 0.9999\n",
            "Epoch 13/30\n",
            "572/572 [==============================] - 6s 10ms/step - loss: 0.0187 - accuracy: 0.9920 - f1_m: 0.9909 - precision_m: 0.9877 - recall_m: 0.9947 - val_loss: 0.0121 - val_accuracy: 0.9934 - val_f1_m: 0.9923 - val_precision_m: 0.9866 - val_recall_m: 0.9985\n",
            "Epoch 14/30\n",
            "572/572 [==============================] - 6s 10ms/step - loss: 0.0178 - accuracy: 0.9919 - f1_m: 0.9905 - precision_m: 0.9880 - recall_m: 0.9937 - val_loss: 0.0118 - val_accuracy: 0.9943 - val_f1_m: 0.9936 - val_precision_m: 0.9930 - val_recall_m: 0.9946\n",
            "Epoch 15/30\n",
            "572/572 [==============================] - 6s 10ms/step - loss: 0.0165 - accuracy: 0.9921 - f1_m: 0.9910 - precision_m: 0.9880 - recall_m: 0.9945 - val_loss: 0.0115 - val_accuracy: 0.9941 - val_f1_m: 0.9932 - val_precision_m: 0.9895 - val_recall_m: 0.9974\n",
            "Epoch 16/30\n",
            "572/572 [==============================] - 6s 10ms/step - loss: 0.0166 - accuracy: 0.9931 - f1_m: 0.9921 - precision_m: 0.9896 - recall_m: 0.9953 - val_loss: 0.0117 - val_accuracy: 0.9937 - val_f1_m: 0.9927 - val_precision_m: 0.9865 - val_recall_m: 0.9994\n",
            "Epoch 17/30\n",
            "572/572 [==============================] - 6s 10ms/step - loss: 0.0159 - accuracy: 0.9933 - f1_m: 0.9923 - precision_m: 0.9886 - recall_m: 0.9967 - val_loss: 0.0108 - val_accuracy: 0.9945 - val_f1_m: 0.9935 - val_precision_m: 0.9886 - val_recall_m: 0.9990\n",
            "Epoch 18/30\n",
            "572/572 [==============================] - 6s 10ms/step - loss: 0.0158 - accuracy: 0.9926 - f1_m: 0.9917 - precision_m: 0.9879 - recall_m: 0.9961 - val_loss: 0.0108 - val_accuracy: 0.9945 - val_f1_m: 0.9936 - val_precision_m: 0.9899 - val_recall_m: 0.9979\n",
            "Epoch 19/30\n",
            "572/572 [==============================] - 6s 10ms/step - loss: 0.0144 - accuracy: 0.9928 - f1_m: 0.9919 - precision_m: 0.9898 - recall_m: 0.9945 - val_loss: 0.0104 - val_accuracy: 0.9944 - val_f1_m: 0.9935 - val_precision_m: 0.9883 - val_recall_m: 0.9992\n",
            "Epoch 20/30\n",
            "572/572 [==============================] - 6s 10ms/step - loss: 0.0153 - accuracy: 0.9932 - f1_m: 0.9920 - precision_m: 0.9885 - recall_m: 0.9961 - val_loss: 0.0103 - val_accuracy: 0.9947 - val_f1_m: 0.9940 - val_precision_m: 0.9921 - val_recall_m: 0.9963\n",
            "Epoch 21/30\n",
            "572/572 [==============================] - 6s 10ms/step - loss: 0.0144 - accuracy: 0.9931 - f1_m: 0.9920 - precision_m: 0.9888 - recall_m: 0.9958 - val_loss: 0.0104 - val_accuracy: 0.9944 - val_f1_m: 0.9936 - val_precision_m: 0.9897 - val_recall_m: 0.9979\n",
            "Epoch 22/30\n",
            "572/572 [==============================] - 6s 11ms/step - loss: 0.0141 - accuracy: 0.9931 - f1_m: 0.9920 - precision_m: 0.9887 - recall_m: 0.9958 - val_loss: 0.0099 - val_accuracy: 0.9946 - val_f1_m: 0.9939 - val_precision_m: 0.9886 - val_recall_m: 0.9997\n",
            "Epoch 23/30\n",
            "572/572 [==============================] - 6s 11ms/step - loss: 0.0127 - accuracy: 0.9937 - f1_m: 0.9923 - precision_m: 0.9884 - recall_m: 0.9970 - val_loss: 0.0100 - val_accuracy: 0.9943 - val_f1_m: 0.9934 - val_precision_m: 0.9881 - val_recall_m: 0.9992\n",
            "Epoch 24/30\n",
            "572/572 [==============================] - 6s 11ms/step - loss: 0.0157 - accuracy: 0.9937 - f1_m: 0.9929 - precision_m: 0.9886 - recall_m: 0.9977 - val_loss: 0.0096 - val_accuracy: 0.9950 - val_f1_m: 0.9943 - val_precision_m: 0.9908 - val_recall_m: 0.9982\n",
            "Epoch 25/30\n",
            "572/572 [==============================] - 6s 10ms/step - loss: 0.0130 - accuracy: 0.9939 - f1_m: 0.9930 - precision_m: 0.9894 - recall_m: 0.9971 - val_loss: 0.0096 - val_accuracy: 0.9947 - val_f1_m: 0.9939 - val_precision_m: 0.9894 - val_recall_m: 0.9989\n",
            "Epoch 26/30\n",
            "572/572 [==============================] - 6s 10ms/step - loss: 0.0140 - accuracy: 0.9939 - f1_m: 0.9930 - precision_m: 0.9893 - recall_m: 0.9971 - val_loss: 0.0097 - val_accuracy: 0.9949 - val_f1_m: 0.9942 - val_precision_m: 0.9909 - val_recall_m: 0.9978\n",
            "Epoch 27/30\n",
            "572/572 [==============================] - 6s 10ms/step - loss: 0.0143 - accuracy: 0.9934 - f1_m: 0.9922 - precision_m: 0.9889 - recall_m: 0.9961 - val_loss: 0.0101 - val_accuracy: 0.9949 - val_f1_m: 0.9941 - val_precision_m: 0.9892 - val_recall_m: 0.9995\n",
            "Epoch 28/30\n",
            "572/572 [==============================] - 6s 10ms/step - loss: 0.0119 - accuracy: 0.9938 - f1_m: 0.9930 - precision_m: 0.9884 - recall_m: 0.9981 - val_loss: 0.0104 - val_accuracy: 0.9948 - val_f1_m: 0.9940 - val_precision_m: 0.9901 - val_recall_m: 0.9984\n",
            "Epoch 29/30\n",
            "572/572 [==============================] - 6s 10ms/step - loss: 0.0122 - accuracy: 0.9935 - f1_m: 0.9925 - precision_m: 0.9895 - recall_m: 0.9961 - val_loss: 0.0095 - val_accuracy: 0.9949 - val_f1_m: 0.9943 - val_precision_m: 0.9915 - val_recall_m: 0.9976\n",
            "Epoch 30/30\n",
            "572/572 [==============================] - 6s 10ms/step - loss: 0.0137 - accuracy: 0.9941 - f1_m: 0.9931 - precision_m: 0.9903 - recall_m: 0.9964 - val_loss: 0.0092 - val_accuracy: 0.9945 - val_f1_m: 0.9936 - val_precision_m: 0.9882 - val_recall_m: 0.9995\n"
          ]
        }
      ]
    },
    {
      "cell_type": "code",
      "source": [
        "print('Summary of the results after each epoch: ')\n",
        "hist = pd.DataFrame(history.history)\n",
        "hist['epoch'] = history.epoch\n",
        "hist.tail()"
      ],
      "metadata": {
        "colab": {
          "base_uri": "https://localhost:8080/",
          "height": 288
        },
        "id": "fCwhWCElVd8E",
        "outputId": "e8e175de-af85-4f06-e6b5-dae98d50dbd1"
      },
      "execution_count": 64,
      "outputs": [
        {
          "output_type": "stream",
          "name": "stdout",
          "text": [
            "Summary of the results after each epoch: \n"
          ]
        },
        {
          "output_type": "execute_result",
          "data": {
            "text/plain": [
              "        loss  accuracy      f1_m  precision_m  recall_m  val_loss  \\\n",
              "25  0.014050  0.993876  0.992952     0.989292  0.997129  0.009679   \n",
              "26  0.014321  0.993384  0.992192     0.988867  0.996148  0.010138   \n",
              "27  0.011898  0.993766  0.992966     0.988410  0.998146  0.010359   \n",
              "28  0.012155  0.993493  0.992535     0.989538  0.996081  0.009549   \n",
              "29  0.013709  0.994094  0.993088     0.990285  0.996420  0.009246   \n",
              "\n",
              "    val_accuracy  val_f1_m  val_precision_m  val_recall_m  epoch  \n",
              "25      0.994915  0.994164         0.990921      0.997834     25  \n",
              "26      0.994915  0.994143         0.989195      0.999543     26  \n",
              "27      0.994751  0.994017         0.990061      0.998406     27  \n",
              "28      0.994915  0.994321         0.991468      0.997576     28  \n",
              "29      0.994477  0.993601         0.988221      0.999511     29  "
            ],
            "text/html": [
              "\n",
              "  <div id=\"df-9a4a6bc5-e0d9-4006-ad4b-04a5d7790f74\">\n",
              "    <div class=\"colab-df-container\">\n",
              "      <div>\n",
              "<style scoped>\n",
              "    .dataframe tbody tr th:only-of-type {\n",
              "        vertical-align: middle;\n",
              "    }\n",
              "\n",
              "    .dataframe tbody tr th {\n",
              "        vertical-align: top;\n",
              "    }\n",
              "\n",
              "    .dataframe thead th {\n",
              "        text-align: right;\n",
              "    }\n",
              "</style>\n",
              "<table border=\"1\" class=\"dataframe\">\n",
              "  <thead>\n",
              "    <tr style=\"text-align: right;\">\n",
              "      <th></th>\n",
              "      <th>loss</th>\n",
              "      <th>accuracy</th>\n",
              "      <th>f1_m</th>\n",
              "      <th>precision_m</th>\n",
              "      <th>recall_m</th>\n",
              "      <th>val_loss</th>\n",
              "      <th>val_accuracy</th>\n",
              "      <th>val_f1_m</th>\n",
              "      <th>val_precision_m</th>\n",
              "      <th>val_recall_m</th>\n",
              "      <th>epoch</th>\n",
              "    </tr>\n",
              "  </thead>\n",
              "  <tbody>\n",
              "    <tr>\n",
              "      <th>25</th>\n",
              "      <td>0.014050</td>\n",
              "      <td>0.993876</td>\n",
              "      <td>0.992952</td>\n",
              "      <td>0.989292</td>\n",
              "      <td>0.997129</td>\n",
              "      <td>0.009679</td>\n",
              "      <td>0.994915</td>\n",
              "      <td>0.994164</td>\n",
              "      <td>0.990921</td>\n",
              "      <td>0.997834</td>\n",
              "      <td>25</td>\n",
              "    </tr>\n",
              "    <tr>\n",
              "      <th>26</th>\n",
              "      <td>0.014321</td>\n",
              "      <td>0.993384</td>\n",
              "      <td>0.992192</td>\n",
              "      <td>0.988867</td>\n",
              "      <td>0.996148</td>\n",
              "      <td>0.010138</td>\n",
              "      <td>0.994915</td>\n",
              "      <td>0.994143</td>\n",
              "      <td>0.989195</td>\n",
              "      <td>0.999543</td>\n",
              "      <td>26</td>\n",
              "    </tr>\n",
              "    <tr>\n",
              "      <th>27</th>\n",
              "      <td>0.011898</td>\n",
              "      <td>0.993766</td>\n",
              "      <td>0.992966</td>\n",
              "      <td>0.988410</td>\n",
              "      <td>0.998146</td>\n",
              "      <td>0.010359</td>\n",
              "      <td>0.994751</td>\n",
              "      <td>0.994017</td>\n",
              "      <td>0.990061</td>\n",
              "      <td>0.998406</td>\n",
              "      <td>27</td>\n",
              "    </tr>\n",
              "    <tr>\n",
              "      <th>28</th>\n",
              "      <td>0.012155</td>\n",
              "      <td>0.993493</td>\n",
              "      <td>0.992535</td>\n",
              "      <td>0.989538</td>\n",
              "      <td>0.996081</td>\n",
              "      <td>0.009549</td>\n",
              "      <td>0.994915</td>\n",
              "      <td>0.994321</td>\n",
              "      <td>0.991468</td>\n",
              "      <td>0.997576</td>\n",
              "      <td>28</td>\n",
              "    </tr>\n",
              "    <tr>\n",
              "      <th>29</th>\n",
              "      <td>0.013709</td>\n",
              "      <td>0.994094</td>\n",
              "      <td>0.993088</td>\n",
              "      <td>0.990285</td>\n",
              "      <td>0.996420</td>\n",
              "      <td>0.009246</td>\n",
              "      <td>0.994477</td>\n",
              "      <td>0.993601</td>\n",
              "      <td>0.988221</td>\n",
              "      <td>0.999511</td>\n",
              "      <td>29</td>\n",
              "    </tr>\n",
              "  </tbody>\n",
              "</table>\n",
              "</div>\n",
              "      <button class=\"colab-df-convert\" onclick=\"convertToInteractive('df-9a4a6bc5-e0d9-4006-ad4b-04a5d7790f74')\"\n",
              "              title=\"Convert this dataframe to an interactive table.\"\n",
              "              style=\"display:none;\">\n",
              "        \n",
              "  <svg xmlns=\"http://www.w3.org/2000/svg\" height=\"24px\"viewBox=\"0 0 24 24\"\n",
              "       width=\"24px\">\n",
              "    <path d=\"M0 0h24v24H0V0z\" fill=\"none\"/>\n",
              "    <path d=\"M18.56 5.44l.94 2.06.94-2.06 2.06-.94-2.06-.94-.94-2.06-.94 2.06-2.06.94zm-11 1L8.5 8.5l.94-2.06 2.06-.94-2.06-.94L8.5 2.5l-.94 2.06-2.06.94zm10 10l.94 2.06.94-2.06 2.06-.94-2.06-.94-.94-2.06-.94 2.06-2.06.94z\"/><path d=\"M17.41 7.96l-1.37-1.37c-.4-.4-.92-.59-1.43-.59-.52 0-1.04.2-1.43.59L10.3 9.45l-7.72 7.72c-.78.78-.78 2.05 0 2.83L4 21.41c.39.39.9.59 1.41.59.51 0 1.02-.2 1.41-.59l7.78-7.78 2.81-2.81c.8-.78.8-2.07 0-2.86zM5.41 20L4 18.59l7.72-7.72 1.47 1.35L5.41 20z\"/>\n",
              "  </svg>\n",
              "      </button>\n",
              "      \n",
              "  <style>\n",
              "    .colab-df-container {\n",
              "      display:flex;\n",
              "      flex-wrap:wrap;\n",
              "      gap: 12px;\n",
              "    }\n",
              "\n",
              "    .colab-df-convert {\n",
              "      background-color: #E8F0FE;\n",
              "      border: none;\n",
              "      border-radius: 50%;\n",
              "      cursor: pointer;\n",
              "      display: none;\n",
              "      fill: #1967D2;\n",
              "      height: 32px;\n",
              "      padding: 0 0 0 0;\n",
              "      width: 32px;\n",
              "    }\n",
              "\n",
              "    .colab-df-convert:hover {\n",
              "      background-color: #E2EBFA;\n",
              "      box-shadow: 0px 1px 2px rgba(60, 64, 67, 0.3), 0px 1px 3px 1px rgba(60, 64, 67, 0.15);\n",
              "      fill: #174EA6;\n",
              "    }\n",
              "\n",
              "    [theme=dark] .colab-df-convert {\n",
              "      background-color: #3B4455;\n",
              "      fill: #D2E3FC;\n",
              "    }\n",
              "\n",
              "    [theme=dark] .colab-df-convert:hover {\n",
              "      background-color: #434B5C;\n",
              "      box-shadow: 0px 1px 3px 1px rgba(0, 0, 0, 0.15);\n",
              "      filter: drop-shadow(0px 1px 2px rgba(0, 0, 0, 0.3));\n",
              "      fill: #FFFFFF;\n",
              "    }\n",
              "  </style>\n",
              "\n",
              "      <script>\n",
              "        const buttonEl =\n",
              "          document.querySelector('#df-9a4a6bc5-e0d9-4006-ad4b-04a5d7790f74 button.colab-df-convert');\n",
              "        buttonEl.style.display =\n",
              "          google.colab.kernel.accessAllowed ? 'block' : 'none';\n",
              "\n",
              "        async function convertToInteractive(key) {\n",
              "          const element = document.querySelector('#df-9a4a6bc5-e0d9-4006-ad4b-04a5d7790f74');\n",
              "          const dataTable =\n",
              "            await google.colab.kernel.invokeFunction('convertToInteractive',\n",
              "                                                     [key], {});\n",
              "          if (!dataTable) return;\n",
              "\n",
              "          const docLinkHtml = 'Like what you see? Visit the ' +\n",
              "            '<a target=\"_blank\" href=https://colab.research.google.com/notebooks/data_table.ipynb>data table notebook</a>'\n",
              "            + ' to learn more about interactive tables.';\n",
              "          element.innerHTML = '';\n",
              "          dataTable['output_type'] = 'display_data';\n",
              "          await google.colab.output.renderOutput(dataTable, element);\n",
              "          const docLink = document.createElement('div');\n",
              "          docLink.innerHTML = docLinkHtml;\n",
              "          element.appendChild(docLink);\n",
              "        }\n",
              "      </script>\n",
              "    </div>\n",
              "  </div>\n",
              "  "
            ]
          },
          "metadata": {},
          "execution_count": 64
        }
      ]
    },
    {
      "cell_type": "code",
      "source": [
        "from matplotlib import pyplot as plt\n",
        "plt.plot(history.history['accuracy'])\n",
        "plt.plot(history.history['val_accuracy'])\n",
        "plt.title('model accuracy')\n",
        "plt.ylabel('accuracy')\n",
        "plt.xlabel('epoch')\n",
        "plt.legend(['Train', 'Cross-Validation'], loc='upper left')\n",
        "plt.show()"
      ],
      "metadata": {
        "colab": {
          "base_uri": "https://localhost:8080/",
          "height": 295
        },
        "id": "DGkwsvsWVfxP",
        "outputId": "f125488f-db59-47f9-d63d-030adb5320f3"
      },
      "execution_count": 65,
      "outputs": [
        {
          "output_type": "display_data",
          "data": {
            "text/plain": [
              "<Figure size 432x288 with 1 Axes>"
            ],
            "image/png": "[encoded data removed]"
          },
          "metadata": {
            "needs_background": "light"
          }
        }
      ]
    },
    {
      "cell_type": "code",
      "source": [
        "plt.plot(history.history['loss'])\n",
        "plt.plot(history.history['val_loss'])\n",
        "plt.title('Model Loss')\n",
        "plt.ylabel('Loss')\n",
        "plt.xlabel('epoch')\n",
        "plt.legend(['Train', 'Cross-Validation'], loc='upper left')\n",
        "plt.show()"
      ],
      "metadata": {
        "colab": {
          "base_uri": "https://localhost:8080/",
          "height": 295
        },
        "id": "0tKSIWRxVi1S",
        "outputId": "29bcfaeb-10f7-440c-c2bc-18f24087a984"
      },
      "execution_count": 66,
      "outputs": [
        {
          "output_type": "display_data",
          "data": {
            "text/plain": [
              "<Figure size 432x288 with 1 Axes>"
            ],
            "image/png": "[encoded data removed]"
          },
          "metadata": {
            "needs_background": "light"
          }
        }
      ]
    },
    {
      "cell_type": "code",
      "source": [
        "y_pred=model.predict(test_data)\n",
        "mse=mean_squared_error(y_test,y_pred)\n",
        "mae=mean_absolute_error(y_test,y_pred)\n",
        "rmse=np.sqrt(mean_squared_error(y_test,y_pred))"
      ],
      "metadata": {
        "id": "JHagAqaZVlKQ"
      },
      "execution_count": 67,
      "outputs": []
    },
    {
      "cell_type": "code",
      "source": [
        "print('the model performance')\n",
        "print('------------------------------')\n",
        "print('MSE is {}'.format(mse))\n",
        "print('MAE is {}'.format(mae))\n",
        "print('RMSE is {}'.format(rmse))"
      ],
      "metadata": {
        "colab": {
          "base_uri": "https://localhost:8080/"
        },
        "id": "2_f0EHfjVnV-",
        "outputId": "7a9563e8-edf7-4558-e045-766efb3b3edc"
      },
      "execution_count": 68,
      "outputs": [
        {
          "output_type": "stream",
          "name": "stdout",
          "text": [
            "the model performance\n",
            "------------------------------\n",
            "MSE is 0.14428237388926474\n",
            "MAE is 0.1536960796810604\n",
            "RMSE is 0.3798451972702363\n"
          ]
        }
      ]
    },
    {
      "cell_type": "code",
      "source": [
        "from sklearn.metrics import confusion_matrix\n",
        "\n",
        "\n",
        "ax= plt.subplot()\n",
        "predict_results = model.predict(test_data)\n",
        "\n",
        "predict_results = (predict_results > 0.5)\n",
        "\n",
        "cm = confusion_matrix(y_test, predict_results)\n",
        "\n",
        "sns.heatmap(cm, annot=True, ax = ax); \n",
        "\n",
        "\n",
        "ax.set_xlabel('Predicted labels');ax.set_ylabel('True labels'); \n",
        "ax.set_title('Confusion Matrix'); \n",
        "ax.xaxis.set_ticklabels(['Positive', 'Negative']); ax.yaxis.set_ticklabels(['Positive', 'Negative']);"
      ],
      "metadata": {
        "colab": {
          "base_uri": "https://localhost:8080/",
          "height": 295
        },
        "id": "5yQnNElwVqAw",
        "outputId": "638af9b8-ab14-4fea-b63e-14750af2a94e"
      },
      "execution_count": 69,
      "outputs": [
        {
          "output_type": "display_data",
          "data": {
            "text/plain": [
              "<Figure size 432x288 with 2 Axes>"
            ],
            "image/png": "[encoded data removed]"
          },
          "metadata": {
            "needs_background": "light"
          }
        }
      ]
    },
    {
      "cell_type": "code",
      "source": [
        ""
      ],
      "metadata": {
        "id": "xZfbTBrCHYD0"
      },
      "execution_count": null,
      "outputs": []
    }
  ]
}